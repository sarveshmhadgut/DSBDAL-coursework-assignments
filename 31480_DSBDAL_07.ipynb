{
 "cells": [
  {
   "cell_type": "code",
   "execution_count": 1,
   "metadata": {},
   "outputs": [],
   "source": [
    "# !pip3 install --upgrade nltk"
   ]
  },
  {
   "cell_type": "code",
   "execution_count": 2,
   "metadata": {},
   "outputs": [],
   "source": [
    "import nltk\n",
    "import string\n",
    "import math\n",
    "import pandas as pd\n",
    "from nltk.corpus import stopwords\n",
    "from nltk.tokenize import word_tokenize, sent_tokenize\n",
    "from nltk.stem import PorterStemmer, WordNetLemmatizer\n",
    "from nltk.probability import FreqDist\n",
    "from sklearn.feature_extraction.text import TfidfVectorizer"
   ]
  },
  {
   "cell_type": "code",
   "execution_count": 3,
   "metadata": {},
   "outputs": [
    {
     "name": "stderr",
     "output_type": "stream",
     "text": [
      "[nltk_data] Downloading package punkt to\n",
      "[nltk_data]     /Users/sarveshmhadgut/nltk_data...\n",
      "[nltk_data]   Package punkt is already up-to-date!\n",
      "[nltk_data] Downloading package averaged_perceptron_tagger to\n",
      "[nltk_data]     /Users/sarveshmhadgut/nltk_data...\n",
      "[nltk_data]   Package averaged_perceptron_tagger is already up-to-\n",
      "[nltk_data]       date!\n",
      "[nltk_data] Downloading package stopwords to\n",
      "[nltk_data]     /Users/sarveshmhadgut/nltk_data...\n",
      "[nltk_data]   Package stopwords is already up-to-date!\n",
      "[nltk_data] Downloading package wordnet to\n",
      "[nltk_data]     /Users/sarveshmhadgut/nltk_data...\n",
      "[nltk_data]   Package wordnet is already up-to-date!\n"
     ]
    },
    {
     "data": {
      "text/plain": [
       "True"
      ]
     },
     "execution_count": 3,
     "metadata": {},
     "output_type": "execute_result"
    }
   ],
   "source": [
    "# Download required NLTK resources\n",
    "nltk.download(\"punkt\")\n",
    "nltk.download(\"averaged_perceptron_tagger\")\n",
    "nltk.download(\"stopwords\")\n",
    "nltk.download(\"wordnet\")"
   ]
  },
  {
   "cell_type": "code",
   "execution_count": 4,
   "metadata": {},
   "outputs": [],
   "source": [
    "# Load document\n",
    "with open(\"./datasets/doc_01.txt\", \"r\", encoding=\"utf-8\") as file:\n",
    "    text = file.read()"
   ]
  },
  {
   "cell_type": "code",
   "execution_count": 5,
   "metadata": {},
   "outputs": [
    {
     "name": "stdout",
     "output_type": "stream",
     "text": [
      "between 2016 and 2019, the state forest department under thebjpgovernment had launched green maharashtra drive with an aim to plant 50 crore trees across the state in the four-year period. in october 2019, the government had claimed it had surpassed the target by planting 33 crore trees in july-september 2019.the indian expresshad found that non-forest agencies  such as gram panchayats  which were tasked with planting trees had not uploaded the mandatory audio-visual proof of the tree plantation drives on the specially created portal.\n",
      "in pune revenue division, it was claimed the gram panchayats planted 1.7 crore saplings; however, no evidence was uploaded for 87 per cent (1.49 crore) saplings. also, out of the 59 government agencies involved in the drive as many as 38 had not submitted survival reports about the saplings.\n",
      "this year, the targets set by the forest department were comparatively modest. for example, pune circle  which comprises three divisions in pune and solapur district  had planned to plant 17 lakh saplings on forest land. however, it may not meet the target due to unavailability of funds. last year pune circle planted 70 lakh saplings on forest land.\n",
      "in pune division  which comprises six talukas namely maval, mulshi, daund, indapur, baramati and havveli  preparations were done for plantation of about 4 lakh trees with special emphasis on teakwood.\n",
      "the national forest policy aims and emphasizes at maintaining 33% of the countrys geographical area under forest and green cover. in view of this and as a part of the 50 crore plantation programme within maharashtra, the maharashtra forest department aims to plant 4 crore saplings all over the state between1st to july 7th, 2017to celebratevanmohotsav.\n",
      "\n",
      "the plantation programme, which was announced in 2016 with the aim of planting2 crore trees on 1stjuly 2016 was a resounding success with the final total reported figure of2.82 crore saplings plantedon a single day. to maintain consistency of this platform without affecting its momentum, the forest department has set the target of plantation of 4 crore, 13 crore and 33 crore saplings under the mission of 50 crore plantation which shall be accomplished in the three consecutive years viz. 2017, 2018 and 2019.\n",
      "\n",
      "the4 croresaplings for the year 2017 will be planted during the vanmohotsav,july 1st to july 7thin a state-wide drivewith the involvement of 33 government departments along with students of schools and colleges, nss, ncc, csr, ngos, railways, national highways, defence, nabard and other stakeholders of society.\n",
      "\n",
      "in a first of its kind, a24-hourtoll freehelpline number 1926called hello forest has been set up to provide information regarding plantation, protection and for mass awareness. the forest department has created amobile application called my plantsto record details of the plantation such as numbers, species and location into the computer system of the forest department. all volunteers at individual, collective and organizational level should download and use this application to record their tree plantation work through the application, which will be operational from 1stjuly to 7thjuly.\n",
      "\n",
      "in consonance of the public participation, the maharashtra forest department has initiated the maharashtra harit sena/ green army which is a body of dedicated volunteers to participate in the plantation, protection, and activities in forest, wildlife, and related sectors around the year. individuals and organisations interested in volunteering can register on the green army websitewww.greenarmy.mahaforest.gov.in\n",
      "\n",
      "an integrated drive has been set in place to ensure seamless and successful participation from all stakeholders of society, especially the public.\n",
      "\n",
      "\n"
     ]
    }
   ],
   "source": [
    "# Clean the text\n",
    "def clean_data(text):\n",
    "    return \"\".join([char.lower() for char in text if char in string.printable])\n",
    "\n",
    "\n",
    "cleaned_text = clean_data(text)\n",
    "print(cleaned_text)"
   ]
  },
  {
   "cell_type": "code",
   "execution_count": 6,
   "metadata": {},
   "outputs": [
    {
     "name": "stdout",
     "output_type": "stream",
     "text": [
      "Tokens:\n",
      " ['between', '2016', 'and', '2019', ',', 'the', 'state', 'forest', 'department', 'under', 'thebjpgovernment', 'had', 'launched', 'green', 'maharashtra', 'drive', 'with', 'an', 'aim', 'to', 'plant', '50', 'crore', 'trees', 'across', 'the', 'state', 'in', 'the', 'four-year', 'period', '.', 'in', 'october', '2019', ',', 'the', 'government', 'had', 'claimed', 'it', 'had', 'surpassed', 'the', 'target', 'by', 'planting', '33', 'crore', 'trees', 'in', 'july-september', '2019.the', 'indian', 'expresshad', 'found', 'that', 'non-forest', 'agencies', 'such', 'as', 'gram', 'panchayats', 'which', 'were', 'tasked', 'with', 'planting', 'trees', 'had', 'not', 'uploaded', 'the', 'mandatory', 'audio-visual', 'proof', 'of', 'the', 'tree', 'plantation', 'drives', 'on', 'the', 'specially', 'created', 'portal', '.', 'in', 'pune', 'revenue', 'division', ',', 'it', 'was', 'claimed', 'the', 'gram', 'panchayats', 'planted', '1.7', 'crore', 'saplings', ';', 'however', ',', 'no', 'evidence', 'was', 'uploaded', 'for', '87', 'per', 'cent', '(', '1.49', 'crore', ')', 'saplings', '.', 'also', ',', 'out', 'of', 'the', '59', 'government', 'agencies', 'involved', 'in', 'the', 'drive', 'as', 'many', 'as', '38', 'had', 'not', 'submitted', 'survival', 'reports', 'about', 'the', 'saplings', '.', 'this', 'year', ',', 'the', 'targets', 'set', 'by', 'the', 'forest', 'department', 'were', 'comparatively', 'modest', '.', 'for', 'example', ',', 'pune', 'circle', 'which', 'comprises', 'three', 'divisions', 'in', 'pune', 'and', 'solapur', 'district', 'had', 'planned', 'to', 'plant', '17', 'lakh', 'saplings', 'on', 'forest', 'land', '.', 'however', ',', 'it', 'may', 'not', 'meet', 'the', 'target', 'due', 'to', 'unavailability', 'of', 'funds', '.', 'last', 'year', 'pune', 'circle', 'planted', '70', 'lakh', 'saplings', 'on', 'forest', 'land', '.', 'in', 'pune', 'division', 'which', 'comprises', 'six', 'talukas', 'namely', 'maval', ',', 'mulshi', ',', 'daund', ',', 'indapur', ',', 'baramati', 'and', 'havveli', 'preparations', 'were', 'done', 'for', 'plantation', 'of', 'about', '4', 'lakh', 'trees', 'with', 'special', 'emphasis', 'on', 'teakwood', '.', 'the', 'national', 'forest', 'policy', 'aims', 'and', 'emphasizes', 'at', 'maintaining', '33', '%', 'of', 'the', 'countrys', 'geographical', 'area', 'under', 'forest', 'and', 'green', 'cover', '.', 'in', 'view', 'of', 'this', 'and', 'as', 'a', 'part', 'of', 'the', '50', 'crore', 'plantation', 'programme', 'within', 'maharashtra', ',', 'the', 'maharashtra', 'forest', 'department', 'aims', 'to', 'plant', '4', 'crore', 'saplings', 'all', 'over', 'the', 'state', 'between1st', 'to', 'july', '7th', ',', '2017to', 'celebratevanmohotsav', '.', 'the', 'plantation', 'programme', ',', 'which', 'was', 'announced', 'in', '2016', 'with', 'the', 'aim', 'of', 'planting2', 'crore', 'trees', 'on', '1stjuly', '2016', 'was', 'a', 'resounding', 'success', 'with', 'the', 'final', 'total', 'reported', 'figure', 'of2.82', 'crore', 'saplings', 'plantedon', 'a', 'single', 'day', '.', 'to', 'maintain', 'consistency', 'of', 'this', 'platform', 'without', 'affecting', 'its', 'momentum', ',', 'the', 'forest', 'department', 'has', 'set', 'the', 'target', 'of', 'plantation', 'of', '4', 'crore', ',', '13', 'crore', 'and', '33', 'crore', 'saplings', 'under', 'the', 'mission', 'of', '50', 'crore', 'plantation', 'which', 'shall', 'be', 'accomplished', 'in', 'the', 'three', 'consecutive', 'years', 'viz', '.', '2017', ',', '2018', 'and', '2019.', 'the4', 'croresaplings', 'for', 'the', 'year', '2017', 'will', 'be', 'planted', 'during', 'the', 'vanmohotsav', ',', 'july', '1st', 'to', 'july', '7thin', 'a', 'state-wide', 'drivewith', 'the', 'involvement', 'of', '33', 'government', 'departments', 'along', 'with', 'students', 'of', 'schools', 'and', 'colleges', ',', 'nss', ',', 'ncc', ',', 'csr', ',', 'ngos', ',', 'railways', ',', 'national', 'highways', ',', 'defence', ',', 'nabard', 'and', 'other', 'stakeholders', 'of', 'society', '.', 'in', 'a', 'first', 'of', 'its', 'kind', ',', 'a24-hourtoll', 'freehelpline', 'number', '1926called', 'hello', 'forest', 'has', 'been', 'set', 'up', 'to', 'provide', 'information', 'regarding', 'plantation', ',', 'protection', 'and', 'for', 'mass', 'awareness', '.', 'the', 'forest', 'department', 'has', 'created', 'amobile', 'application', 'called', 'my', 'plantsto', 'record', 'details', 'of', 'the', 'plantation', 'such', 'as', 'numbers', ',', 'species', 'and', 'location', 'into', 'the', 'computer', 'system', 'of', 'the', 'forest', 'department', '.', 'all', 'volunteers', 'at', 'individual', ',', 'collective', 'and', 'organizational', 'level', 'should', 'download', 'and', 'use', 'this', 'application', 'to', 'record', 'their', 'tree', 'plantation', 'work', 'through', 'the', 'application', ',', 'which', 'will', 'be', 'operational', 'from', '1stjuly', 'to', '7thjuly', '.', 'in', 'consonance', 'of', 'the', 'public', 'participation', ',', 'the', 'maharashtra', 'forest', 'department', 'has', 'initiated', 'the', 'maharashtra', 'harit', 'sena/', 'green', 'army', 'which', 'is', 'a', 'body', 'of', 'dedicated', 'volunteers', 'to', 'participate', 'in', 'the', 'plantation', ',', 'protection', ',', 'and', 'activities', 'in', 'forest', ',', 'wildlife', ',', 'and', 'related', 'sectors', 'around', 'the', 'year', '.', 'individuals', 'and', 'organisations', 'interested', 'in', 'volunteering', 'can', 'register', 'on', 'the', 'green', 'army', 'websitewww.greenarmy.mahaforest.gov.in', 'an', 'integrated', 'drive', 'has', 'been', 'set', 'in', 'place', 'to', 'ensure', 'seamless', 'and', 'successful', 'participation', 'from', 'all', 'stakeholders', 'of', 'society', ',', 'especially', 'the', 'public', '.']\n"
     ]
    }
   ],
   "source": [
    "# Tokenization\n",
    "tokens = word_tokenize(cleaned_text)\n",
    "print(\"Tokens:\\n\", tokens)"
   ]
  },
  {
   "cell_type": "code",
   "execution_count": 7,
   "metadata": {},
   "outputs": [
    {
     "name": "stdout",
     "output_type": "stream",
     "text": [
      "Tokens DataFrame:\n"
     ]
    },
    {
     "data": {
      "application/vnd.microsoft.datawrangler.viewer.v0+json": {
       "columns": [
        {
         "name": "index",
         "rawType": "int64",
         "type": "integer"
        },
        {
         "name": "Token",
         "rawType": "object",
         "type": "string"
        }
       ],
       "conversionMethod": "pd.DataFrame",
       "ref": "1521308b-d6d0-4228-80aa-71c839c0574e",
       "rows": [
        [
         "0",
         "between"
        ],
        [
         "1",
         "2016"
        ],
        [
         "2",
         "and"
        ],
        [
         "3",
         "2019"
        ],
        [
         "4",
         ","
        ],
        [
         "5",
         "the"
        ],
        [
         "6",
         "state"
        ],
        [
         "7",
         "forest"
        ],
        [
         "8",
         "department"
        ],
        [
         "9",
         "under"
        ],
        [
         "10",
         "thebjpgovernment"
        ],
        [
         "11",
         "had"
        ],
        [
         "12",
         "launched"
        ],
        [
         "13",
         "green"
        ],
        [
         "14",
         "maharashtra"
        ],
        [
         "15",
         "drive"
        ],
        [
         "16",
         "with"
        ],
        [
         "17",
         "an"
        ],
        [
         "18",
         "aim"
        ],
        [
         "19",
         "to"
        ],
        [
         "20",
         "plant"
        ],
        [
         "21",
         "50"
        ],
        [
         "22",
         "crore"
        ],
        [
         "23",
         "trees"
        ],
        [
         "24",
         "across"
        ],
        [
         "25",
         "the"
        ],
        [
         "26",
         "state"
        ],
        [
         "27",
         "in"
        ],
        [
         "28",
         "the"
        ],
        [
         "29",
         "four-year"
        ],
        [
         "30",
         "period"
        ],
        [
         "31",
         "."
        ],
        [
         "32",
         "in"
        ],
        [
         "33",
         "october"
        ],
        [
         "34",
         "2019"
        ],
        [
         "35",
         ","
        ],
        [
         "36",
         "the"
        ],
        [
         "37",
         "government"
        ],
        [
         "38",
         "had"
        ],
        [
         "39",
         "claimed"
        ],
        [
         "40",
         "it"
        ],
        [
         "41",
         "had"
        ],
        [
         "42",
         "surpassed"
        ],
        [
         "43",
         "the"
        ],
        [
         "44",
         "target"
        ],
        [
         "45",
         "by"
        ],
        [
         "46",
         "planting"
        ],
        [
         "47",
         "33"
        ],
        [
         "48",
         "crore"
        ],
        [
         "49",
         "trees"
        ]
       ],
       "shape": {
        "columns": 1,
        "rows": 631
       }
      },
      "text/html": [
       "<div>\n",
       "<style scoped>\n",
       "    .dataframe tbody tr th:only-of-type {\n",
       "        vertical-align: middle;\n",
       "    }\n",
       "\n",
       "    .dataframe tbody tr th {\n",
       "        vertical-align: top;\n",
       "    }\n",
       "\n",
       "    .dataframe thead th {\n",
       "        text-align: right;\n",
       "    }\n",
       "</style>\n",
       "<table border=\"1\" class=\"dataframe\">\n",
       "  <thead>\n",
       "    <tr style=\"text-align: right;\">\n",
       "      <th></th>\n",
       "      <th>Token</th>\n",
       "    </tr>\n",
       "  </thead>\n",
       "  <tbody>\n",
       "    <tr>\n",
       "      <th>0</th>\n",
       "      <td>between</td>\n",
       "    </tr>\n",
       "    <tr>\n",
       "      <th>1</th>\n",
       "      <td>2016</td>\n",
       "    </tr>\n",
       "    <tr>\n",
       "      <th>2</th>\n",
       "      <td>and</td>\n",
       "    </tr>\n",
       "    <tr>\n",
       "      <th>3</th>\n",
       "      <td>2019</td>\n",
       "    </tr>\n",
       "    <tr>\n",
       "      <th>4</th>\n",
       "      <td>,</td>\n",
       "    </tr>\n",
       "    <tr>\n",
       "      <th>...</th>\n",
       "      <td>...</td>\n",
       "    </tr>\n",
       "    <tr>\n",
       "      <th>626</th>\n",
       "      <td>,</td>\n",
       "    </tr>\n",
       "    <tr>\n",
       "      <th>627</th>\n",
       "      <td>especially</td>\n",
       "    </tr>\n",
       "    <tr>\n",
       "      <th>628</th>\n",
       "      <td>the</td>\n",
       "    </tr>\n",
       "    <tr>\n",
       "      <th>629</th>\n",
       "      <td>public</td>\n",
       "    </tr>\n",
       "    <tr>\n",
       "      <th>630</th>\n",
       "      <td>.</td>\n",
       "    </tr>\n",
       "  </tbody>\n",
       "</table>\n",
       "<p>631 rows × 1 columns</p>\n",
       "</div>"
      ],
      "text/plain": [
       "          Token\n",
       "0       between\n",
       "1          2016\n",
       "2           and\n",
       "3          2019\n",
       "4             ,\n",
       "..          ...\n",
       "626           ,\n",
       "627  especially\n",
       "628         the\n",
       "629      public\n",
       "630           .\n",
       "\n",
       "[631 rows x 1 columns]"
      ]
     },
     "execution_count": 7,
     "metadata": {},
     "output_type": "execute_result"
    }
   ],
   "source": [
    "tokens_df = pd.DataFrame(tokens, columns=[\"Token\"])\n",
    "print(\"Tokens DataFrame:\")\n",
    "tokens_df"
   ]
  },
  {
   "cell_type": "code",
   "execution_count": 8,
   "metadata": {},
   "outputs": [
    {
     "name": "stdout",
     "output_type": "stream",
     "text": [
      "POS Tags:\n",
      " [('between', 'IN'), ('2016', 'CD'), ('and', 'CC'), ('2019', 'CD'), (',', ','), ('the', 'DT'), ('state', 'NN'), ('forest', 'JJS'), ('department', 'NN'), ('under', 'IN'), ('thebjpgovernment', 'NN'), ('had', 'VBD'), ('launched', 'VBN'), ('green', 'JJ'), ('maharashtra', 'NNS'), ('drive', 'NN'), ('with', 'IN'), ('an', 'DT'), ('aim', 'NN'), ('to', 'TO'), ('plant', 'NN'), ('50', 'CD'), ('crore', 'NN'), ('trees', 'NNS'), ('across', 'IN'), ('the', 'DT'), ('state', 'NN'), ('in', 'IN'), ('the', 'DT'), ('four-year', 'JJ'), ('period', 'NN'), ('.', '.'), ('in', 'IN'), ('october', 'JJ'), ('2019', 'CD'), (',', ','), ('the', 'DT'), ('government', 'NN'), ('had', 'VBD'), ('claimed', 'VBN'), ('it', 'PRP'), ('had', 'VBD'), ('surpassed', 'VBN'), ('the', 'DT'), ('target', 'NN'), ('by', 'IN'), ('planting', 'VBG'), ('33', 'CD'), ('crore', 'NN'), ('trees', 'NNS'), ('in', 'IN'), ('july-september', 'JJ'), ('2019.the', 'CD'), ('indian', 'JJ'), ('expresshad', 'NN'), ('found', 'VBD'), ('that', 'IN'), ('non-forest', 'JJ'), ('agencies', 'NNS'), ('such', 'JJ'), ('as', 'IN'), ('gram', 'NN'), ('panchayats', 'NNS'), ('which', 'WDT'), ('were', 'VBD'), ('tasked', 'VBN'), ('with', 'IN'), ('planting', 'VBG'), ('trees', 'NNS'), ('had', 'VBD'), ('not', 'RB'), ('uploaded', 'VBN'), ('the', 'DT'), ('mandatory', 'JJ'), ('audio-visual', 'JJ'), ('proof', 'NN'), ('of', 'IN'), ('the', 'DT'), ('tree', 'JJ'), ('plantation', 'NN'), ('drives', 'NNS'), ('on', 'IN'), ('the', 'DT'), ('specially', 'RB'), ('created', 'VBN'), ('portal', 'NN'), ('.', '.'), ('in', 'IN'), ('pune', 'NN'), ('revenue', 'NN'), ('division', 'NN'), (',', ','), ('it', 'PRP'), ('was', 'VBD'), ('claimed', 'VBN'), ('the', 'DT'), ('gram', 'NN'), ('panchayats', 'NNS'), ('planted', 'VBD'), ('1.7', 'CD'), ('crore', 'NN'), ('saplings', 'NNS'), (';', ':'), ('however', 'RB'), (',', ','), ('no', 'DT'), ('evidence', 'NN'), ('was', 'VBD'), ('uploaded', 'VBN'), ('for', 'IN'), ('87', 'CD'), ('per', 'IN'), ('cent', 'NN'), ('(', '('), ('1.49', 'CD'), ('crore', 'NN'), (')', ')'), ('saplings', 'NNS'), ('.', '.'), ('also', 'RB'), (',', ','), ('out', 'IN'), ('of', 'IN'), ('the', 'DT'), ('59', 'CD'), ('government', 'NN'), ('agencies', 'NNS'), ('involved', 'VBN'), ('in', 'IN'), ('the', 'DT'), ('drive', 'NN'), ('as', 'RB'), ('many', 'JJ'), ('as', 'IN'), ('38', 'CD'), ('had', 'VBD'), ('not', 'RB'), ('submitted', 'VBN'), ('survival', 'JJ'), ('reports', 'NNS'), ('about', 'IN'), ('the', 'DT'), ('saplings', 'NNS'), ('.', '.'), ('this', 'DT'), ('year', 'NN'), (',', ','), ('the', 'DT'), ('targets', 'NNS'), ('set', 'VBN'), ('by', 'IN'), ('the', 'DT'), ('forest', 'JJS'), ('department', 'NN'), ('were', 'VBD'), ('comparatively', 'RB'), ('modest', 'JJ'), ('.', '.'), ('for', 'IN'), ('example', 'NN'), (',', ','), ('pune', 'NN'), ('circle', 'NN'), ('which', 'WDT'), ('comprises', 'VBZ'), ('three', 'CD'), ('divisions', 'NNS'), ('in', 'IN'), ('pune', 'NN'), ('and', 'CC'), ('solapur', 'VB'), ('district', 'NN'), ('had', 'VBD'), ('planned', 'VBN'), ('to', 'TO'), ('plant', 'NN'), ('17', 'CD'), ('lakh', 'JJ'), ('saplings', 'NNS'), ('on', 'IN'), ('forest', 'JJS'), ('land', 'NN'), ('.', '.'), ('however', 'RB'), (',', ','), ('it', 'PRP'), ('may', 'MD'), ('not', 'RB'), ('meet', 'VB'), ('the', 'DT'), ('target', 'NN'), ('due', 'JJ'), ('to', 'TO'), ('unavailability', 'NN'), ('of', 'IN'), ('funds', 'NNS'), ('.', '.'), ('last', 'JJ'), ('year', 'NN'), ('pune', 'VBD'), ('circle', 'NN'), ('planted', 'VBD'), ('70', 'CD'), ('lakh', 'JJ'), ('saplings', 'NNS'), ('on', 'IN'), ('forest', 'JJS'), ('land', 'NN'), ('.', '.'), ('in', 'IN'), ('pune', 'NN'), ('division', 'NN'), ('which', 'WDT'), ('comprises', 'VBZ'), ('six', 'CD'), ('talukas', 'NN'), ('namely', 'RB'), ('maval', 'JJ'), (',', ','), ('mulshi', 'NN'), (',', ','), ('daund', 'NN'), (',', ','), ('indapur', 'NN'), (',', ','), ('baramati', 'NN'), ('and', 'CC'), ('havveli', 'JJ'), ('preparations', 'NNS'), ('were', 'VBD'), ('done', 'VBN'), ('for', 'IN'), ('plantation', 'NN'), ('of', 'IN'), ('about', 'IN'), ('4', 'CD'), ('lakh', 'NNS'), ('trees', 'NNS'), ('with', 'IN'), ('special', 'JJ'), ('emphasis', 'NN'), ('on', 'IN'), ('teakwood', 'NN'), ('.', '.'), ('the', 'DT'), ('national', 'JJ'), ('forest', 'NN'), ('policy', 'NN'), ('aims', 'NNS'), ('and', 'CC'), ('emphasizes', 'VBZ'), ('at', 'IN'), ('maintaining', 'VBG'), ('33', 'CD'), ('%', 'NN'), ('of', 'IN'), ('the', 'DT'), ('countrys', 'JJ'), ('geographical', 'JJ'), ('area', 'NN'), ('under', 'IN'), ('forest', 'NN'), ('and', 'CC'), ('green', 'JJ'), ('cover', 'NN'), ('.', '.'), ('in', 'IN'), ('view', 'NN'), ('of', 'IN'), ('this', 'DT'), ('and', 'CC'), ('as', 'IN'), ('a', 'DT'), ('part', 'NN'), ('of', 'IN'), ('the', 'DT'), ('50', 'CD'), ('crore', 'NN'), ('plantation', 'NN'), ('programme', 'NN'), ('within', 'IN'), ('maharashtra', 'NN'), (',', ','), ('the', 'DT'), ('maharashtra', 'JJ'), ('forest', 'NN'), ('department', 'NN'), ('aims', 'VBZ'), ('to', 'TO'), ('plant', 'NN'), ('4', 'CD'), ('crore', 'NN'), ('saplings', 'NNS'), ('all', 'DT'), ('over', 'IN'), ('the', 'DT'), ('state', 'NN'), ('between1st', 'NN'), ('to', 'TO'), ('july', 'VB'), ('7th', 'CD'), (',', ','), ('2017to', 'CD'), ('celebratevanmohotsav', 'NN'), ('.', '.'), ('the', 'DT'), ('plantation', 'NN'), ('programme', 'NN'), (',', ','), ('which', 'WDT'), ('was', 'VBD'), ('announced', 'VBN'), ('in', 'IN'), ('2016', 'CD'), ('with', 'IN'), ('the', 'DT'), ('aim', 'NN'), ('of', 'IN'), ('planting2', 'NN'), ('crore', 'NN'), ('trees', 'NNS'), ('on', 'IN'), ('1stjuly', 'CD'), ('2016', 'CD'), ('was', 'VBD'), ('a', 'DT'), ('resounding', 'JJ'), ('success', 'NN'), ('with', 'IN'), ('the', 'DT'), ('final', 'JJ'), ('total', 'NN'), ('reported', 'VBD'), ('figure', 'NN'), ('of2.82', 'NN'), ('crore', 'NN'), ('saplings', 'NNS'), ('plantedon', 'VBP'), ('a', 'DT'), ('single', 'JJ'), ('day', 'NN'), ('.', '.'), ('to', 'TO'), ('maintain', 'VB'), ('consistency', 'NN'), ('of', 'IN'), ('this', 'DT'), ('platform', 'NN'), ('without', 'IN'), ('affecting', 'VBG'), ('its', 'PRP$'), ('momentum', 'NN'), (',', ','), ('the', 'DT'), ('forest', 'JJS'), ('department', 'NN'), ('has', 'VBZ'), ('set', 'VBN'), ('the', 'DT'), ('target', 'NN'), ('of', 'IN'), ('plantation', 'NN'), ('of', 'IN'), ('4', 'CD'), ('crore', 'NN'), (',', ','), ('13', 'CD'), ('crore', 'NN'), ('and', 'CC'), ('33', 'CD'), ('crore', 'NN'), ('saplings', 'NNS'), ('under', 'IN'), ('the', 'DT'), ('mission', 'NN'), ('of', 'IN'), ('50', 'CD'), ('crore', 'NN'), ('plantation', 'NN'), ('which', 'WDT'), ('shall', 'MD'), ('be', 'VB'), ('accomplished', 'VBN'), ('in', 'IN'), ('the', 'DT'), ('three', 'CD'), ('consecutive', 'JJ'), ('years', 'NNS'), ('viz', 'RB'), ('.', '.'), ('2017', 'CD'), (',', ','), ('2018', 'CD'), ('and', 'CC'), ('2019.', 'CD'), ('the4', 'NN'), ('croresaplings', 'NNS'), ('for', 'IN'), ('the', 'DT'), ('year', 'NN'), ('2017', 'CD'), ('will', 'MD'), ('be', 'VB'), ('planted', 'VBN'), ('during', 'IN'), ('the', 'DT'), ('vanmohotsav', 'NN'), (',', ','), ('july', 'RB'), ('1st', 'CD'), ('to', 'TO'), ('july', 'VB'), ('7thin', 'CD'), ('a', 'DT'), ('state-wide', 'JJ'), ('drivewith', 'NN'), ('the', 'DT'), ('involvement', 'NN'), ('of', 'IN'), ('33', 'CD'), ('government', 'NN'), ('departments', 'NNS'), ('along', 'IN'), ('with', 'IN'), ('students', 'NNS'), ('of', 'IN'), ('schools', 'NNS'), ('and', 'CC'), ('colleges', 'NNS'), (',', ','), ('nss', 'RB'), (',', ','), ('ncc', 'RB'), (',', ','), ('csr', 'NN'), (',', ','), ('ngos', 'RB'), (',', ','), ('railways', 'NNS'), (',', ','), ('national', 'JJ'), ('highways', 'NNS'), (',', ','), ('defence', 'NN'), (',', ','), ('nabard', 'RB'), ('and', 'CC'), ('other', 'JJ'), ('stakeholders', 'NNS'), ('of', 'IN'), ('society', 'NN'), ('.', '.'), ('in', 'IN'), ('a', 'DT'), ('first', 'JJ'), ('of', 'IN'), ('its', 'PRP$'), ('kind', 'NN'), (',', ','), ('a24-hourtoll', 'JJ'), ('freehelpline', 'NN'), ('number', 'NN'), ('1926called', 'CD'), ('hello', 'NN'), ('forest', 'NN'), ('has', 'VBZ'), ('been', 'VBN'), ('set', 'VBN'), ('up', 'RP'), ('to', 'TO'), ('provide', 'VB'), ('information', 'NN'), ('regarding', 'VBG'), ('plantation', 'NN'), (',', ','), ('protection', 'NN'), ('and', 'CC'), ('for', 'IN'), ('mass', 'NN'), ('awareness', 'NN'), ('.', '.'), ('the', 'DT'), ('forest', 'NN'), ('department', 'NN'), ('has', 'VBZ'), ('created', 'VBN'), ('amobile', 'IN'), ('application', 'NN'), ('called', 'VBN'), ('my', 'PRP$'), ('plantsto', 'NN'), ('record', 'NN'), ('details', 'NNS'), ('of', 'IN'), ('the', 'DT'), ('plantation', 'NN'), ('such', 'JJ'), ('as', 'IN'), ('numbers', 'NNS'), (',', ','), ('species', 'NNS'), ('and', 'CC'), ('location', 'NN'), ('into', 'IN'), ('the', 'DT'), ('computer', 'NN'), ('system', 'NN'), ('of', 'IN'), ('the', 'DT'), ('forest', 'JJS'), ('department', 'NN'), ('.', '.'), ('all', 'DT'), ('volunteers', 'NNS'), ('at', 'IN'), ('individual', 'JJ'), (',', ','), ('collective', 'JJ'), ('and', 'CC'), ('organizational', 'JJ'), ('level', 'NN'), ('should', 'MD'), ('download', 'VB'), ('and', 'CC'), ('use', 'VB'), ('this', 'DT'), ('application', 'NN'), ('to', 'TO'), ('record', 'VB'), ('their', 'PRP$'), ('tree', 'JJ'), ('plantation', 'NN'), ('work', 'NN'), ('through', 'IN'), ('the', 'DT'), ('application', 'NN'), (',', ','), ('which', 'WDT'), ('will', 'MD'), ('be', 'VB'), ('operational', 'JJ'), ('from', 'IN'), ('1stjuly', 'CD'), ('to', 'TO'), ('7thjuly', 'CD'), ('.', '.'), ('in', 'IN'), ('consonance', 'NN'), ('of', 'IN'), ('the', 'DT'), ('public', 'JJ'), ('participation', 'NN'), (',', ','), ('the', 'DT'), ('maharashtra', 'JJ'), ('forest', 'NN'), ('department', 'NN'), ('has', 'VBZ'), ('initiated', 'VBN'), ('the', 'DT'), ('maharashtra', 'JJ'), ('harit', 'NN'), ('sena/', 'NN'), ('green', 'JJ'), ('army', 'NN'), ('which', 'WDT'), ('is', 'VBZ'), ('a', 'DT'), ('body', 'NN'), ('of', 'IN'), ('dedicated', 'JJ'), ('volunteers', 'NNS'), ('to', 'TO'), ('participate', 'VB'), ('in', 'IN'), ('the', 'DT'), ('plantation', 'NN'), (',', ','), ('protection', 'NN'), (',', ','), ('and', 'CC'), ('activities', 'NNS'), ('in', 'IN'), ('forest', 'NN'), (',', ','), ('wildlife', 'NN'), (',', ','), ('and', 'CC'), ('related', 'JJ'), ('sectors', 'NNS'), ('around', 'IN'), ('the', 'DT'), ('year', 'NN'), ('.', '.'), ('individuals', 'NNS'), ('and', 'CC'), ('organisations', 'NNS'), ('interested', 'JJ'), ('in', 'IN'), ('volunteering', 'VBG'), ('can', 'MD'), ('register', 'VB'), ('on', 'IN'), ('the', 'DT'), ('green', 'JJ'), ('army', 'NN'), ('websitewww.greenarmy.mahaforest.gov.in', 'VBD'), ('an', 'DT'), ('integrated', 'VBN'), ('drive', 'NN'), ('has', 'VBZ'), ('been', 'VBN'), ('set', 'VBN'), ('in', 'IN'), ('place', 'NN'), ('to', 'TO'), ('ensure', 'VB'), ('seamless', 'NN'), ('and', 'CC'), ('successful', 'JJ'), ('participation', 'NN'), ('from', 'IN'), ('all', 'DT'), ('stakeholders', 'NNS'), ('of', 'IN'), ('society', 'NN'), (',', ','), ('especially', 'RB'), ('the', 'DT'), ('public', 'NN'), ('.', '.')]\n"
     ]
    }
   ],
   "source": [
    "# POS Tagging\n",
    "pos_tags = nltk.pos_tag(tokens)\n",
    "print(\"POS Tags:\\n\", pos_tags)"
   ]
  },
  {
   "cell_type": "code",
   "execution_count": 9,
   "metadata": {},
   "outputs": [
    {
     "data": {
      "application/vnd.microsoft.datawrangler.viewer.v0+json": {
       "columns": [
        {
         "name": "index",
         "rawType": "int64",
         "type": "integer"
        },
        {
         "name": "Word",
         "rawType": "object",
         "type": "string"
        },
        {
         "name": "Tag",
         "rawType": "object",
         "type": "string"
        }
       ],
       "conversionMethod": "pd.DataFrame",
       "ref": "ef6c8154-717b-4740-860b-4ada1c3a90f3",
       "rows": [
        [
         "0",
         "between",
         "IN"
        ],
        [
         "1",
         "2016",
         "CD"
        ],
        [
         "2",
         "and",
         "CC"
        ],
        [
         "3",
         "2019",
         "CD"
        ],
        [
         "4",
         ",",
         ","
        ],
        [
         "5",
         "the",
         "DT"
        ],
        [
         "6",
         "state",
         "NN"
        ],
        [
         "7",
         "forest",
         "JJS"
        ],
        [
         "8",
         "department",
         "NN"
        ],
        [
         "9",
         "under",
         "IN"
        ],
        [
         "10",
         "thebjpgovernment",
         "NN"
        ],
        [
         "11",
         "had",
         "VBD"
        ],
        [
         "12",
         "launched",
         "VBN"
        ],
        [
         "13",
         "green",
         "JJ"
        ],
        [
         "14",
         "maharashtra",
         "NNS"
        ],
        [
         "15",
         "drive",
         "NN"
        ],
        [
         "16",
         "with",
         "IN"
        ],
        [
         "17",
         "an",
         "DT"
        ],
        [
         "18",
         "aim",
         "NN"
        ],
        [
         "19",
         "to",
         "TO"
        ],
        [
         "20",
         "plant",
         "NN"
        ],
        [
         "21",
         "50",
         "CD"
        ],
        [
         "22",
         "crore",
         "NN"
        ],
        [
         "23",
         "trees",
         "NNS"
        ],
        [
         "24",
         "across",
         "IN"
        ],
        [
         "25",
         "the",
         "DT"
        ],
        [
         "26",
         "state",
         "NN"
        ],
        [
         "27",
         "in",
         "IN"
        ],
        [
         "28",
         "the",
         "DT"
        ],
        [
         "29",
         "four-year",
         "JJ"
        ],
        [
         "30",
         "period",
         "NN"
        ],
        [
         "31",
         ".",
         "."
        ],
        [
         "32",
         "in",
         "IN"
        ],
        [
         "33",
         "october",
         "JJ"
        ],
        [
         "34",
         "2019",
         "CD"
        ],
        [
         "35",
         ",",
         ","
        ],
        [
         "36",
         "the",
         "DT"
        ],
        [
         "37",
         "government",
         "NN"
        ],
        [
         "38",
         "had",
         "VBD"
        ],
        [
         "39",
         "claimed",
         "VBN"
        ],
        [
         "40",
         "it",
         "PRP"
        ],
        [
         "41",
         "had",
         "VBD"
        ],
        [
         "42",
         "surpassed",
         "VBN"
        ],
        [
         "43",
         "the",
         "DT"
        ],
        [
         "44",
         "target",
         "NN"
        ],
        [
         "45",
         "by",
         "IN"
        ],
        [
         "46",
         "planting",
         "VBG"
        ],
        [
         "47",
         "33",
         "CD"
        ],
        [
         "48",
         "crore",
         "NN"
        ],
        [
         "49",
         "trees",
         "NNS"
        ]
       ],
       "shape": {
        "columns": 2,
        "rows": 631
       }
      },
      "text/html": [
       "<div>\n",
       "<style scoped>\n",
       "    .dataframe tbody tr th:only-of-type {\n",
       "        vertical-align: middle;\n",
       "    }\n",
       "\n",
       "    .dataframe tbody tr th {\n",
       "        vertical-align: top;\n",
       "    }\n",
       "\n",
       "    .dataframe thead th {\n",
       "        text-align: right;\n",
       "    }\n",
       "</style>\n",
       "<table border=\"1\" class=\"dataframe\">\n",
       "  <thead>\n",
       "    <tr style=\"text-align: right;\">\n",
       "      <th></th>\n",
       "      <th>Word</th>\n",
       "      <th>Tag</th>\n",
       "    </tr>\n",
       "  </thead>\n",
       "  <tbody>\n",
       "    <tr>\n",
       "      <th>0</th>\n",
       "      <td>between</td>\n",
       "      <td>IN</td>\n",
       "    </tr>\n",
       "    <tr>\n",
       "      <th>1</th>\n",
       "      <td>2016</td>\n",
       "      <td>CD</td>\n",
       "    </tr>\n",
       "    <tr>\n",
       "      <th>2</th>\n",
       "      <td>and</td>\n",
       "      <td>CC</td>\n",
       "    </tr>\n",
       "    <tr>\n",
       "      <th>3</th>\n",
       "      <td>2019</td>\n",
       "      <td>CD</td>\n",
       "    </tr>\n",
       "    <tr>\n",
       "      <th>4</th>\n",
       "      <td>,</td>\n",
       "      <td>,</td>\n",
       "    </tr>\n",
       "    <tr>\n",
       "      <th>...</th>\n",
       "      <td>...</td>\n",
       "      <td>...</td>\n",
       "    </tr>\n",
       "    <tr>\n",
       "      <th>626</th>\n",
       "      <td>,</td>\n",
       "      <td>,</td>\n",
       "    </tr>\n",
       "    <tr>\n",
       "      <th>627</th>\n",
       "      <td>especially</td>\n",
       "      <td>RB</td>\n",
       "    </tr>\n",
       "    <tr>\n",
       "      <th>628</th>\n",
       "      <td>the</td>\n",
       "      <td>DT</td>\n",
       "    </tr>\n",
       "    <tr>\n",
       "      <th>629</th>\n",
       "      <td>public</td>\n",
       "      <td>NN</td>\n",
       "    </tr>\n",
       "    <tr>\n",
       "      <th>630</th>\n",
       "      <td>.</td>\n",
       "      <td>.</td>\n",
       "    </tr>\n",
       "  </tbody>\n",
       "</table>\n",
       "<p>631 rows × 2 columns</p>\n",
       "</div>"
      ],
      "text/plain": [
       "           Word Tag\n",
       "0       between  IN\n",
       "1          2016  CD\n",
       "2           and  CC\n",
       "3          2019  CD\n",
       "4             ,   ,\n",
       "..          ...  ..\n",
       "626           ,   ,\n",
       "627  especially  RB\n",
       "628         the  DT\n",
       "629      public  NN\n",
       "630           .   .\n",
       "\n",
       "[631 rows x 2 columns]"
      ]
     },
     "execution_count": 9,
     "metadata": {},
     "output_type": "execute_result"
    }
   ],
   "source": [
    "pos_df = pd.DataFrame(list(pos_tags), columns=[\"Word\", \"Tag\"])\n",
    "pos_df"
   ]
  },
  {
   "cell_type": "code",
   "execution_count": 10,
   "metadata": {},
   "outputs": [
    {
     "name": "stdout",
     "output_type": "stream",
     "text": [
      "Tokens after Stopword Removal:\n",
      " ['state', 'forest', 'department', 'thebjpgovernment', 'launched', 'green', 'maharashtra', 'drive', 'aim', 'plant', 'crore', 'trees', 'across', 'state', 'period', 'october', 'government', 'claimed', 'surpassed', 'target', 'planting', 'crore', 'trees', 'indian', 'expresshad', 'found', 'agencies', 'gram', 'panchayats', 'tasked', 'planting', 'trees', 'uploaded', 'mandatory', 'proof', 'tree', 'plantation', 'drives', 'specially', 'created', 'portal', 'pune', 'revenue', 'division', 'claimed', 'gram', 'panchayats', 'planted', 'crore', 'saplings', 'however', 'evidence', 'uploaded', 'per', 'cent', 'crore', 'saplings', 'also', 'government', 'agencies', 'involved', 'drive', 'many', 'submitted', 'survival', 'reports', 'saplings', 'year', 'targets', 'set', 'forest', 'department', 'comparatively', 'modest', 'example', 'pune', 'circle', 'comprises', 'three', 'divisions', 'pune', 'solapur', 'district', 'planned', 'plant', 'lakh', 'saplings', 'forest', 'land', 'however', 'may', 'meet', 'target', 'due', 'unavailability', 'funds', 'last', 'year', 'pune', 'circle', 'planted', 'lakh', 'saplings', 'forest', 'land', 'pune', 'division', 'comprises', 'six', 'talukas', 'namely', 'maval', 'mulshi', 'daund', 'indapur', 'baramati', 'havveli', 'preparations', 'done', 'plantation', 'lakh', 'trees', 'special', 'emphasis', 'teakwood', 'national', 'forest', 'policy', 'aims', 'emphasizes', 'maintaining', 'countrys', 'geographical', 'area', 'forest', 'green', 'cover', 'view', 'part', 'crore', 'plantation', 'programme', 'within', 'maharashtra', 'maharashtra', 'forest', 'department', 'aims', 'plant', 'crore', 'saplings', 'state', 'july', 'celebratevanmohotsav', 'plantation', 'programme', 'announced', 'aim', 'crore', 'trees', 'resounding', 'success', 'final', 'total', 'reported', 'figure', 'crore', 'saplings', 'plantedon', 'single', 'day', 'maintain', 'consistency', 'platform', 'without', 'affecting', 'momentum', 'forest', 'department', 'set', 'target', 'plantation', 'crore', 'crore', 'crore', 'saplings', 'mission', 'crore', 'plantation', 'shall', 'accomplished', 'three', 'consecutive', 'years', 'viz', 'croresaplings', 'year', 'planted', 'vanmohotsav', 'july', 'july', 'drivewith', 'involvement', 'government', 'departments', 'along', 'students', 'schools', 'colleges', 'nss', 'ncc', 'csr', 'ngos', 'railways', 'national', 'highways', 'defence', 'nabard', 'stakeholders', 'society', 'first', 'kind', 'freehelpline', 'number', 'hello', 'forest', 'set', 'provide', 'information', 'regarding', 'plantation', 'protection', 'mass', 'awareness', 'forest', 'department', 'created', 'amobile', 'application', 'called', 'plantsto', 'record', 'details', 'plantation', 'numbers', 'species', 'location', 'computer', 'system', 'forest', 'department', 'volunteers', 'individual', 'collective', 'organizational', 'level', 'download', 'use', 'application', 'record', 'tree', 'plantation', 'work', 'application', 'operational', 'consonance', 'public', 'participation', 'maharashtra', 'forest', 'department', 'initiated', 'maharashtra', 'harit', 'green', 'army', 'body', 'dedicated', 'volunteers', 'participate', 'plantation', 'protection', 'activities', 'forest', 'wildlife', 'related', 'sectors', 'around', 'year', 'individuals', 'organisations', 'interested', 'volunteering', 'register', 'green', 'army', 'integrated', 'drive', 'set', 'place', 'ensure', 'seamless', 'successful', 'participation', 'stakeholders', 'society', 'especially', 'public']\n"
     ]
    }
   ],
   "source": [
    "# Stopword Removal\n",
    "stop_words = set(stopwords.words(\"english\"))\n",
    "filtered_tokens = [\n",
    "    word for word in tokens if word.lower() not in stop_words and word.isalpha()\n",
    "]\n",
    "print(\"Tokens after Stopword Removal:\\n\", filtered_tokens)"
   ]
  },
  {
   "cell_type": "code",
   "execution_count": 11,
   "metadata": {},
   "outputs": [
    {
     "data": {
      "application/vnd.microsoft.datawrangler.viewer.v0+json": {
       "columns": [
        {
         "name": "index",
         "rawType": "int64",
         "type": "integer"
        },
        {
         "name": "Filtered Tokens",
         "rawType": "object",
         "type": "string"
        }
       ],
       "conversionMethod": "pd.DataFrame",
       "ref": "4d94eb1a-707c-48d0-baaf-fe3f632797b6",
       "rows": [
        [
         "0",
         "state"
        ],
        [
         "1",
         "forest"
        ],
        [
         "2",
         "department"
        ],
        [
         "3",
         "thebjpgovernment"
        ],
        [
         "4",
         "launched"
        ],
        [
         "5",
         "green"
        ],
        [
         "6",
         "maharashtra"
        ],
        [
         "7",
         "drive"
        ],
        [
         "8",
         "aim"
        ],
        [
         "9",
         "plant"
        ],
        [
         "10",
         "crore"
        ],
        [
         "11",
         "trees"
        ],
        [
         "12",
         "across"
        ],
        [
         "13",
         "state"
        ],
        [
         "14",
         "period"
        ],
        [
         "15",
         "october"
        ],
        [
         "16",
         "government"
        ],
        [
         "17",
         "claimed"
        ],
        [
         "18",
         "surpassed"
        ],
        [
         "19",
         "target"
        ],
        [
         "20",
         "planting"
        ],
        [
         "21",
         "crore"
        ],
        [
         "22",
         "trees"
        ],
        [
         "23",
         "indian"
        ],
        [
         "24",
         "expresshad"
        ],
        [
         "25",
         "found"
        ],
        [
         "26",
         "agencies"
        ],
        [
         "27",
         "gram"
        ],
        [
         "28",
         "panchayats"
        ],
        [
         "29",
         "tasked"
        ],
        [
         "30",
         "planting"
        ],
        [
         "31",
         "trees"
        ],
        [
         "32",
         "uploaded"
        ],
        [
         "33",
         "mandatory"
        ],
        [
         "34",
         "proof"
        ],
        [
         "35",
         "tree"
        ],
        [
         "36",
         "plantation"
        ],
        [
         "37",
         "drives"
        ],
        [
         "38",
         "specially"
        ],
        [
         "39",
         "created"
        ],
        [
         "40",
         "portal"
        ],
        [
         "41",
         "pune"
        ],
        [
         "42",
         "revenue"
        ],
        [
         "43",
         "division"
        ],
        [
         "44",
         "claimed"
        ],
        [
         "45",
         "gram"
        ],
        [
         "46",
         "panchayats"
        ],
        [
         "47",
         "planted"
        ],
        [
         "48",
         "crore"
        ],
        [
         "49",
         "saplings"
        ]
       ],
       "shape": {
        "columns": 1,
        "rows": 308
       }
      },
      "text/html": [
       "<div>\n",
       "<style scoped>\n",
       "    .dataframe tbody tr th:only-of-type {\n",
       "        vertical-align: middle;\n",
       "    }\n",
       "\n",
       "    .dataframe tbody tr th {\n",
       "        vertical-align: top;\n",
       "    }\n",
       "\n",
       "    .dataframe thead th {\n",
       "        text-align: right;\n",
       "    }\n",
       "</style>\n",
       "<table border=\"1\" class=\"dataframe\">\n",
       "  <thead>\n",
       "    <tr style=\"text-align: right;\">\n",
       "      <th></th>\n",
       "      <th>Filtered Tokens</th>\n",
       "    </tr>\n",
       "  </thead>\n",
       "  <tbody>\n",
       "    <tr>\n",
       "      <th>0</th>\n",
       "      <td>state</td>\n",
       "    </tr>\n",
       "    <tr>\n",
       "      <th>1</th>\n",
       "      <td>forest</td>\n",
       "    </tr>\n",
       "    <tr>\n",
       "      <th>2</th>\n",
       "      <td>department</td>\n",
       "    </tr>\n",
       "    <tr>\n",
       "      <th>3</th>\n",
       "      <td>thebjpgovernment</td>\n",
       "    </tr>\n",
       "    <tr>\n",
       "      <th>4</th>\n",
       "      <td>launched</td>\n",
       "    </tr>\n",
       "    <tr>\n",
       "      <th>...</th>\n",
       "      <td>...</td>\n",
       "    </tr>\n",
       "    <tr>\n",
       "      <th>303</th>\n",
       "      <td>participation</td>\n",
       "    </tr>\n",
       "    <tr>\n",
       "      <th>304</th>\n",
       "      <td>stakeholders</td>\n",
       "    </tr>\n",
       "    <tr>\n",
       "      <th>305</th>\n",
       "      <td>society</td>\n",
       "    </tr>\n",
       "    <tr>\n",
       "      <th>306</th>\n",
       "      <td>especially</td>\n",
       "    </tr>\n",
       "    <tr>\n",
       "      <th>307</th>\n",
       "      <td>public</td>\n",
       "    </tr>\n",
       "  </tbody>\n",
       "</table>\n",
       "<p>308 rows × 1 columns</p>\n",
       "</div>"
      ],
      "text/plain": [
       "      Filtered Tokens\n",
       "0               state\n",
       "1              forest\n",
       "2          department\n",
       "3    thebjpgovernment\n",
       "4            launched\n",
       "..                ...\n",
       "303     participation\n",
       "304      stakeholders\n",
       "305           society\n",
       "306        especially\n",
       "307            public\n",
       "\n",
       "[308 rows x 1 columns]"
      ]
     },
     "execution_count": 11,
     "metadata": {},
     "output_type": "execute_result"
    }
   ],
   "source": [
    "filtered_df = pd.DataFrame(filtered_tokens, columns=[\"Filtered Tokens\"])\n",
    "filtered_df"
   ]
  },
  {
   "cell_type": "code",
   "execution_count": 12,
   "metadata": {},
   "outputs": [
    {
     "name": "stdout",
     "output_type": "stream",
     "text": [
      "Stemmed Words:\n",
      " ['state', 'forest', 'depart', 'thebjpgovern', 'launch', 'green', 'maharashtra', 'drive', 'aim', 'plant', 'crore', 'tree', 'across', 'state', 'period', 'octob', 'govern', 'claim', 'surpass', 'target', 'plant', 'crore', 'tree', 'indian', 'expresshad', 'found', 'agenc', 'gram', 'panchayat', 'task', 'plant', 'tree', 'upload', 'mandatori', 'proof', 'tree', 'plantat', 'drive', 'special', 'creat', 'portal', 'pune', 'revenu', 'divis', 'claim', 'gram', 'panchayat', 'plant', 'crore', 'sapl', 'howev', 'evid', 'upload', 'per', 'cent', 'crore', 'sapl', 'also', 'govern', 'agenc', 'involv', 'drive', 'mani', 'submit', 'surviv', 'report', 'sapl', 'year', 'target', 'set', 'forest', 'depart', 'compar', 'modest', 'exampl', 'pune', 'circl', 'compris', 'three', 'divis', 'pune', 'solapur', 'district', 'plan', 'plant', 'lakh', 'sapl', 'forest', 'land', 'howev', 'may', 'meet', 'target', 'due', 'unavail', 'fund', 'last', 'year', 'pune', 'circl', 'plant', 'lakh', 'sapl', 'forest', 'land', 'pune', 'divis', 'compris', 'six', 'taluka', 'name', 'maval', 'mulshi', 'daund', 'indapur', 'baramati', 'havv', 'prepar', 'done', 'plantat', 'lakh', 'tree', 'special', 'emphasi', 'teakwood', 'nation', 'forest', 'polici', 'aim', 'emphas', 'maintain', 'countri', 'geograph', 'area', 'forest', 'green', 'cover', 'view', 'part', 'crore', 'plantat', 'programm', 'within', 'maharashtra', 'maharashtra', 'forest', 'depart', 'aim', 'plant', 'crore', 'sapl', 'state', 'juli', 'celebratevanmohotsav', 'plantat', 'programm', 'announc', 'aim', 'crore', 'tree', 'resound', 'success', 'final', 'total', 'report', 'figur', 'crore', 'sapl', 'plantedon', 'singl', 'day', 'maintain', 'consist', 'platform', 'without', 'affect', 'momentum', 'forest', 'depart', 'set', 'target', 'plantat', 'crore', 'crore', 'crore', 'sapl', 'mission', 'crore', 'plantat', 'shall', 'accomplish', 'three', 'consecut', 'year', 'viz', 'croresapl', 'year', 'plant', 'vanmohotsav', 'juli', 'juli', 'drivewith', 'involv', 'govern', 'depart', 'along', 'student', 'school', 'colleg', 'nss', 'ncc', 'csr', 'ngo', 'railway', 'nation', 'highway', 'defenc', 'nabard', 'stakehold', 'societi', 'first', 'kind', 'freehelplin', 'number', 'hello', 'forest', 'set', 'provid', 'inform', 'regard', 'plantat', 'protect', 'mass', 'awar', 'forest', 'depart', 'creat', 'amobil', 'applic', 'call', 'plantsto', 'record', 'detail', 'plantat', 'number', 'speci', 'locat', 'comput', 'system', 'forest', 'depart', 'volunt', 'individu', 'collect', 'organiz', 'level', 'download', 'use', 'applic', 'record', 'tree', 'plantat', 'work', 'applic', 'oper', 'conson', 'public', 'particip', 'maharashtra', 'forest', 'depart', 'initi', 'maharashtra', 'harit', 'green', 'armi', 'bodi', 'dedic', 'volunt', 'particip', 'plantat', 'protect', 'activ', 'forest', 'wildlif', 'relat', 'sector', 'around', 'year', 'individu', 'organis', 'interest', 'volunt', 'regist', 'green', 'armi', 'integr', 'drive', 'set', 'place', 'ensur', 'seamless', 'success', 'particip', 'stakehold', 'societi', 'especi', 'public']\n"
     ]
    }
   ],
   "source": [
    "# Stemming\n",
    "porter = PorterStemmer()\n",
    "stemmed_words = [porter.stem(word) for word in filtered_tokens]\n",
    "print(\"Stemmed Words:\\n\", stemmed_words)"
   ]
  },
  {
   "cell_type": "code",
   "execution_count": 13,
   "metadata": {},
   "outputs": [
    {
     "data": {
      "application/vnd.microsoft.datawrangler.viewer.v0+json": {
       "columns": [
        {
         "name": "index",
         "rawType": "int64",
         "type": "integer"
        },
        {
         "name": "Stemmed Words",
         "rawType": "object",
         "type": "string"
        }
       ],
       "conversionMethod": "pd.DataFrame",
       "ref": "1a2504ef-d183-4dd3-b5ae-a6f36d8c476d",
       "rows": [
        [
         "0",
         "state"
        ],
        [
         "1",
         "forest"
        ],
        [
         "2",
         "depart"
        ],
        [
         "3",
         "thebjpgovern"
        ],
        [
         "4",
         "launch"
        ],
        [
         "5",
         "green"
        ],
        [
         "6",
         "maharashtra"
        ],
        [
         "7",
         "drive"
        ],
        [
         "8",
         "aim"
        ],
        [
         "9",
         "plant"
        ],
        [
         "10",
         "crore"
        ],
        [
         "11",
         "tree"
        ],
        [
         "12",
         "across"
        ],
        [
         "13",
         "state"
        ],
        [
         "14",
         "period"
        ],
        [
         "15",
         "octob"
        ],
        [
         "16",
         "govern"
        ],
        [
         "17",
         "claim"
        ],
        [
         "18",
         "surpass"
        ],
        [
         "19",
         "target"
        ],
        [
         "20",
         "plant"
        ],
        [
         "21",
         "crore"
        ],
        [
         "22",
         "tree"
        ],
        [
         "23",
         "indian"
        ],
        [
         "24",
         "expresshad"
        ],
        [
         "25",
         "found"
        ],
        [
         "26",
         "agenc"
        ],
        [
         "27",
         "gram"
        ],
        [
         "28",
         "panchayat"
        ],
        [
         "29",
         "task"
        ],
        [
         "30",
         "plant"
        ],
        [
         "31",
         "tree"
        ],
        [
         "32",
         "upload"
        ],
        [
         "33",
         "mandatori"
        ],
        [
         "34",
         "proof"
        ],
        [
         "35",
         "tree"
        ],
        [
         "36",
         "plantat"
        ],
        [
         "37",
         "drive"
        ],
        [
         "38",
         "special"
        ],
        [
         "39",
         "creat"
        ],
        [
         "40",
         "portal"
        ],
        [
         "41",
         "pune"
        ],
        [
         "42",
         "revenu"
        ],
        [
         "43",
         "divis"
        ],
        [
         "44",
         "claim"
        ],
        [
         "45",
         "gram"
        ],
        [
         "46",
         "panchayat"
        ],
        [
         "47",
         "plant"
        ],
        [
         "48",
         "crore"
        ],
        [
         "49",
         "sapl"
        ]
       ],
       "shape": {
        "columns": 1,
        "rows": 308
       }
      },
      "text/html": [
       "<div>\n",
       "<style scoped>\n",
       "    .dataframe tbody tr th:only-of-type {\n",
       "        vertical-align: middle;\n",
       "    }\n",
       "\n",
       "    .dataframe tbody tr th {\n",
       "        vertical-align: top;\n",
       "    }\n",
       "\n",
       "    .dataframe thead th {\n",
       "        text-align: right;\n",
       "    }\n",
       "</style>\n",
       "<table border=\"1\" class=\"dataframe\">\n",
       "  <thead>\n",
       "    <tr style=\"text-align: right;\">\n",
       "      <th></th>\n",
       "      <th>Stemmed Words</th>\n",
       "    </tr>\n",
       "  </thead>\n",
       "  <tbody>\n",
       "    <tr>\n",
       "      <th>0</th>\n",
       "      <td>state</td>\n",
       "    </tr>\n",
       "    <tr>\n",
       "      <th>1</th>\n",
       "      <td>forest</td>\n",
       "    </tr>\n",
       "    <tr>\n",
       "      <th>2</th>\n",
       "      <td>depart</td>\n",
       "    </tr>\n",
       "    <tr>\n",
       "      <th>3</th>\n",
       "      <td>thebjpgovern</td>\n",
       "    </tr>\n",
       "    <tr>\n",
       "      <th>4</th>\n",
       "      <td>launch</td>\n",
       "    </tr>\n",
       "    <tr>\n",
       "      <th>...</th>\n",
       "      <td>...</td>\n",
       "    </tr>\n",
       "    <tr>\n",
       "      <th>303</th>\n",
       "      <td>particip</td>\n",
       "    </tr>\n",
       "    <tr>\n",
       "      <th>304</th>\n",
       "      <td>stakehold</td>\n",
       "    </tr>\n",
       "    <tr>\n",
       "      <th>305</th>\n",
       "      <td>societi</td>\n",
       "    </tr>\n",
       "    <tr>\n",
       "      <th>306</th>\n",
       "      <td>especi</td>\n",
       "    </tr>\n",
       "    <tr>\n",
       "      <th>307</th>\n",
       "      <td>public</td>\n",
       "    </tr>\n",
       "  </tbody>\n",
       "</table>\n",
       "<p>308 rows × 1 columns</p>\n",
       "</div>"
      ],
      "text/plain": [
       "    Stemmed Words\n",
       "0           state\n",
       "1          forest\n",
       "2          depart\n",
       "3    thebjpgovern\n",
       "4          launch\n",
       "..            ...\n",
       "303      particip\n",
       "304     stakehold\n",
       "305       societi\n",
       "306        especi\n",
       "307        public\n",
       "\n",
       "[308 rows x 1 columns]"
      ]
     },
     "execution_count": 13,
     "metadata": {},
     "output_type": "execute_result"
    }
   ],
   "source": [
    "stemming_df = pd.DataFrame(stemmed_words, columns=[\"Stemmed Words\"])\n",
    "stemming_df"
   ]
  },
  {
   "cell_type": "code",
   "execution_count": 14,
   "metadata": {},
   "outputs": [
    {
     "name": "stdout",
     "output_type": "stream",
     "text": [
      "Lemmatized Words:\n",
      " ['state', 'forest', 'department', 'thebjpgovernment', 'launched', 'green', 'maharashtra', 'drive', 'aim', 'plant', 'crore', 'tree', 'across', 'state', 'period', 'october', 'government', 'claimed', 'surpassed', 'target', 'planting', 'crore', 'tree', 'indian', 'expresshad', 'found', 'agency', 'gram', 'panchayat', 'tasked', 'planting', 'tree', 'uploaded', 'mandatory', 'proof', 'tree', 'plantation', 'drive', 'specially', 'created', 'portal', 'pune', 'revenue', 'division', 'claimed', 'gram', 'panchayat', 'planted', 'crore', 'sapling', 'however', 'evidence', 'uploaded', 'per', 'cent', 'crore', 'sapling', 'also', 'government', 'agency', 'involved', 'drive', 'many', 'submitted', 'survival', 'report', 'sapling', 'year', 'target', 'set', 'forest', 'department', 'comparatively', 'modest', 'example', 'pune', 'circle', 'comprises', 'three', 'division', 'pune', 'solapur', 'district', 'planned', 'plant', 'lakh', 'sapling', 'forest', 'land', 'however', 'may', 'meet', 'target', 'due', 'unavailability', 'fund', 'last', 'year', 'pune', 'circle', 'planted', 'lakh', 'sapling', 'forest', 'land', 'pune', 'division', 'comprises', 'six', 'talukas', 'namely', 'maval', 'mulshi', 'daund', 'indapur', 'baramati', 'havveli', 'preparation', 'done', 'plantation', 'lakh', 'tree', 'special', 'emphasis', 'teakwood', 'national', 'forest', 'policy', 'aim', 'emphasizes', 'maintaining', 'country', 'geographical', 'area', 'forest', 'green', 'cover', 'view', 'part', 'crore', 'plantation', 'programme', 'within', 'maharashtra', 'maharashtra', 'forest', 'department', 'aim', 'plant', 'crore', 'sapling', 'state', 'july', 'celebratevanmohotsav', 'plantation', 'programme', 'announced', 'aim', 'crore', 'tree', 'resounding', 'success', 'final', 'total', 'reported', 'figure', 'crore', 'sapling', 'plantedon', 'single', 'day', 'maintain', 'consistency', 'platform', 'without', 'affecting', 'momentum', 'forest', 'department', 'set', 'target', 'plantation', 'crore', 'crore', 'crore', 'sapling', 'mission', 'crore', 'plantation', 'shall', 'accomplished', 'three', 'consecutive', 'year', 'viz', 'croresaplings', 'year', 'planted', 'vanmohotsav', 'july', 'july', 'drivewith', 'involvement', 'government', 'department', 'along', 'student', 'school', 'college', 'nss', 'ncc', 'csr', 'ngo', 'railway', 'national', 'highway', 'defence', 'nabard', 'stakeholder', 'society', 'first', 'kind', 'freehelpline', 'number', 'hello', 'forest', 'set', 'provide', 'information', 'regarding', 'plantation', 'protection', 'mass', 'awareness', 'forest', 'department', 'created', 'amobile', 'application', 'called', 'plantsto', 'record', 'detail', 'plantation', 'number', 'specie', 'location', 'computer', 'system', 'forest', 'department', 'volunteer', 'individual', 'collective', 'organizational', 'level', 'download', 'use', 'application', 'record', 'tree', 'plantation', 'work', 'application', 'operational', 'consonance', 'public', 'participation', 'maharashtra', 'forest', 'department', 'initiated', 'maharashtra', 'harit', 'green', 'army', 'body', 'dedicated', 'volunteer', 'participate', 'plantation', 'protection', 'activity', 'forest', 'wildlife', 'related', 'sector', 'around', 'year', 'individual', 'organisation', 'interested', 'volunteering', 'register', 'green', 'army', 'integrated', 'drive', 'set', 'place', 'ensure', 'seamless', 'successful', 'participation', 'stakeholder', 'society', 'especially', 'public']\n"
     ]
    }
   ],
   "source": [
    "# Lemmatization\n",
    "lemmatizer = WordNetLemmatizer()\n",
    "lemmatized_words = [lemmatizer.lemmatize(word) for word in filtered_tokens]\n",
    "print(\"Lemmatized Words:\\n\", lemmatized_words)"
   ]
  },
  {
   "cell_type": "code",
   "execution_count": 15,
   "metadata": {},
   "outputs": [
    {
     "data": {
      "application/vnd.microsoft.datawrangler.viewer.v0+json": {
       "columns": [
        {
         "name": "index",
         "rawType": "int64",
         "type": "integer"
        },
        {
         "name": "0",
         "rawType": "object",
         "type": "string"
        }
       ],
       "conversionMethod": "pd.DataFrame",
       "ref": "bf904664-95fd-4c26-81ed-3f16fb793cbf",
       "rows": [
        [
         "0",
         "state"
        ],
        [
         "1",
         "forest"
        ],
        [
         "2",
         "department"
        ],
        [
         "3",
         "thebjpgovernment"
        ],
        [
         "4",
         "launched"
        ],
        [
         "5",
         "green"
        ],
        [
         "6",
         "maharashtra"
        ],
        [
         "7",
         "drive"
        ],
        [
         "8",
         "aim"
        ],
        [
         "9",
         "plant"
        ],
        [
         "10",
         "crore"
        ],
        [
         "11",
         "tree"
        ],
        [
         "12",
         "across"
        ],
        [
         "13",
         "state"
        ],
        [
         "14",
         "period"
        ],
        [
         "15",
         "october"
        ],
        [
         "16",
         "government"
        ],
        [
         "17",
         "claimed"
        ],
        [
         "18",
         "surpassed"
        ],
        [
         "19",
         "target"
        ],
        [
         "20",
         "planting"
        ],
        [
         "21",
         "crore"
        ],
        [
         "22",
         "tree"
        ],
        [
         "23",
         "indian"
        ],
        [
         "24",
         "expresshad"
        ],
        [
         "25",
         "found"
        ],
        [
         "26",
         "agency"
        ],
        [
         "27",
         "gram"
        ],
        [
         "28",
         "panchayat"
        ],
        [
         "29",
         "tasked"
        ],
        [
         "30",
         "planting"
        ],
        [
         "31",
         "tree"
        ],
        [
         "32",
         "uploaded"
        ],
        [
         "33",
         "mandatory"
        ],
        [
         "34",
         "proof"
        ],
        [
         "35",
         "tree"
        ],
        [
         "36",
         "plantation"
        ],
        [
         "37",
         "drive"
        ],
        [
         "38",
         "specially"
        ],
        [
         "39",
         "created"
        ],
        [
         "40",
         "portal"
        ],
        [
         "41",
         "pune"
        ],
        [
         "42",
         "revenue"
        ],
        [
         "43",
         "division"
        ],
        [
         "44",
         "claimed"
        ],
        [
         "45",
         "gram"
        ],
        [
         "46",
         "panchayat"
        ],
        [
         "47",
         "planted"
        ],
        [
         "48",
         "crore"
        ],
        [
         "49",
         "sapling"
        ]
       ],
       "shape": {
        "columns": 1,
        "rows": 308
       }
      },
      "text/html": [
       "<div>\n",
       "<style scoped>\n",
       "    .dataframe tbody tr th:only-of-type {\n",
       "        vertical-align: middle;\n",
       "    }\n",
       "\n",
       "    .dataframe tbody tr th {\n",
       "        vertical-align: top;\n",
       "    }\n",
       "\n",
       "    .dataframe thead th {\n",
       "        text-align: right;\n",
       "    }\n",
       "</style>\n",
       "<table border=\"1\" class=\"dataframe\">\n",
       "  <thead>\n",
       "    <tr style=\"text-align: right;\">\n",
       "      <th></th>\n",
       "      <th>0</th>\n",
       "    </tr>\n",
       "  </thead>\n",
       "  <tbody>\n",
       "    <tr>\n",
       "      <th>0</th>\n",
       "      <td>state</td>\n",
       "    </tr>\n",
       "    <tr>\n",
       "      <th>1</th>\n",
       "      <td>forest</td>\n",
       "    </tr>\n",
       "    <tr>\n",
       "      <th>2</th>\n",
       "      <td>department</td>\n",
       "    </tr>\n",
       "    <tr>\n",
       "      <th>3</th>\n",
       "      <td>thebjpgovernment</td>\n",
       "    </tr>\n",
       "    <tr>\n",
       "      <th>4</th>\n",
       "      <td>launched</td>\n",
       "    </tr>\n",
       "    <tr>\n",
       "      <th>...</th>\n",
       "      <td>...</td>\n",
       "    </tr>\n",
       "    <tr>\n",
       "      <th>303</th>\n",
       "      <td>participation</td>\n",
       "    </tr>\n",
       "    <tr>\n",
       "      <th>304</th>\n",
       "      <td>stakeholder</td>\n",
       "    </tr>\n",
       "    <tr>\n",
       "      <th>305</th>\n",
       "      <td>society</td>\n",
       "    </tr>\n",
       "    <tr>\n",
       "      <th>306</th>\n",
       "      <td>especially</td>\n",
       "    </tr>\n",
       "    <tr>\n",
       "      <th>307</th>\n",
       "      <td>public</td>\n",
       "    </tr>\n",
       "  </tbody>\n",
       "</table>\n",
       "<p>308 rows × 1 columns</p>\n",
       "</div>"
      ],
      "text/plain": [
       "                    0\n",
       "0               state\n",
       "1              forest\n",
       "2          department\n",
       "3    thebjpgovernment\n",
       "4            launched\n",
       "..                ...\n",
       "303     participation\n",
       "304       stakeholder\n",
       "305           society\n",
       "306        especially\n",
       "307            public\n",
       "\n",
       "[308 rows x 1 columns]"
      ]
     },
     "execution_count": 15,
     "metadata": {},
     "output_type": "execute_result"
    }
   ],
   "source": [
    "lemmatized_df = pd.DataFrame(lemmatized_words)\n",
    "lemmatized_df"
   ]
  },
  {
   "cell_type": "markdown",
   "metadata": {},
   "source": [
    "# Part 2\n"
   ]
  },
  {
   "cell_type": "code",
   "execution_count": 16,
   "metadata": {},
   "outputs": [
    {
     "name": "stdout",
     "output_type": "stream",
     "text": [
      "Term Frequency:\n",
      " <FreqDist with 180 samples and 308 outcomes>\n"
     ]
    }
   ],
   "source": [
    "# Term Frequency (TF)\n",
    "tf = FreqDist(stemmed_words)\n",
    "print(\"Term Frequency:\\n\", tf)"
   ]
  },
  {
   "cell_type": "code",
   "execution_count": 17,
   "metadata": {},
   "outputs": [
    {
     "data": {
      "application/vnd.microsoft.datawrangler.viewer.v0+json": {
       "columns": [
        {
         "name": "index",
         "rawType": "int64",
         "type": "integer"
        },
        {
         "name": "Word",
         "rawType": "object",
         "type": "string"
        },
        {
         "name": "TF Score",
         "rawType": "int64",
         "type": "integer"
        }
       ],
       "conversionMethod": "pd.DataFrame",
       "ref": "0dccd80d-988c-4790-b89b-18c996a8cc4d",
       "rows": [
        [
         "0",
         "state",
         "3"
        ],
        [
         "1",
         "forest",
         "13"
        ],
        [
         "2",
         "depart",
         "8"
        ],
        [
         "3",
         "thebjpgovern",
         "1"
        ],
        [
         "4",
         "launch",
         "1"
        ],
        [
         "5",
         "green",
         "4"
        ],
        [
         "6",
         "maharashtra",
         "5"
        ],
        [
         "7",
         "drive",
         "4"
        ],
        [
         "8",
         "aim",
         "4"
        ],
        [
         "9",
         "plant",
         "8"
        ],
        [
         "10",
         "crore",
         "12"
        ],
        [
         "11",
         "tree",
         "7"
        ],
        [
         "12",
         "across",
         "1"
        ],
        [
         "13",
         "period",
         "1"
        ],
        [
         "14",
         "octob",
         "1"
        ],
        [
         "15",
         "govern",
         "3"
        ],
        [
         "16",
         "claim",
         "2"
        ],
        [
         "17",
         "surpass",
         "1"
        ],
        [
         "18",
         "target",
         "4"
        ],
        [
         "19",
         "indian",
         "1"
        ],
        [
         "20",
         "expresshad",
         "1"
        ],
        [
         "21",
         "found",
         "1"
        ],
        [
         "22",
         "agenc",
         "2"
        ],
        [
         "23",
         "gram",
         "2"
        ],
        [
         "24",
         "panchayat",
         "2"
        ],
        [
         "25",
         "task",
         "1"
        ],
        [
         "26",
         "upload",
         "2"
        ],
        [
         "27",
         "mandatori",
         "1"
        ],
        [
         "28",
         "proof",
         "1"
        ],
        [
         "29",
         "plantat",
         "10"
        ],
        [
         "30",
         "special",
         "2"
        ],
        [
         "31",
         "creat",
         "2"
        ],
        [
         "32",
         "portal",
         "1"
        ],
        [
         "33",
         "pune",
         "5"
        ],
        [
         "34",
         "revenu",
         "1"
        ],
        [
         "35",
         "divis",
         "3"
        ],
        [
         "36",
         "sapl",
         "8"
        ],
        [
         "37",
         "howev",
         "2"
        ],
        [
         "38",
         "evid",
         "1"
        ],
        [
         "39",
         "per",
         "1"
        ],
        [
         "40",
         "cent",
         "1"
        ],
        [
         "41",
         "also",
         "1"
        ],
        [
         "42",
         "involv",
         "2"
        ],
        [
         "43",
         "mani",
         "1"
        ],
        [
         "44",
         "submit",
         "1"
        ],
        [
         "45",
         "surviv",
         "1"
        ],
        [
         "46",
         "report",
         "2"
        ],
        [
         "47",
         "year",
         "5"
        ],
        [
         "48",
         "set",
         "4"
        ],
        [
         "49",
         "compar",
         "1"
        ]
       ],
       "shape": {
        "columns": 2,
        "rows": 180
       }
      },
      "text/html": [
       "<div>\n",
       "<style scoped>\n",
       "    .dataframe tbody tr th:only-of-type {\n",
       "        vertical-align: middle;\n",
       "    }\n",
       "\n",
       "    .dataframe tbody tr th {\n",
       "        vertical-align: top;\n",
       "    }\n",
       "\n",
       "    .dataframe thead th {\n",
       "        text-align: right;\n",
       "    }\n",
       "</style>\n",
       "<table border=\"1\" class=\"dataframe\">\n",
       "  <thead>\n",
       "    <tr style=\"text-align: right;\">\n",
       "      <th></th>\n",
       "      <th>Word</th>\n",
       "      <th>TF Score</th>\n",
       "    </tr>\n",
       "  </thead>\n",
       "  <tbody>\n",
       "    <tr>\n",
       "      <th>0</th>\n",
       "      <td>state</td>\n",
       "      <td>3</td>\n",
       "    </tr>\n",
       "    <tr>\n",
       "      <th>1</th>\n",
       "      <td>forest</td>\n",
       "      <td>13</td>\n",
       "    </tr>\n",
       "    <tr>\n",
       "      <th>2</th>\n",
       "      <td>depart</td>\n",
       "      <td>8</td>\n",
       "    </tr>\n",
       "    <tr>\n",
       "      <th>3</th>\n",
       "      <td>thebjpgovern</td>\n",
       "      <td>1</td>\n",
       "    </tr>\n",
       "    <tr>\n",
       "      <th>4</th>\n",
       "      <td>launch</td>\n",
       "      <td>1</td>\n",
       "    </tr>\n",
       "    <tr>\n",
       "      <th>...</th>\n",
       "      <td>...</td>\n",
       "      <td>...</td>\n",
       "    </tr>\n",
       "    <tr>\n",
       "      <th>175</th>\n",
       "      <td>integr</td>\n",
       "      <td>1</td>\n",
       "    </tr>\n",
       "    <tr>\n",
       "      <th>176</th>\n",
       "      <td>place</td>\n",
       "      <td>1</td>\n",
       "    </tr>\n",
       "    <tr>\n",
       "      <th>177</th>\n",
       "      <td>ensur</td>\n",
       "      <td>1</td>\n",
       "    </tr>\n",
       "    <tr>\n",
       "      <th>178</th>\n",
       "      <td>seamless</td>\n",
       "      <td>1</td>\n",
       "    </tr>\n",
       "    <tr>\n",
       "      <th>179</th>\n",
       "      <td>especi</td>\n",
       "      <td>1</td>\n",
       "    </tr>\n",
       "  </tbody>\n",
       "</table>\n",
       "<p>180 rows × 2 columns</p>\n",
       "</div>"
      ],
      "text/plain": [
       "             Word  TF Score\n",
       "0           state         3\n",
       "1          forest        13\n",
       "2          depart         8\n",
       "3    thebjpgovern         1\n",
       "4          launch         1\n",
       "..            ...       ...\n",
       "175        integr         1\n",
       "176         place         1\n",
       "177         ensur         1\n",
       "178      seamless         1\n",
       "179        especi         1\n",
       "\n",
       "[180 rows x 2 columns]"
      ]
     },
     "execution_count": 17,
     "metadata": {},
     "output_type": "execute_result"
    }
   ],
   "source": [
    "tf_df = pd.DataFrame(list(tf.items()), columns=[\"Word\", \"TF Score\"])\n",
    "tf_df"
   ]
  },
  {
   "cell_type": "code",
   "execution_count": 18,
   "metadata": {},
   "outputs": [],
   "source": [
    "# TF-IDF Calculation\n",
    "corpus = [cleaned_text]\n",
    "tfidf_vectorizer = TfidfVectorizer()\n",
    "tfidf_matrix = tfidf_vectorizer.fit_transform(corpus)\n",
    "idf_values = dict(zip(tfidf_vectorizer.get_feature_names_out(), tfidf_vectorizer.idf_))"
   ]
  },
  {
   "cell_type": "code",
   "execution_count": 19,
   "metadata": {},
   "outputs": [
    {
     "name": "stdout",
     "output_type": "stream",
     "text": [
      "Term Frequency - Inverse Document Frequency:\n",
      " {'state': np.float64(3.0), 'forest': np.float64(13.0), 'depart': 0, 'thebjpgovern': 0, 'launch': 0, 'green': np.float64(4.0), 'maharashtra': np.float64(5.0), 'drive': np.float64(4.0), 'aim': np.float64(4.0), 'plant': np.float64(8.0), 'crore': np.float64(12.0), 'tree': np.float64(7.0), 'across': np.float64(1.0), 'period': np.float64(1.0), 'octob': 0, 'govern': 0, 'claim': 0, 'surpass': 0, 'target': np.float64(4.0), 'indian': np.float64(1.0), 'expresshad': np.float64(1.0), 'found': np.float64(1.0), 'agenc': 0, 'gram': np.float64(2.0), 'panchayat': 0, 'task': 0, 'upload': 0, 'mandatori': 0, 'proof': np.float64(1.0), 'plantat': 0, 'special': np.float64(2.0), 'creat': 0, 'portal': np.float64(1.0), 'pune': np.float64(5.0), 'revenu': 0, 'divis': 0, 'sapl': 0, 'howev': 0, 'evid': 0, 'per': np.float64(1.0), 'cent': np.float64(1.0), 'also': np.float64(1.0), 'involv': 0, 'mani': 0, 'submit': 0, 'surviv': 0, 'report': 0, 'year': np.float64(5.0), 'set': np.float64(4.0), 'compar': 0, 'modest': np.float64(1.0), 'exampl': 0, 'circl': 0, 'compris': 0, 'three': np.float64(2.0), 'solapur': np.float64(1.0), 'district': np.float64(1.0), 'plan': 0, 'lakh': np.float64(3.0), 'land': np.float64(2.0), 'may': np.float64(1.0), 'meet': np.float64(1.0), 'due': np.float64(1.0), 'unavail': 0, 'fund': 0, 'last': np.float64(1.0), 'six': np.float64(1.0), 'taluka': 0, 'name': 0, 'maval': np.float64(1.0), 'mulshi': np.float64(1.0), 'daund': np.float64(1.0), 'indapur': np.float64(1.0), 'baramati': np.float64(1.0), 'havv': 0, 'prepar': 0, 'done': np.float64(1.0), 'emphasi': 0, 'teakwood': np.float64(1.0), 'nation': 0, 'polici': 0, 'emphas': 0, 'maintain': np.float64(2.0), 'countri': 0, 'geograph': 0, 'area': np.float64(1.0), 'cover': np.float64(1.0), 'view': np.float64(1.0), 'part': np.float64(1.0), 'programm': 0, 'within': np.float64(1.0), 'juli': 0, 'celebratevanmohotsav': np.float64(1.0), 'announc': 0, 'resound': 0, 'success': np.float64(2.0), 'final': np.float64(1.0), 'total': np.float64(1.0), 'figur': 0, 'plantedon': np.float64(1.0), 'singl': 0, 'day': np.float64(1.0), 'consist': 0, 'platform': np.float64(1.0), 'without': np.float64(1.0), 'affect': 0, 'momentum': np.float64(1.0), 'mission': np.float64(1.0), 'shall': np.float64(1.0), 'accomplish': 0, 'consecut': 0, 'viz': np.float64(1.0), 'croresapl': 0, 'vanmohotsav': np.float64(1.0), 'drivewith': np.float64(1.0), 'along': np.float64(1.0), 'student': 0, 'school': 0, 'colleg': 0, 'nss': np.float64(1.0), 'ncc': np.float64(1.0), 'csr': np.float64(1.0), 'ngo': 0, 'railway': 0, 'highway': 0, 'defenc': 0, 'nabard': np.float64(1.0), 'stakehold': 0, 'societi': 0, 'first': np.float64(1.0), 'kind': np.float64(1.0), 'freehelplin': 0, 'number': np.float64(2.0), 'hello': np.float64(1.0), 'provid': 0, 'inform': 0, 'regard': 0, 'protect': 0, 'mass': np.float64(1.0), 'awar': 0, 'amobil': 0, 'applic': 0, 'call': 0, 'plantsto': np.float64(1.0), 'record': np.float64(2.0), 'detail': 0, 'speci': 0, 'locat': 0, 'comput': 0, 'system': np.float64(1.0), 'volunt': 0, 'individu': 0, 'collect': 0, 'organiz': 0, 'level': np.float64(1.0), 'download': np.float64(1.0), 'use': np.float64(1.0), 'work': np.float64(1.0), 'oper': 0, 'conson': 0, 'public': np.float64(2.0), 'particip': 0, 'initi': 0, 'harit': np.float64(1.0), 'armi': 0, 'bodi': 0, 'dedic': 0, 'activ': 0, 'wildlif': 0, 'relat': 0, 'sector': 0, 'around': np.float64(1.0), 'organis': 0, 'interest': 0, 'regist': 0, 'integr': 0, 'place': np.float64(1.0), 'ensur': 0, 'seamless': np.float64(1.0), 'especi': 0}\n"
     ]
    }
   ],
   "source": [
    "tfidf_scores = {word: tf[word] * idf_values.get(word, 0) for word in tf.keys()}\n",
    "print(\"Term Frequency - Inverse Document Frequency:\\n\", tfidf_scores)"
   ]
  },
  {
   "cell_type": "code",
   "execution_count": 20,
   "metadata": {},
   "outputs": [
    {
     "data": {
      "application/vnd.microsoft.datawrangler.viewer.v0+json": {
       "columns": [
        {
         "name": "index",
         "rawType": "int64",
         "type": "integer"
        },
        {
         "name": "Word",
         "rawType": "object",
         "type": "string"
        },
        {
         "name": "TF-IDF Score",
         "rawType": "float64",
         "type": "float"
        }
       ],
       "conversionMethod": "pd.DataFrame",
       "ref": "8bda02fc-f7e1-4c87-b0d9-74177714e23a",
       "rows": [
        [
         "0",
         "state",
         "3.0"
        ],
        [
         "1",
         "forest",
         "13.0"
        ],
        [
         "2",
         "depart",
         "0.0"
        ],
        [
         "3",
         "thebjpgovern",
         "0.0"
        ],
        [
         "4",
         "launch",
         "0.0"
        ],
        [
         "5",
         "green",
         "4.0"
        ],
        [
         "6",
         "maharashtra",
         "5.0"
        ],
        [
         "7",
         "drive",
         "4.0"
        ],
        [
         "8",
         "aim",
         "4.0"
        ],
        [
         "9",
         "plant",
         "8.0"
        ],
        [
         "10",
         "crore",
         "12.0"
        ],
        [
         "11",
         "tree",
         "7.0"
        ],
        [
         "12",
         "across",
         "1.0"
        ],
        [
         "13",
         "period",
         "1.0"
        ],
        [
         "14",
         "octob",
         "0.0"
        ],
        [
         "15",
         "govern",
         "0.0"
        ],
        [
         "16",
         "claim",
         "0.0"
        ],
        [
         "17",
         "surpass",
         "0.0"
        ],
        [
         "18",
         "target",
         "4.0"
        ],
        [
         "19",
         "indian",
         "1.0"
        ],
        [
         "20",
         "expresshad",
         "1.0"
        ],
        [
         "21",
         "found",
         "1.0"
        ],
        [
         "22",
         "agenc",
         "0.0"
        ],
        [
         "23",
         "gram",
         "2.0"
        ],
        [
         "24",
         "panchayat",
         "0.0"
        ],
        [
         "25",
         "task",
         "0.0"
        ],
        [
         "26",
         "upload",
         "0.0"
        ],
        [
         "27",
         "mandatori",
         "0.0"
        ],
        [
         "28",
         "proof",
         "1.0"
        ],
        [
         "29",
         "plantat",
         "0.0"
        ],
        [
         "30",
         "special",
         "2.0"
        ],
        [
         "31",
         "creat",
         "0.0"
        ],
        [
         "32",
         "portal",
         "1.0"
        ],
        [
         "33",
         "pune",
         "5.0"
        ],
        [
         "34",
         "revenu",
         "0.0"
        ],
        [
         "35",
         "divis",
         "0.0"
        ],
        [
         "36",
         "sapl",
         "0.0"
        ],
        [
         "37",
         "howev",
         "0.0"
        ],
        [
         "38",
         "evid",
         "0.0"
        ],
        [
         "39",
         "per",
         "1.0"
        ],
        [
         "40",
         "cent",
         "1.0"
        ],
        [
         "41",
         "also",
         "1.0"
        ],
        [
         "42",
         "involv",
         "0.0"
        ],
        [
         "43",
         "mani",
         "0.0"
        ],
        [
         "44",
         "submit",
         "0.0"
        ],
        [
         "45",
         "surviv",
         "0.0"
        ],
        [
         "46",
         "report",
         "0.0"
        ],
        [
         "47",
         "year",
         "5.0"
        ],
        [
         "48",
         "set",
         "4.0"
        ],
        [
         "49",
         "compar",
         "0.0"
        ]
       ],
       "shape": {
        "columns": 2,
        "rows": 180
       }
      },
      "text/html": [
       "<div>\n",
       "<style scoped>\n",
       "    .dataframe tbody tr th:only-of-type {\n",
       "        vertical-align: middle;\n",
       "    }\n",
       "\n",
       "    .dataframe tbody tr th {\n",
       "        vertical-align: top;\n",
       "    }\n",
       "\n",
       "    .dataframe thead th {\n",
       "        text-align: right;\n",
       "    }\n",
       "</style>\n",
       "<table border=\"1\" class=\"dataframe\">\n",
       "  <thead>\n",
       "    <tr style=\"text-align: right;\">\n",
       "      <th></th>\n",
       "      <th>Word</th>\n",
       "      <th>TF-IDF Score</th>\n",
       "    </tr>\n",
       "  </thead>\n",
       "  <tbody>\n",
       "    <tr>\n",
       "      <th>0</th>\n",
       "      <td>state</td>\n",
       "      <td>3.0</td>\n",
       "    </tr>\n",
       "    <tr>\n",
       "      <th>1</th>\n",
       "      <td>forest</td>\n",
       "      <td>13.0</td>\n",
       "    </tr>\n",
       "    <tr>\n",
       "      <th>2</th>\n",
       "      <td>depart</td>\n",
       "      <td>0.0</td>\n",
       "    </tr>\n",
       "    <tr>\n",
       "      <th>3</th>\n",
       "      <td>thebjpgovern</td>\n",
       "      <td>0.0</td>\n",
       "    </tr>\n",
       "    <tr>\n",
       "      <th>4</th>\n",
       "      <td>launch</td>\n",
       "      <td>0.0</td>\n",
       "    </tr>\n",
       "    <tr>\n",
       "      <th>...</th>\n",
       "      <td>...</td>\n",
       "      <td>...</td>\n",
       "    </tr>\n",
       "    <tr>\n",
       "      <th>175</th>\n",
       "      <td>integr</td>\n",
       "      <td>0.0</td>\n",
       "    </tr>\n",
       "    <tr>\n",
       "      <th>176</th>\n",
       "      <td>place</td>\n",
       "      <td>1.0</td>\n",
       "    </tr>\n",
       "    <tr>\n",
       "      <th>177</th>\n",
       "      <td>ensur</td>\n",
       "      <td>0.0</td>\n",
       "    </tr>\n",
       "    <tr>\n",
       "      <th>178</th>\n",
       "      <td>seamless</td>\n",
       "      <td>1.0</td>\n",
       "    </tr>\n",
       "    <tr>\n",
       "      <th>179</th>\n",
       "      <td>especi</td>\n",
       "      <td>0.0</td>\n",
       "    </tr>\n",
       "  </tbody>\n",
       "</table>\n",
       "<p>180 rows × 2 columns</p>\n",
       "</div>"
      ],
      "text/plain": [
       "             Word  TF-IDF Score\n",
       "0           state           3.0\n",
       "1          forest          13.0\n",
       "2          depart           0.0\n",
       "3    thebjpgovern           0.0\n",
       "4          launch           0.0\n",
       "..            ...           ...\n",
       "175        integr           0.0\n",
       "176         place           1.0\n",
       "177         ensur           0.0\n",
       "178      seamless           1.0\n",
       "179        especi           0.0\n",
       "\n",
       "[180 rows x 2 columns]"
      ]
     },
     "execution_count": 20,
     "metadata": {},
     "output_type": "execute_result"
    }
   ],
   "source": [
    "tfidf_df = pd.DataFrame(list(tfidf_scores.items()), columns=[\"Word\", \"TF-IDF Score\"])\n",
    "tfidf_df"
   ]
  }
 ],
 "metadata": {
  "kernelspec": {
   "display_name": ".venv",
   "language": "python",
   "name": "python3"
  },
  "language_info": {
   "codemirror_mode": {
    "name": "ipython",
    "version": 3
   },
   "file_extension": ".py",
   "mimetype": "text/x-python",
   "name": "python",
   "nbconvert_exporter": "python",
   "pygments_lexer": "ipython3",
   "version": "3.13.3"
  }
 },
 "nbformat": 4,
 "nbformat_minor": 2
}
