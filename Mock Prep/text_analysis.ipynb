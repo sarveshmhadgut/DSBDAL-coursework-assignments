{
 "cells": [
  {
   "cell_type": "code",
   "execution_count": 19,
   "id": "ac265fe2",
   "metadata": {},
   "outputs": [],
   "source": [
    "import nltk\n",
    "import pandas as pd\n",
    "import string\n",
    "from nltk.corpus import stopwords\n",
    "from nltk.tokenize import word_tokenize\n",
    "from nltk.stem import PorterStemmer, WordNetLemmatizer\n",
    "from nltk.probability import FreqDist\n",
    "from sklearn.feature_extraction.text import TfidfVectorizer"
   ]
  },
  {
   "cell_type": "code",
   "execution_count": 20,
   "id": "5e19afb1",
   "metadata": {},
   "outputs": [
    {
     "name": "stderr",
     "output_type": "stream",
     "text": [
      "[nltk_data] Downloading package punkt to\n",
      "[nltk_data]     /Users/sarveshmhadgut/nltk_data...\n",
      "[nltk_data]   Package punkt is already up-to-date!\n",
      "[nltk_data] Downloading package stopwords to\n",
      "[nltk_data]     /Users/sarveshmhadgut/nltk_data...\n",
      "[nltk_data]   Package stopwords is already up-to-date!\n",
      "[nltk_data] Downloading package wordnet to\n",
      "[nltk_data]     /Users/sarveshmhadgut/nltk_data...\n",
      "[nltk_data]   Package wordnet is already up-to-date!\n",
      "[nltk_data] Downloading package averaged_perceptron_tagger to\n",
      "[nltk_data]     /Users/sarveshmhadgut/nltk_data...\n",
      "[nltk_data]   Package averaged_perceptron_tagger is already up-to-\n",
      "[nltk_data]       date!\n"
     ]
    },
    {
     "data": {
      "text/plain": [
       "True"
      ]
     },
     "execution_count": 20,
     "metadata": {},
     "output_type": "execute_result"
    }
   ],
   "source": [
    "nltk.download(\"punkt\")\n",
    "nltk.download(\"stopwords\")\n",
    "nltk.download(\"wordnet\")\n",
    "nltk.download(\"averaged_perceptron_tagger\")"
   ]
  },
  {
   "cell_type": "code",
   "execution_count": 21,
   "id": "39dcb7ec",
   "metadata": {},
   "outputs": [],
   "source": [
    "with open(\"../datasets/doc_01.txt\", \"r\", encoding=\"utf-8\") as f:\n",
    "    text = f.read()"
   ]
  },
  {
   "cell_type": "code",
   "execution_count": 22,
   "id": "451e9d6c",
   "metadata": {},
   "outputs": [
    {
     "name": "stdout",
     "output_type": "stream",
     "text": [
      "Between 2016 and 2019, the state forest department under the BJP government had launched ‘Green Maharashtra’ drive with an aim to plant 50 crore trees across the state in the four-year period. In October 2019, the government had claimed it had surpassed the target by planting 33 crore trees in July-September 2019. The Indian Express had found that non-forest agencies — such as gram panchayats — which were tasked with planting trees had not uploaded the mandatory audio-visual proof of the tree plantation drives on the specially created portal.\n",
      "In Pune Revenue Division, it was claimed the gram panchayats planted 1.7 crore saplings; however, no evidence was uploaded for 87 per cent (1.49 crore) saplings. Also, out of the 59 government agencies involved in the drive as many as 38 had not submitted survival reports about the saplings.\n",
      "This year, the targets set by the forest department were comparatively modest. For example, Pune Circle — which comprises three divisions in Pune and Solapur district — had planned to plant 17 lakh saplings on forest land. However, it may not meet the target due to unavailability of funds. Last year Pune Circle planted 70 lakh saplings on forest land.\n",
      "In Pune Division — which comprises six talukas namely Maval, Mulshi, Daund, Indapur, Baramati and Havveli — preparations were done for plantation of about 4 lakh trees with special emphasis on teakwood.\n",
      "The National Forest Policy aims and emphasizes at maintaining 33% of the country’s geographical area under forest and green cover. In view of this and as a part of the 50 crore plantation programme within Maharashtra, the Maharashtra Forest Department aims to plant 4 crore saplings all over the State between 1st to July 7th, 2017 to celebrate ‘Vanmohotsav’.\n",
      " \n",
      "The plantation programme, which was announced in 2016 with the aim of planting 2 crore trees on 1st July 2016 was a resounding success with the final total reported figure of 2.82 crore saplings planted on a single day. To maintain consistency of this platform without affecting its momentum, the Forest Department has set the target of plantation of 4 crore, 13 crore and 33 crore saplings under the mission of 50 crore plantation which shall be accomplished in the three consecutive years viz. 2017, 2018 and 2019.\n",
      " \n",
      "The 4 crore saplings for the year 2017 will be planted during the Vanmohotsav, July 1st to July 7th in a state-wide drive with the involvement of 33 government departments along with Students of Schools and Colleges, NSS, NCC, CSR, NGOs, Railways, National Highways, Defence, NABARD and other stakeholders of Society.\n",
      " \n",
      "In a first of its kind, a 24-hour toll free helpline number 1926 called ‘Hello Forest’ has been set up to provide information regarding plantation, protection and for mass awareness. The Forest Department has created a mobile application called ‘My Plants’ to record details of the plantation such as numbers, species and location into the computer system of the Forest Department. All volunteers at individual, collective and organizational level should download and use this application to record their tree plantation work through the application, which will be operational from 1st July to 7th July. \n",
      " \n",
      "In consonance of the public participation, the Maharashtra Forest Department has initiated the ‘Maharashtra Harit Sena’/ ‘Green Army’ which is a body of dedicated volunteers to participate in the plantation, protection, and activities in forest, wildlife, and related sectors around the year. Individuals and organisations interested in volunteering can register on the Green Army website www.greenarmy.mahaforest.gov.in\n",
      " \n",
      "An integrated drive has been set in place to ensure seamless and successful participation from all stakeholders of society, especially the public.\n",
      "\n",
      "\n"
     ]
    }
   ],
   "source": [
    "print(text)"
   ]
  },
  {
   "cell_type": "code",
   "execution_count": 23,
   "id": "bdc5bc55",
   "metadata": {},
   "outputs": [],
   "source": [
    "def clean_data(text):\n",
    "    return \"\".join(char.lower() for char in text if char in string.printable)"
   ]
  },
  {
   "cell_type": "code",
   "execution_count": 24,
   "id": "3a5d985a",
   "metadata": {},
   "outputs": [
    {
     "name": "stdout",
     "output_type": "stream",
     "text": [
      "between 2016 and 2019, the state forest department under thebjpgovernment had launched green maharashtra drive with an aim to plant 50 crore trees across the state in the four-year period. in october 2019, the government had claimed it had surpassed the target by planting 33 crore trees in july-september 2019.the indian expresshad found that non-forest agencies  such as gram panchayats  which were tasked with planting trees had not uploaded the mandatory audio-visual proof of the tree plantation drives on the specially created portal.\n",
      "in pune revenue division, it was claimed the gram panchayats planted 1.7 crore saplings; however, no evidence was uploaded for 87 per cent (1.49 crore) saplings. also, out of the 59 government agencies involved in the drive as many as 38 had not submitted survival reports about the saplings.\n",
      "this year, the targets set by the forest department were comparatively modest. for example, pune circle  which comprises three divisions in pune and solapur district  had planned to plant 17 lakh saplings on forest land. however, it may not meet the target due to unavailability of funds. last year pune circle planted 70 lakh saplings on forest land.\n",
      "in pune division  which comprises six talukas namely maval, mulshi, daund, indapur, baramati and havveli  preparations were done for plantation of about 4 lakh trees with special emphasis on teakwood.\n",
      "the national forest policy aims and emphasizes at maintaining 33% of the countrys geographical area under forest and green cover. in view of this and as a part of the 50 crore plantation programme within maharashtra, the maharashtra forest department aims to plant 4 crore saplings all over the state between1st to july 7th, 2017to celebratevanmohotsav.\n",
      "\n",
      "the plantation programme, which was announced in 2016 with the aim of planting2 crore trees on 1stjuly 2016 was a resounding success with the final total reported figure of2.82 crore saplings plantedon a single day. to maintain consistency of this platform without affecting its momentum, the forest department has set the target of plantation of 4 crore, 13 crore and 33 crore saplings under the mission of 50 crore plantation which shall be accomplished in the three consecutive years viz. 2017, 2018 and 2019.\n",
      "\n",
      "the4 croresaplings for the year 2017 will be planted during the vanmohotsav,july 1st to july 7thin a state-wide drivewith the involvement of 33 government departments along with students of schools and colleges, nss, ncc, csr, ngos, railways, national highways, defence, nabard and other stakeholders of society.\n",
      "\n",
      "in a first of its kind, a24-hourtoll freehelpline number 1926called hello forest has been set up to provide information regarding plantation, protection and for mass awareness. the forest department has created amobile application called my plantsto record details of the plantation such as numbers, species and location into the computer system of the forest department. all volunteers at individual, collective and organizational level should download and use this application to record their tree plantation work through the application, which will be operational from 1stjuly to 7thjuly.\n",
      "\n",
      "in consonance of the public participation, the maharashtra forest department has initiated the maharashtra harit sena/ green army which is a body of dedicated volunteers to participate in the plantation, protection, and activities in forest, wildlife, and related sectors around the year. individuals and organisations interested in volunteering can register on the green army websitewww.greenarmy.mahaforest.gov.in\n",
      "\n",
      "an integrated drive has been set in place to ensure seamless and successful participation from all stakeholders of society, especially the public.\n",
      "\n",
      "\n"
     ]
    }
   ],
   "source": [
    "cleaned_text = clean_data(text)\n",
    "print(cleaned_text)"
   ]
  },
  {
   "cell_type": "code",
   "execution_count": 25,
   "id": "e15002af",
   "metadata": {},
   "outputs": [
    {
     "name": "stdout",
     "output_type": "stream",
     "text": [
      "['between', '2016', 'and', '2019', ',', 'the', 'state', 'forest', 'department', 'under', 'thebjpgovernment', 'had', 'launched', 'green', 'maharashtra', 'drive', 'with', 'an', 'aim', 'to', 'plant', '50', 'crore', 'trees', 'across', 'the', 'state', 'in', 'the', 'four-year', 'period', '.', 'in', 'october', '2019', ',', 'the', 'government', 'had', 'claimed', 'it', 'had', 'surpassed', 'the', 'target', 'by', 'planting', '33', 'crore', 'trees', 'in', 'july-september', '2019.the', 'indian', 'expresshad', 'found', 'that', 'non-forest', 'agencies', 'such', 'as', 'gram', 'panchayats', 'which', 'were', 'tasked', 'with', 'planting', 'trees', 'had', 'not', 'uploaded', 'the', 'mandatory', 'audio-visual', 'proof', 'of', 'the', 'tree', 'plantation', 'drives', 'on', 'the', 'specially', 'created', 'portal', '.', 'in', 'pune', 'revenue', 'division', ',', 'it', 'was', 'claimed', 'the', 'gram', 'panchayats', 'planted', '1.7', 'crore', 'saplings', ';', 'however', ',', 'no', 'evidence', 'was', 'uploaded', 'for', '87', 'per', 'cent', '(', '1.49', 'crore', ')', 'saplings', '.', 'also', ',', 'out', 'of', 'the', '59', 'government', 'agencies', 'involved', 'in', 'the', 'drive', 'as', 'many', 'as', '38', 'had', 'not', 'submitted', 'survival', 'reports', 'about', 'the', 'saplings', '.', 'this', 'year', ',', 'the', 'targets', 'set', 'by', 'the', 'forest', 'department', 'were', 'comparatively', 'modest', '.', 'for', 'example', ',', 'pune', 'circle', 'which', 'comprises', 'three', 'divisions', 'in', 'pune', 'and', 'solapur', 'district', 'had', 'planned', 'to', 'plant', '17', 'lakh', 'saplings', 'on', 'forest', 'land', '.', 'however', ',', 'it', 'may', 'not', 'meet', 'the', 'target', 'due', 'to', 'unavailability', 'of', 'funds', '.', 'last', 'year', 'pune', 'circle', 'planted', '70', 'lakh', 'saplings', 'on', 'forest', 'land', '.', 'in', 'pune', 'division', 'which', 'comprises', 'six', 'talukas', 'namely', 'maval', ',', 'mulshi', ',', 'daund', ',', 'indapur', ',', 'baramati', 'and', 'havveli', 'preparations', 'were', 'done', 'for', 'plantation', 'of', 'about', '4', 'lakh', 'trees', 'with', 'special', 'emphasis', 'on', 'teakwood', '.', 'the', 'national', 'forest', 'policy', 'aims', 'and', 'emphasizes', 'at', 'maintaining', '33', '%', 'of', 'the', 'countrys', 'geographical', 'area', 'under', 'forest', 'and', 'green', 'cover', '.', 'in', 'view', 'of', 'this', 'and', 'as', 'a', 'part', 'of', 'the', '50', 'crore', 'plantation', 'programme', 'within', 'maharashtra', ',', 'the', 'maharashtra', 'forest', 'department', 'aims', 'to', 'plant', '4', 'crore', 'saplings', 'all', 'over', 'the', 'state', 'between1st', 'to', 'july', '7th', ',', '2017to', 'celebratevanmohotsav', '.', 'the', 'plantation', 'programme', ',', 'which', 'was', 'announced', 'in', '2016', 'with', 'the', 'aim', 'of', 'planting2', 'crore', 'trees', 'on', '1stjuly', '2016', 'was', 'a', 'resounding', 'success', 'with', 'the', 'final', 'total', 'reported', 'figure', 'of2.82', 'crore', 'saplings', 'plantedon', 'a', 'single', 'day', '.', 'to', 'maintain', 'consistency', 'of', 'this', 'platform', 'without', 'affecting', 'its', 'momentum', ',', 'the', 'forest', 'department', 'has', 'set', 'the', 'target', 'of', 'plantation', 'of', '4', 'crore', ',', '13', 'crore', 'and', '33', 'crore', 'saplings', 'under', 'the', 'mission', 'of', '50', 'crore', 'plantation', 'which', 'shall', 'be', 'accomplished', 'in', 'the', 'three', 'consecutive', 'years', 'viz', '.', '2017', ',', '2018', 'and', '2019.', 'the4', 'croresaplings', 'for', 'the', 'year', '2017', 'will', 'be', 'planted', 'during', 'the', 'vanmohotsav', ',', 'july', '1st', 'to', 'july', '7thin', 'a', 'state-wide', 'drivewith', 'the', 'involvement', 'of', '33', 'government', 'departments', 'along', 'with', 'students', 'of', 'schools', 'and', 'colleges', ',', 'nss', ',', 'ncc', ',', 'csr', ',', 'ngos', ',', 'railways', ',', 'national', 'highways', ',', 'defence', ',', 'nabard', 'and', 'other', 'stakeholders', 'of', 'society', '.', 'in', 'a', 'first', 'of', 'its', 'kind', ',', 'a24-hourtoll', 'freehelpline', 'number', '1926called', 'hello', 'forest', 'has', 'been', 'set', 'up', 'to', 'provide', 'information', 'regarding', 'plantation', ',', 'protection', 'and', 'for', 'mass', 'awareness', '.', 'the', 'forest', 'department', 'has', 'created', 'amobile', 'application', 'called', 'my', 'plantsto', 'record', 'details', 'of', 'the', 'plantation', 'such', 'as', 'numbers', ',', 'species', 'and', 'location', 'into', 'the', 'computer', 'system', 'of', 'the', 'forest', 'department', '.', 'all', 'volunteers', 'at', 'individual', ',', 'collective', 'and', 'organizational', 'level', 'should', 'download', 'and', 'use', 'this', 'application', 'to', 'record', 'their', 'tree', 'plantation', 'work', 'through', 'the', 'application', ',', 'which', 'will', 'be', 'operational', 'from', '1stjuly', 'to', '7thjuly', '.', 'in', 'consonance', 'of', 'the', 'public', 'participation', ',', 'the', 'maharashtra', 'forest', 'department', 'has', 'initiated', 'the', 'maharashtra', 'harit', 'sena/', 'green', 'army', 'which', 'is', 'a', 'body', 'of', 'dedicated', 'volunteers', 'to', 'participate', 'in', 'the', 'plantation', ',', 'protection', ',', 'and', 'activities', 'in', 'forest', ',', 'wildlife', ',', 'and', 'related', 'sectors', 'around', 'the', 'year', '.', 'individuals', 'and', 'organisations', 'interested', 'in', 'volunteering', 'can', 'register', 'on', 'the', 'green', 'army', 'websitewww.greenarmy.mahaforest.gov.in', 'an', 'integrated', 'drive', 'has', 'been', 'set', 'in', 'place', 'to', 'ensure', 'seamless', 'and', 'successful', 'participation', 'from', 'all', 'stakeholders', 'of', 'society', ',', 'especially', 'the', 'public', '.']\n"
     ]
    }
   ],
   "source": [
    "tokens = word_tokenize(cleaned_text)\n",
    "print(tokens)"
   ]
  },
  {
   "cell_type": "code",
   "execution_count": 26,
   "id": "190264c0",
   "metadata": {},
   "outputs": [
    {
     "name": "stdout",
     "output_type": "stream",
     "text": [
      "['b', 'e', 't', 'w', 'e', 'e', 'n', '2', '0', '1', '6', 'a', 'n', 'd', '2', '0', '1', '9', 't', 'h', 'e', 's', 't', 'a', 't', 'e', 'f', 'o', 'r', 'e', 's', 't', 'd', 'e', 'p', 'a', 'r', 't', 'm', 'e', 'n', 't', 'u', 'n', 'd', 'e', 'r', 't', 'h', 'e', 'b', 'j', 'p', 'g', 'o', 'v', 'e', 'r', 'n', 'm', 'e', 'n', 't', 'h', 'a', 'd', 'l', 'a', 'u', 'n', 'c', 'h', 'e', 'd', 'g', 'r', 'e', 'e', 'n', 'm', 'a', 'h', 'a', 'r', 'a', 's', 'h', 't', 'r', 'a', 'd', 'r', 'i', 'v', 'e', 'w', 'i', 't', 'h', 'a', 'n', 'a', 'i', 'm', 't', 'o', 'p', 'l', 'a', 'n', 't', '5', '0', 'c', 'r', 'o', 'r', 'e', 't', 'r', 'e', 'e', 's', 'a', 'c', 'r', 'o', 's', 's', 't', 'h', 'e', 's', 't', 'a', 't', 'e', 'i', 'n', 't', 'h', 'e', 'f', 'o', 'u', 'r', 'y', 'e', 'a', 'r', 'p', 'e', 'r', 'i', 'o', 'd', 'i', 'n', 'o', 'c', 't', 'o', 'b', 'e', 'r', '2', '0', '1', '9', 't', 'h', 'e', 'g', 'o', 'v', 'e', 'r', 'n', 'm', 'e', 'n', 't', 'h', 'a', 'd', 'c', 'l', 'a', 'i', 'm', 'e', 'd', 'i', 't', 'h', 'a', 'd', 's', 'u', 'r', 'p', 'a', 's', 's', 'e', 'd', 't', 'h', 'e', 't', 'a', 'r', 'g', 'e', 't', 'b', 'y', 'p', 'l', 'a', 'n', 't', 'i', 'n', 'g', '3', '3', 'c', 'r', 'o', 'r', 'e', 't', 'r', 'e', 'e', 's', 'i', 'n', 'j', 'u', 'l', 'y', 's', 'e', 'p', 't', 'e', 'm', 'b', 'e', 'r', '2', '0', '1', '9', 't', 'h', 'e', 'i', 'n', 'd', 'i', 'a', 'n', 'e', 'x', 'p', 'r', 'e', 's', 's', 'h', 'a', 'd', 'f', 'o', 'u', 'n', 'd', 't', 'h', 'a', 't', 'n', 'o', 'n', 'f', 'o', 'r', 'e', 's', 't', 'a', 'g', 'e', 'n', 'c', 'i', 'e', 's', 's', 'u', 'c', 'h', 'a', 's', 'g', 'r', 'a', 'm', 'p', 'a', 'n', 'c', 'h', 'a', 'y', 'a', 't', 's', 'w', 'h', 'i', 'c', 'h', 'w', 'e', 'r', 'e', 't', 'a', 's', 'k', 'e', 'd', 'w', 'i', 't', 'h', 'p', 'l', 'a', 'n', 't', 'i', 'n', 'g', 't', 'r', 'e', 'e', 's', 'h', 'a', 'd', 'n', 'o', 't', 'u', 'p', 'l', 'o', 'a', 'd', 'e', 'd', 't', 'h', 'e', 'm', 'a', 'n', 'd', 'a', 't', 'o', 'r', 'y', 'a', 'u', 'd', 'i', 'o', 'v', 'i', 's', 'u', 'a', 'l', 'p', 'r', 'o', 'o', 'f', 'o', 'f', 't', 'h', 'e', 't', 'r', 'e', 'e', 'p', 'l', 'a', 'n', 't', 'a', 't', 'i', 'o', 'n', 'd', 'r', 'i', 'v', 'e', 's', 'o', 'n', 't', 'h', 'e', 's', 'p', 'e', 'c', 'i', 'a', 'l', 'l', 'y', 'c', 'r', 'e', 'a', 't', 'e', 'd', 'p', 'o', 'r', 't', 'a', 'l', 'i', 'n', 'p', 'u', 'n', 'e', 'r', 'e', 'v', 'e', 'n', 'u', 'e', 'd', 'i', 'v', 'i', 's', 'i', 'o', 'n', 'i', 't', 'w', 'a', 's', 'c', 'l', 'a', 'i', 'm', 'e', 'd', 't', 'h', 'e', 'g', 'r', 'a', 'm', 'p', 'a', 'n', 'c', 'h', 'a', 'y', 'a', 't', 's', 'p', 'l', 'a', 'n', 't', 'e', 'd', '1', '7', 'c', 'r', 'o', 'r', 'e', 's', 'a', 'p', 'l', 'i', 'n', 'g', 's', 'h', 'o', 'w', 'e', 'v', 'e', 'r', 'n', 'o', 'e', 'v', 'i', 'd', 'e', 'n', 'c', 'e', 'w', 'a', 's', 'u', 'p', 'l', 'o', 'a', 'd', 'e', 'd', 'f', 'o', 'r', '8', '7', 'p', 'e', 'r', 'c', 'e', 'n', 't', '1', '4', '9', 'c', 'r', 'o', 'r', 'e', 's', 'a', 'p', 'l', 'i', 'n', 'g', 's', 'a', 'l', 's', 'o', 'o', 'u', 't', 'o', 'f', 't', 'h', 'e', '5', '9', 'g', 'o', 'v', 'e', 'r', 'n', 'm', 'e', 'n', 't', 'a', 'g', 'e', 'n', 'c', 'i', 'e', 's', 'i', 'n', 'v', 'o', 'l', 'v', 'e', 'd', 'i', 'n', 't', 'h', 'e', 'd', 'r', 'i', 'v', 'e', 'a', 's', 'm', 'a', 'n', 'y', 'a', 's', '3', '8', 'h', 'a', 'd', 'n', 'o', 't', 's', 'u', 'b', 'm', 'i', 't', 't', 'e', 'd', 's', 'u', 'r', 'v', 'i', 'v', 'a', 'l', 'r', 'e', 'p', 'o', 'r', 't', 's', 'a', 'b', 'o', 'u', 't', 't', 'h', 'e', 's', 'a', 'p', 'l', 'i', 'n', 'g', 's', 't', 'h', 'i', 's', 'y', 'e', 'a', 'r', 't', 'h', 'e', 't', 'a', 'r', 'g', 'e', 't', 's', 's', 'e', 't', 'b', 'y', 't', 'h', 'e', 'f', 'o', 'r', 'e', 's', 't', 'd', 'e', 'p', 'a', 'r', 't', 'm', 'e', 'n', 't', 'w', 'e', 'r', 'e', 'c', 'o', 'm', 'p', 'a', 'r', 'a', 't', 'i', 'v', 'e', 'l', 'y', 'm', 'o', 'd', 'e', 's', 't', 'f', 'o', 'r', 'e', 'x', 'a', 'm', 'p', 'l', 'e', 'p', 'u', 'n', 'e', 'c', 'i', 'r', 'c', 'l', 'e', 'w', 'h', 'i', 'c', 'h', 'c', 'o', 'm', 'p', 'r', 'i', 's', 'e', 's', 't', 'h', 'r', 'e', 'e', 'd', 'i', 'v', 'i', 's', 'i', 'o', 'n', 's', 'i', 'n', 'p', 'u', 'n', 'e', 'a', 'n', 'd', 's', 'o', 'l', 'a', 'p', 'u', 'r', 'd', 'i', 's', 't', 'r', 'i', 'c', 't', 'h', 'a', 'd', 'p', 'l', 'a', 'n', 'n', 'e', 'd', 't', 'o', 'p', 'l', 'a', 'n', 't', '1', '7', 'l', 'a', 'k', 'h', 's', 'a', 'p', 'l', 'i', 'n', 'g', 's', 'o', 'n', 'f', 'o', 'r', 'e', 's', 't', 'l', 'a', 'n', 'd', 'h', 'o', 'w', 'e', 'v', 'e', 'r', 'i', 't', 'm', 'a', 'y', 'n', 'o', 't', 'm', 'e', 'e', 't', 't', 'h', 'e', 't', 'a', 'r', 'g', 'e', 't', 'd', 'u', 'e', 't', 'o', 'u', 'n', 'a', 'v', 'a', 'i', 'l', 'a', 'b', 'i', 'l', 'i', 't', 'y', 'o', 'f', 'f', 'u', 'n', 'd', 's', 'l', 'a', 's', 't', 'y', 'e', 'a', 'r', 'p', 'u', 'n', 'e', 'c', 'i', 'r', 'c', 'l', 'e', 'p', 'l', 'a', 'n', 't', 'e', 'd', '7', '0', 'l', 'a', 'k', 'h', 's', 'a', 'p', 'l', 'i', 'n', 'g', 's', 'o', 'n', 'f', 'o', 'r', 'e', 's', 't', 'l', 'a', 'n', 'd', 'i', 'n', 'p', 'u', 'n', 'e', 'd', 'i', 'v', 'i', 's', 'i', 'o', 'n', 'w', 'h', 'i', 'c', 'h', 'c', 'o', 'm', 'p', 'r', 'i', 's', 'e', 's', 's', 'i', 'x', 't', 'a', 'l', 'u', 'k', 'a', 's', 'n', 'a', 'm', 'e', 'l', 'y', 'm', 'a', 'v', 'a', 'l', 'm', 'u', 'l', 's', 'h', 'i', 'd', 'a', 'u', 'n', 'd', 'i', 'n', 'd', 'a', 'p', 'u', 'r', 'b', 'a', 'r', 'a', 'm', 'a', 't', 'i', 'a', 'n', 'd', 'h', 'a', 'v', 'v', 'e', 'l', 'i', 'p', 'r', 'e', 'p', 'a', 'r', 'a', 't', 'i', 'o', 'n', 's', 'w', 'e', 'r', 'e', 'd', 'o', 'n', 'e', 'f', 'o', 'r', 'p', 'l', 'a', 'n', 't', 'a', 't', 'i', 'o', 'n', 'o', 'f', 'a', 'b', 'o', 'u', 't', '4', 'l', 'a', 'k', 'h', 't', 'r', 'e', 'e', 's', 'w', 'i', 't', 'h', 's', 'p', 'e', 'c', 'i', 'a', 'l', 'e', 'm', 'p', 'h', 'a', 's', 'i', 's', 'o', 'n', 't', 'e', 'a', 'k', 'w', 'o', 'o', 'd', 't', 'h', 'e', 'n', 'a', 't', 'i', 'o', 'n', 'a', 'l', 'f', 'o', 'r', 'e', 's', 't', 'p', 'o', 'l', 'i', 'c', 'y', 'a', 'i', 'm', 's', 'a', 'n', 'd', 'e', 'm', 'p', 'h', 'a', 's', 'i', 'z', 'e', 's', 'a', 't', 'm', 'a', 'i', 'n', 't', 'a', 'i', 'n', 'i', 'n', 'g', '3', '3', 'o', 'f', 't', 'h', 'e', 'c', 'o', 'u', 'n', 't', 'r', 'y', 's', 'g', 'e', 'o', 'g', 'r', 'a', 'p', 'h', 'i', 'c', 'a', 'l', 'a', 'r', 'e', 'a', 'u', 'n', 'd', 'e', 'r', 'f', 'o', 'r', 'e', 's', 't', 'a', 'n', 'd', 'g', 'r', 'e', 'e', 'n', 'c', 'o', 'v', 'e', 'r', 'i', 'n', 'v', 'i', 'e', 'w', 'o', 'f', 't', 'h', 'i', 's', 'a', 'n', 'd', 'a', 's', 'a', 'p', 'a', 'r', 't', 'o', 'f', 't', 'h', 'e', '5', '0', 'c', 'r', 'o', 'r', 'e', 'p', 'l', 'a', 'n', 't', 'a', 't', 'i', 'o', 'n', 'p', 'r', 'o', 'g', 'r', 'a', 'm', 'm', 'e', 'w', 'i', 't', 'h', 'i', 'n', 'm', 'a', 'h', 'a', 'r', 'a', 's', 'h', 't', 'r', 'a', 't', 'h', 'e', 'm', 'a', 'h', 'a', 'r', 'a', 's', 'h', 't', 'r', 'a', 'f', 'o', 'r', 'e', 's', 't', 'd', 'e', 'p', 'a', 'r', 't', 'm', 'e', 'n', 't', 'a', 'i', 'm', 's', 't', 'o', 'p', 'l', 'a', 'n', 't', '4', 'c', 'r', 'o', 'r', 'e', 's', 'a', 'p', 'l', 'i', 'n', 'g', 's', 'a', 'l', 'l', 'o', 'v', 'e', 'r', 't', 'h', 'e', 's', 't', 'a', 't', 'e', 'b', 'e', 't', 'w', 'e', 'e', 'n', '1', 's', 't', 't', 'o', 'j', 'u', 'l', 'y', '7', 't', 'h', '2', '0', '1', '7', 't', 'o', 'c', 'e', 'l', 'e', 'b', 'r', 'a', 't', 'e', 'v', 'a', 'n', 'm', 'o', 'h', 'o', 't', 's', 'a', 'v', 't', 'h', 'e', 'p', 'l', 'a', 'n', 't', 'a', 't', 'i', 'o', 'n', 'p', 'r', 'o', 'g', 'r', 'a', 'm', 'm', 'e', 'w', 'h', 'i', 'c', 'h', 'w', 'a', 's', 'a', 'n', 'n', 'o', 'u', 'n', 'c', 'e', 'd', 'i', 'n', '2', '0', '1', '6', 'w', 'i', 't', 'h', 't', 'h', 'e', 'a', 'i', 'm', 'o', 'f', 'p', 'l', 'a', 'n', 't', 'i', 'n', 'g', '2', 'c', 'r', 'o', 'r', 'e', 't', 'r', 'e', 'e', 's', 'o', 'n', '1', 's', 't', 'j', 'u', 'l', 'y', '2', '0', '1', '6', 'w', 'a', 's', 'a', 'r', 'e', 's', 'o', 'u', 'n', 'd', 'i', 'n', 'g', 's', 'u', 'c', 'c', 'e', 's', 's', 'w', 'i', 't', 'h', 't', 'h', 'e', 'f', 'i', 'n', 'a', 'l', 't', 'o', 't', 'a', 'l', 'r', 'e', 'p', 'o', 'r', 't', 'e', 'd', 'f', 'i', 'g', 'u', 'r', 'e', 'o', 'f', '2', '8', '2', 'c', 'r', 'o', 'r', 'e', 's', 'a', 'p', 'l', 'i', 'n', 'g', 's', 'p', 'l', 'a', 'n', 't', 'e', 'd', 'o', 'n', 'a', 's', 'i', 'n', 'g', 'l', 'e', 'd', 'a', 'y', 't', 'o', 'm', 'a', 'i', 'n', 't', 'a', 'i', 'n', 'c', 'o', 'n', 's', 'i', 's', 't', 'e', 'n', 'c', 'y', 'o', 'f', 't', 'h', 'i', 's', 'p', 'l', 'a', 't', 'f', 'o', 'r', 'm', 'w', 'i', 't', 'h', 'o', 'u', 't', 'a', 'f', 'f', 'e', 'c', 't', 'i', 'n', 'g', 'i', 't', 's', 'm', 'o', 'm', 'e', 'n', 't', 'u', 'm', 't', 'h', 'e', 'f', 'o', 'r', 'e', 's', 't', 'd', 'e', 'p', 'a', 'r', 't', 'm', 'e', 'n', 't', 'h', 'a', 's', 's', 'e', 't', 't', 'h', 'e', 't', 'a', 'r', 'g', 'e', 't', 'o', 'f', 'p', 'l', 'a', 'n', 't', 'a', 't', 'i', 'o', 'n', 'o', 'f', '4', 'c', 'r', 'o', 'r', 'e', '1', '3', 'c', 'r', 'o', 'r', 'e', 'a', 'n', 'd', '3', '3', 'c', 'r', 'o', 'r', 'e', 's', 'a', 'p', 'l', 'i', 'n', 'g', 's', 'u', 'n', 'd', 'e', 'r', 't', 'h', 'e', 'm', 'i', 's', 's', 'i', 'o', 'n', 'o', 'f', '5', '0', 'c', 'r', 'o', 'r', 'e', 'p', 'l', 'a', 'n', 't', 'a', 't', 'i', 'o', 'n', 'w', 'h', 'i', 'c', 'h', 's', 'h', 'a', 'l', 'l', 'b', 'e', 'a', 'c', 'c', 'o', 'm', 'p', 'l', 'i', 's', 'h', 'e', 'd', 'i', 'n', 't', 'h', 'e', 't', 'h', 'r', 'e', 'e', 'c', 'o', 'n', 's', 'e', 'c', 'u', 't', 'i', 'v', 'e', 'y', 'e', 'a', 'r', 's', 'v', 'i', 'z', '2', '0', '1', '7', '2', '0', '1', '8', 'a', 'n', 'd', '2', '0', '1', '9', 't', 'h', 'e', '4', 'c', 'r', 'o', 'r', 'e', 's', 'a', 'p', 'l', 'i', 'n', 'g', 's', 'f', 'o', 'r', 't', 'h', 'e', 'y', 'e', 'a', 'r', '2', '0', '1', '7', 'w', 'i', 'l', 'l', 'b', 'e', 'p', 'l', 'a', 'n', 't', 'e', 'd', 'd', 'u', 'r', 'i', 'n', 'g', 't', 'h', 'e', 'v', 'a', 'n', 'm', 'o', 'h', 'o', 't', 's', 'a', 'v', 'j', 'u', 'l', 'y', '1', 's', 't', 't', 'o', 'j', 'u', 'l', 'y', '7', 't', 'h', 'i', 'n', 'a', 's', 't', 'a', 't', 'e', 'w', 'i', 'd', 'e', 'd', 'r', 'i', 'v', 'e', 'w', 'i', 't', 'h', 't', 'h', 'e', 'i', 'n', 'v', 'o', 'l', 'v', 'e', 'm', 'e', 'n', 't', 'o', 'f', '3', '3', 'g', 'o', 'v', 'e', 'r', 'n', 'm', 'e', 'n', 't', 'd', 'e', 'p', 'a', 'r', 't', 'm', 'e', 'n', 't', 's', 'a', 'l', 'o', 'n', 'g', 'w', 'i', 't', 'h', 's', 't', 'u', 'd', 'e', 'n', 't', 's', 'o', 'f', 's', 'c', 'h', 'o', 'o', 'l', 's', 'a', 'n', 'd', 'c', 'o', 'l', 'l', 'e', 'g', 'e', 's', 'n', 's', 's', 'n', 'c', 'c', 'c', 's', 'r', 'n', 'g', 'o', 's', 'r', 'a', 'i', 'l', 'w', 'a', 'y', 's', 'n', 'a', 't', 'i', 'o', 'n', 'a', 'l', 'h', 'i', 'g', 'h', 'w', 'a', 'y', 's', 'd', 'e', 'f', 'e', 'n', 'c', 'e', 'n', 'a', 'b', 'a', 'r', 'd', 'a', 'n', 'd', 'o', 't', 'h', 'e', 'r', 's', 't', 'a', 'k', 'e', 'h', 'o', 'l', 'd', 'e', 'r', 's', 'o', 'f', 's', 'o', 'c', 'i', 'e', 't', 'y', 'i', 'n', 'a', 'f', 'i', 'r', 's', 't', 'o', 'f', 'i', 't', 's', 'k', 'i', 'n', 'd', 'a', '2', '4', 'h', 'o', 'u', 'r', 't', 'o', 'l', 'l', 'f', 'r', 'e', 'e', 'h', 'e', 'l', 'p', 'l', 'i', 'n', 'e', 'n', 'u', 'm', 'b', 'e', 'r', '1', '9', '2', '6', 'c', 'a', 'l', 'l', 'e', 'd', 'h', 'e', 'l', 'l', 'o', 'f', 'o', 'r', 'e', 's', 't', 'h', 'a', 's', 'b', 'e', 'e', 'n', 's', 'e', 't', 'u', 'p', 't', 'o', 'p', 'r', 'o', 'v', 'i', 'd', 'e', 'i', 'n', 'f', 'o', 'r', 'm', 'a', 't', 'i', 'o', 'n', 'r', 'e', 'g', 'a', 'r', 'd', 'i', 'n', 'g', 'p', 'l', 'a', 'n', 't', 'a', 't', 'i', 'o', 'n', 'p', 'r', 'o', 't', 'e', 'c', 't', 'i', 'o', 'n', 'a', 'n', 'd', 'f', 'o', 'r', 'm', 'a', 's', 's', 'a', 'w', 'a', 'r', 'e', 'n', 'e', 's', 's', 't', 'h', 'e', 'f', 'o', 'r', 'e', 's', 't', 'd', 'e', 'p', 'a', 'r', 't', 'm', 'e', 'n', 't', 'h', 'a', 's', 'c', 'r', 'e', 'a', 't', 'e', 'd', 'a', 'm', 'o', 'b', 'i', 'l', 'e', 'a', 'p', 'p', 'l', 'i', 'c', 'a', 't', 'i', 'o', 'n', 'c', 'a', 'l', 'l', 'e', 'd', 'm', 'y', 'p', 'l', 'a', 'n', 't', 's', 't', 'o', 'r', 'e', 'c', 'o', 'r', 'd', 'd', 'e', 't', 'a', 'i', 'l', 's', 'o', 'f', 't', 'h', 'e', 'p', 'l', 'a', 'n', 't', 'a', 't', 'i', 'o', 'n', 's', 'u', 'c', 'h', 'a', 's', 'n', 'u', 'm', 'b', 'e', 'r', 's', 's', 'p', 'e', 'c', 'i', 'e', 's', 'a', 'n', 'd', 'l', 'o', 'c', 'a', 't', 'i', 'o', 'n', 'i', 'n', 't', 'o', 't', 'h', 'e', 'c', 'o', 'm', 'p', 'u', 't', 'e', 'r', 's', 'y', 's', 't', 'e', 'm', 'o', 'f', 't', 'h', 'e', 'f', 'o', 'r', 'e', 's', 't', 'd', 'e', 'p', 'a', 'r', 't', 'm', 'e', 'n', 't', 'a', 'l', 'l', 'v', 'o', 'l', 'u', 'n', 't', 'e', 'e', 'r', 's', 'a', 't', 'i', 'n', 'd', 'i', 'v', 'i', 'd', 'u', 'a', 'l', 'c', 'o', 'l', 'l', 'e', 'c', 't', 'i', 'v', 'e', 'a', 'n', 'd', 'o', 'r', 'g', 'a', 'n', 'i', 'z', 'a', 't', 'i', 'o', 'n', 'a', 'l', 'l', 'e', 'v', 'e', 'l', 's', 'h', 'o', 'u', 'l', 'd', 'd', 'o', 'w', 'n', 'l', 'o', 'a', 'd', 'a', 'n', 'd', 'u', 's', 'e', 't', 'h', 'i', 's', 'a', 'p', 'p', 'l', 'i', 'c', 'a', 't', 'i', 'o', 'n', 't', 'o', 'r', 'e', 'c', 'o', 'r', 'd', 't', 'h', 'e', 'i', 'r', 't', 'r', 'e', 'e', 'p', 'l', 'a', 'n', 't', 'a', 't', 'i', 'o', 'n', 'w', 'o', 'r', 'k', 't', 'h', 'r', 'o', 'u', 'g', 'h', 't', 'h', 'e', 'a', 'p', 'p', 'l', 'i', 'c', 'a', 't', 'i', 'o', 'n', 'w', 'h', 'i', 'c', 'h', 'w', 'i', 'l', 'l', 'b', 'e', 'o', 'p', 'e', 'r', 'a', 't', 'i', 'o', 'n', 'a', 'l', 'f', 'r', 'o', 'm', '1', 's', 't', 'j', 'u', 'l', 'y', 't', 'o', '7', 't', 'h', 'j', 'u', 'l', 'y', 'i', 'n', 'c', 'o', 'n', 's', 'o', 'n', 'a', 'n', 'c', 'e', 'o', 'f', 't', 'h', 'e', 'p', 'u', 'b', 'l', 'i', 'c', 'p', 'a', 'r', 't', 'i', 'c', 'i', 'p', 'a', 't', 'i', 'o', 'n', 't', 'h', 'e', 'm', 'a', 'h', 'a', 'r', 'a', 's', 'h', 't', 'r', 'a', 'f', 'o', 'r', 'e', 's', 't', 'd', 'e', 'p', 'a', 'r', 't', 'm', 'e', 'n', 't', 'h', 'a', 's', 'i', 'n', 'i', 't', 'i', 'a', 't', 'e', 'd', 't', 'h', 'e', 'm', 'a', 'h', 'a', 'r', 'a', 's', 'h', 't', 'r', 'a', 'h', 'a', 'r', 'i', 't', 's', 'e', 'n', 'a', 'g', 'r', 'e', 'e', 'n', 'a', 'r', 'm', 'y', 'w', 'h', 'i', 'c', 'h', 'i', 's', 'a', 'b', 'o', 'd', 'y', 'o', 'f', 'd', 'e', 'd', 'i', 'c', 'a', 't', 'e', 'd', 'v', 'o', 'l', 'u', 'n', 't', 'e', 'e', 'r', 's', 't', 'o', 'p', 'a', 'r', 't', 'i', 'c', 'i', 'p', 'a', 't', 'e', 'i', 'n', 't', 'h', 'e', 'p', 'l', 'a', 'n', 't', 'a', 't', 'i', 'o', 'n', 'p', 'r', 'o', 't', 'e', 'c', 't', 'i', 'o', 'n', 'a', 'n', 'd', 'a', 'c', 't', 'i', 'v', 'i', 't', 'i', 'e', 's', 'i', 'n', 'f', 'o', 'r', 'e', 's', 't', 'w', 'i', 'l', 'd', 'l', 'i', 'f', 'e', 'a', 'n', 'd', 'r', 'e', 'l', 'a', 't', 'e', 'd', 's', 'e', 'c', 't', 'o', 'r', 's', 'a', 'r', 'o', 'u', 'n', 'd', 't', 'h', 'e', 'y', 'e', 'a', 'r', 'i', 'n', 'd', 'i', 'v', 'i', 'd', 'u', 'a', 'l', 's', 'a', 'n', 'd', 'o', 'r', 'g', 'a', 'n', 'i', 's', 'a', 't', 'i', 'o', 'n', 's', 'i', 'n', 't', 'e', 'r', 'e', 's', 't', 'e', 'd', 'i', 'n', 'v', 'o', 'l', 'u', 'n', 't', 'e', 'e', 'r', 'i', 'n', 'g', 'c', 'a', 'n', 'r', 'e', 'g', 'i', 's', 't', 'e', 'r', 'o', 'n', 't', 'h', 'e', 'g', 'r', 'e', 'e', 'n', 'a', 'r', 'm', 'y', 'w', 'e', 'b', 's', 'i', 't', 'e', 'w', 'w', 'w', 'g', 'r', 'e', 'e', 'n', 'a', 'r', 'm', 'y', 'm', 'a', 'h', 'a', 'f', 'o', 'r', 'e', 's', 't', 'g', 'o', 'v', 'i', 'n', 'a', 'n', 'i', 'n', 't', 'e', 'g', 'r', 'a', 't', 'e', 'd', 'd', 'r', 'i', 'v', 'e', 'h', 'a', 's', 'b', 'e', 'e', 'n', 's', 'e', 't', 'i', 'n', 'p', 'l', 'a', 'c', 'e', 't', 'o', 'e', 'n', 's', 'u', 'r', 'e', 's', 'e', 'a', 'm', 'l', 'e', 's', 's', 'a', 'n', 'd', 's', 'u', 'c', 'c', 'e', 's', 's', 'f', 'u', 'l', 'p', 'a', 'r', 't', 'i', 'c', 'i', 'p', 'a', 't', 'i', 'o', 'n', 'f', 'r', 'o', 'm', 'a', 'l', 'l', 's', 't', 'a', 'k', 'e', 'h', 'o', 'l', 'd', 'e', 'r', 's', 'o', 'f', 's', 'o', 'c', 'i', 'e', 't', 'y', 'e', 's', 'p', 'e', 'c', 'i', 'a', 'l', 'l', 'y', 't', 'h', 'e', 'p', 'u', 'b', 'l', 'i', 'c']\n"
     ]
    }
   ],
   "source": [
    "char_tokens = [ch for ch in cleaned_text if ch.isalnum()]\n",
    "print(char_tokens)"
   ]
  },
  {
   "cell_type": "code",
   "execution_count": 27,
   "id": "2bc70d84",
   "metadata": {},
   "outputs": [
    {
     "name": "stdout",
     "output_type": "stream",
     "text": [
      "[('between', 'IN'), ('2016', 'CD'), ('and', 'CC'), ('2019', 'CD'), (',', ','), ('the', 'DT'), ('state', 'NN'), ('forest', 'JJS'), ('department', 'NN'), ('under', 'IN'), ('thebjpgovernment', 'NN'), ('had', 'VBD'), ('launched', 'VBN'), ('green', 'JJ'), ('maharashtra', 'NNS'), ('drive', 'NN'), ('with', 'IN'), ('an', 'DT'), ('aim', 'NN'), ('to', 'TO'), ('plant', 'NN'), ('50', 'CD'), ('crore', 'NN'), ('trees', 'NNS'), ('across', 'IN'), ('the', 'DT'), ('state', 'NN'), ('in', 'IN'), ('the', 'DT'), ('four-year', 'JJ'), ('period', 'NN'), ('.', '.'), ('in', 'IN'), ('october', 'JJ'), ('2019', 'CD'), (',', ','), ('the', 'DT'), ('government', 'NN'), ('had', 'VBD'), ('claimed', 'VBN'), ('it', 'PRP'), ('had', 'VBD'), ('surpassed', 'VBN'), ('the', 'DT'), ('target', 'NN'), ('by', 'IN'), ('planting', 'VBG'), ('33', 'CD'), ('crore', 'NN'), ('trees', 'NNS'), ('in', 'IN'), ('july-september', 'JJ'), ('2019.the', 'CD'), ('indian', 'JJ'), ('expresshad', 'NN'), ('found', 'VBD'), ('that', 'IN'), ('non-forest', 'JJ'), ('agencies', 'NNS'), ('such', 'JJ'), ('as', 'IN'), ('gram', 'NN'), ('panchayats', 'NNS'), ('which', 'WDT'), ('were', 'VBD'), ('tasked', 'VBN'), ('with', 'IN'), ('planting', 'VBG'), ('trees', 'NNS'), ('had', 'VBD'), ('not', 'RB'), ('uploaded', 'VBN'), ('the', 'DT'), ('mandatory', 'JJ'), ('audio-visual', 'JJ'), ('proof', 'NN'), ('of', 'IN'), ('the', 'DT'), ('tree', 'JJ'), ('plantation', 'NN'), ('drives', 'NNS'), ('on', 'IN'), ('the', 'DT'), ('specially', 'RB'), ('created', 'VBN'), ('portal', 'NN'), ('.', '.'), ('in', 'IN'), ('pune', 'NN'), ('revenue', 'NN'), ('division', 'NN'), (',', ','), ('it', 'PRP'), ('was', 'VBD'), ('claimed', 'VBN'), ('the', 'DT'), ('gram', 'NN'), ('panchayats', 'NNS'), ('planted', 'VBD'), ('1.7', 'CD'), ('crore', 'NN'), ('saplings', 'NNS'), (';', ':'), ('however', 'RB'), (',', ','), ('no', 'DT'), ('evidence', 'NN'), ('was', 'VBD'), ('uploaded', 'VBN'), ('for', 'IN'), ('87', 'CD'), ('per', 'IN'), ('cent', 'NN'), ('(', '('), ('1.49', 'CD'), ('crore', 'NN'), (')', ')'), ('saplings', 'NNS'), ('.', '.'), ('also', 'RB'), (',', ','), ('out', 'IN'), ('of', 'IN'), ('the', 'DT'), ('59', 'CD'), ('government', 'NN'), ('agencies', 'NNS'), ('involved', 'VBN'), ('in', 'IN'), ('the', 'DT'), ('drive', 'NN'), ('as', 'RB'), ('many', 'JJ'), ('as', 'IN'), ('38', 'CD'), ('had', 'VBD'), ('not', 'RB'), ('submitted', 'VBN'), ('survival', 'JJ'), ('reports', 'NNS'), ('about', 'IN'), ('the', 'DT'), ('saplings', 'NNS'), ('.', '.'), ('this', 'DT'), ('year', 'NN'), (',', ','), ('the', 'DT'), ('targets', 'NNS'), ('set', 'VBN'), ('by', 'IN'), ('the', 'DT'), ('forest', 'JJS'), ('department', 'NN'), ('were', 'VBD'), ('comparatively', 'RB'), ('modest', 'JJ'), ('.', '.'), ('for', 'IN'), ('example', 'NN'), (',', ','), ('pune', 'NN'), ('circle', 'NN'), ('which', 'WDT'), ('comprises', 'VBZ'), ('three', 'CD'), ('divisions', 'NNS'), ('in', 'IN'), ('pune', 'NN'), ('and', 'CC'), ('solapur', 'VB'), ('district', 'NN'), ('had', 'VBD'), ('planned', 'VBN'), ('to', 'TO'), ('plant', 'NN'), ('17', 'CD'), ('lakh', 'JJ'), ('saplings', 'NNS'), ('on', 'IN'), ('forest', 'JJS'), ('land', 'NN'), ('.', '.'), ('however', 'RB'), (',', ','), ('it', 'PRP'), ('may', 'MD'), ('not', 'RB'), ('meet', 'VB'), ('the', 'DT'), ('target', 'NN'), ('due', 'JJ'), ('to', 'TO'), ('unavailability', 'NN'), ('of', 'IN'), ('funds', 'NNS'), ('.', '.'), ('last', 'JJ'), ('year', 'NN'), ('pune', 'VBD'), ('circle', 'NN'), ('planted', 'VBD'), ('70', 'CD'), ('lakh', 'JJ'), ('saplings', 'NNS'), ('on', 'IN'), ('forest', 'JJS'), ('land', 'NN'), ('.', '.'), ('in', 'IN'), ('pune', 'NN'), ('division', 'NN'), ('which', 'WDT'), ('comprises', 'VBZ'), ('six', 'CD'), ('talukas', 'NN'), ('namely', 'RB'), ('maval', 'JJ'), (',', ','), ('mulshi', 'NN'), (',', ','), ('daund', 'NN'), (',', ','), ('indapur', 'NN'), (',', ','), ('baramati', 'NN'), ('and', 'CC'), ('havveli', 'JJ'), ('preparations', 'NNS'), ('were', 'VBD'), ('done', 'VBN'), ('for', 'IN'), ('plantation', 'NN'), ('of', 'IN'), ('about', 'IN'), ('4', 'CD'), ('lakh', 'NNS'), ('trees', 'NNS'), ('with', 'IN'), ('special', 'JJ'), ('emphasis', 'NN'), ('on', 'IN'), ('teakwood', 'NN'), ('.', '.'), ('the', 'DT'), ('national', 'JJ'), ('forest', 'NN'), ('policy', 'NN'), ('aims', 'NNS'), ('and', 'CC'), ('emphasizes', 'VBZ'), ('at', 'IN'), ('maintaining', 'VBG'), ('33', 'CD'), ('%', 'NN'), ('of', 'IN'), ('the', 'DT'), ('countrys', 'JJ'), ('geographical', 'JJ'), ('area', 'NN'), ('under', 'IN'), ('forest', 'NN'), ('and', 'CC'), ('green', 'JJ'), ('cover', 'NN'), ('.', '.'), ('in', 'IN'), ('view', 'NN'), ('of', 'IN'), ('this', 'DT'), ('and', 'CC'), ('as', 'IN'), ('a', 'DT'), ('part', 'NN'), ('of', 'IN'), ('the', 'DT'), ('50', 'CD'), ('crore', 'NN'), ('plantation', 'NN'), ('programme', 'NN'), ('within', 'IN'), ('maharashtra', 'NN'), (',', ','), ('the', 'DT'), ('maharashtra', 'JJ'), ('forest', 'NN'), ('department', 'NN'), ('aims', 'VBZ'), ('to', 'TO'), ('plant', 'NN'), ('4', 'CD'), ('crore', 'NN'), ('saplings', 'NNS'), ('all', 'DT'), ('over', 'IN'), ('the', 'DT'), ('state', 'NN'), ('between1st', 'NN'), ('to', 'TO'), ('july', 'VB'), ('7th', 'CD'), (',', ','), ('2017to', 'CD'), ('celebratevanmohotsav', 'NN'), ('.', '.'), ('the', 'DT'), ('plantation', 'NN'), ('programme', 'NN'), (',', ','), ('which', 'WDT'), ('was', 'VBD'), ('announced', 'VBN'), ('in', 'IN'), ('2016', 'CD'), ('with', 'IN'), ('the', 'DT'), ('aim', 'NN'), ('of', 'IN'), ('planting2', 'NN'), ('crore', 'NN'), ('trees', 'NNS'), ('on', 'IN'), ('1stjuly', 'CD'), ('2016', 'CD'), ('was', 'VBD'), ('a', 'DT'), ('resounding', 'JJ'), ('success', 'NN'), ('with', 'IN'), ('the', 'DT'), ('final', 'JJ'), ('total', 'NN'), ('reported', 'VBD'), ('figure', 'NN'), ('of2.82', 'NN'), ('crore', 'NN'), ('saplings', 'NNS'), ('plantedon', 'VBP'), ('a', 'DT'), ('single', 'JJ'), ('day', 'NN'), ('.', '.'), ('to', 'TO'), ('maintain', 'VB'), ('consistency', 'NN'), ('of', 'IN'), ('this', 'DT'), ('platform', 'NN'), ('without', 'IN'), ('affecting', 'VBG'), ('its', 'PRP$'), ('momentum', 'NN'), (',', ','), ('the', 'DT'), ('forest', 'JJS'), ('department', 'NN'), ('has', 'VBZ'), ('set', 'VBN'), ('the', 'DT'), ('target', 'NN'), ('of', 'IN'), ('plantation', 'NN'), ('of', 'IN'), ('4', 'CD'), ('crore', 'NN'), (',', ','), ('13', 'CD'), ('crore', 'NN'), ('and', 'CC'), ('33', 'CD'), ('crore', 'NN'), ('saplings', 'NNS'), ('under', 'IN'), ('the', 'DT'), ('mission', 'NN'), ('of', 'IN'), ('50', 'CD'), ('crore', 'NN'), ('plantation', 'NN'), ('which', 'WDT'), ('shall', 'MD'), ('be', 'VB'), ('accomplished', 'VBN'), ('in', 'IN'), ('the', 'DT'), ('three', 'CD'), ('consecutive', 'JJ'), ('years', 'NNS'), ('viz', 'RB'), ('.', '.'), ('2017', 'CD'), (',', ','), ('2018', 'CD'), ('and', 'CC'), ('2019.', 'CD'), ('the4', 'NN'), ('croresaplings', 'NNS'), ('for', 'IN'), ('the', 'DT'), ('year', 'NN'), ('2017', 'CD'), ('will', 'MD'), ('be', 'VB'), ('planted', 'VBN'), ('during', 'IN'), ('the', 'DT'), ('vanmohotsav', 'NN'), (',', ','), ('july', 'RB'), ('1st', 'CD'), ('to', 'TO'), ('july', 'VB'), ('7thin', 'CD'), ('a', 'DT'), ('state-wide', 'JJ'), ('drivewith', 'NN'), ('the', 'DT'), ('involvement', 'NN'), ('of', 'IN'), ('33', 'CD'), ('government', 'NN'), ('departments', 'NNS'), ('along', 'IN'), ('with', 'IN'), ('students', 'NNS'), ('of', 'IN'), ('schools', 'NNS'), ('and', 'CC'), ('colleges', 'NNS'), (',', ','), ('nss', 'RB'), (',', ','), ('ncc', 'RB'), (',', ','), ('csr', 'NN'), (',', ','), ('ngos', 'RB'), (',', ','), ('railways', 'NNS'), (',', ','), ('national', 'JJ'), ('highways', 'NNS'), (',', ','), ('defence', 'NN'), (',', ','), ('nabard', 'RB'), ('and', 'CC'), ('other', 'JJ'), ('stakeholders', 'NNS'), ('of', 'IN'), ('society', 'NN'), ('.', '.'), ('in', 'IN'), ('a', 'DT'), ('first', 'JJ'), ('of', 'IN'), ('its', 'PRP$'), ('kind', 'NN'), (',', ','), ('a24-hourtoll', 'JJ'), ('freehelpline', 'NN'), ('number', 'NN'), ('1926called', 'CD'), ('hello', 'NN'), ('forest', 'NN'), ('has', 'VBZ'), ('been', 'VBN'), ('set', 'VBN'), ('up', 'RP'), ('to', 'TO'), ('provide', 'VB'), ('information', 'NN'), ('regarding', 'VBG'), ('plantation', 'NN'), (',', ','), ('protection', 'NN'), ('and', 'CC'), ('for', 'IN'), ('mass', 'NN'), ('awareness', 'NN'), ('.', '.'), ('the', 'DT'), ('forest', 'NN'), ('department', 'NN'), ('has', 'VBZ'), ('created', 'VBN'), ('amobile', 'IN'), ('application', 'NN'), ('called', 'VBN'), ('my', 'PRP$'), ('plantsto', 'NN'), ('record', 'NN'), ('details', 'NNS'), ('of', 'IN'), ('the', 'DT'), ('plantation', 'NN'), ('such', 'JJ'), ('as', 'IN'), ('numbers', 'NNS'), (',', ','), ('species', 'NNS'), ('and', 'CC'), ('location', 'NN'), ('into', 'IN'), ('the', 'DT'), ('computer', 'NN'), ('system', 'NN'), ('of', 'IN'), ('the', 'DT'), ('forest', 'JJS'), ('department', 'NN'), ('.', '.'), ('all', 'DT'), ('volunteers', 'NNS'), ('at', 'IN'), ('individual', 'JJ'), (',', ','), ('collective', 'JJ'), ('and', 'CC'), ('organizational', 'JJ'), ('level', 'NN'), ('should', 'MD'), ('download', 'VB'), ('and', 'CC'), ('use', 'VB'), ('this', 'DT'), ('application', 'NN'), ('to', 'TO'), ('record', 'VB'), ('their', 'PRP$'), ('tree', 'JJ'), ('plantation', 'NN'), ('work', 'NN'), ('through', 'IN'), ('the', 'DT'), ('application', 'NN'), (',', ','), ('which', 'WDT'), ('will', 'MD'), ('be', 'VB'), ('operational', 'JJ'), ('from', 'IN'), ('1stjuly', 'CD'), ('to', 'TO'), ('7thjuly', 'CD'), ('.', '.'), ('in', 'IN'), ('consonance', 'NN'), ('of', 'IN'), ('the', 'DT'), ('public', 'JJ'), ('participation', 'NN'), (',', ','), ('the', 'DT'), ('maharashtra', 'JJ'), ('forest', 'NN'), ('department', 'NN'), ('has', 'VBZ'), ('initiated', 'VBN'), ('the', 'DT'), ('maharashtra', 'JJ'), ('harit', 'NN'), ('sena/', 'NN'), ('green', 'JJ'), ('army', 'NN'), ('which', 'WDT'), ('is', 'VBZ'), ('a', 'DT'), ('body', 'NN'), ('of', 'IN'), ('dedicated', 'JJ'), ('volunteers', 'NNS'), ('to', 'TO'), ('participate', 'VB'), ('in', 'IN'), ('the', 'DT'), ('plantation', 'NN'), (',', ','), ('protection', 'NN'), (',', ','), ('and', 'CC'), ('activities', 'NNS'), ('in', 'IN'), ('forest', 'NN'), (',', ','), ('wildlife', 'NN'), (',', ','), ('and', 'CC'), ('related', 'JJ'), ('sectors', 'NNS'), ('around', 'IN'), ('the', 'DT'), ('year', 'NN'), ('.', '.'), ('individuals', 'NNS'), ('and', 'CC'), ('organisations', 'NNS'), ('interested', 'JJ'), ('in', 'IN'), ('volunteering', 'VBG'), ('can', 'MD'), ('register', 'VB'), ('on', 'IN'), ('the', 'DT'), ('green', 'JJ'), ('army', 'NN'), ('websitewww.greenarmy.mahaforest.gov.in', 'VBD'), ('an', 'DT'), ('integrated', 'VBN'), ('drive', 'NN'), ('has', 'VBZ'), ('been', 'VBN'), ('set', 'VBN'), ('in', 'IN'), ('place', 'NN'), ('to', 'TO'), ('ensure', 'VB'), ('seamless', 'NN'), ('and', 'CC'), ('successful', 'JJ'), ('participation', 'NN'), ('from', 'IN'), ('all', 'DT'), ('stakeholders', 'NNS'), ('of', 'IN'), ('society', 'NN'), (',', ','), ('especially', 'RB'), ('the', 'DT'), ('public', 'NN'), ('.', '.')]\n"
     ]
    }
   ],
   "source": [
    "pos_tags = nltk.pos_tag(tokens)\n",
    "print(pos_tags)"
   ]
  },
  {
   "cell_type": "code",
   "execution_count": 28,
   "id": "31dce792",
   "metadata": {},
   "outputs": [
    {
     "data": {
      "application/vnd.microsoft.datawrangler.viewer.v0+json": {
       "columns": [
        {
         "name": "index",
         "rawType": "int64",
         "type": "integer"
        },
        {
         "name": "Token",
         "rawType": "object",
         "type": "string"
        },
        {
         "name": "Tag",
         "rawType": "object",
         "type": "string"
        }
       ],
       "conversionMethod": "pd.DataFrame",
       "ref": "32690f74-bb36-4438-8cf0-fdc7179ac522",
       "rows": [
        [
         "0",
         "between",
         "IN"
        ],
        [
         "1",
         "2016",
         "CD"
        ],
        [
         "2",
         "and",
         "CC"
        ],
        [
         "3",
         "2019",
         "CD"
        ],
        [
         "4",
         ",",
         ","
        ],
        [
         "5",
         "the",
         "DT"
        ],
        [
         "6",
         "state",
         "NN"
        ],
        [
         "7",
         "forest",
         "JJS"
        ],
        [
         "8",
         "department",
         "NN"
        ],
        [
         "9",
         "under",
         "IN"
        ],
        [
         "10",
         "thebjpgovernment",
         "NN"
        ],
        [
         "11",
         "had",
         "VBD"
        ],
        [
         "12",
         "launched",
         "VBN"
        ],
        [
         "13",
         "green",
         "JJ"
        ],
        [
         "14",
         "maharashtra",
         "NNS"
        ],
        [
         "15",
         "drive",
         "NN"
        ],
        [
         "16",
         "with",
         "IN"
        ],
        [
         "17",
         "an",
         "DT"
        ],
        [
         "18",
         "aim",
         "NN"
        ],
        [
         "19",
         "to",
         "TO"
        ],
        [
         "20",
         "plant",
         "NN"
        ],
        [
         "21",
         "50",
         "CD"
        ],
        [
         "22",
         "crore",
         "NN"
        ],
        [
         "23",
         "trees",
         "NNS"
        ],
        [
         "24",
         "across",
         "IN"
        ],
        [
         "25",
         "the",
         "DT"
        ],
        [
         "26",
         "state",
         "NN"
        ],
        [
         "27",
         "in",
         "IN"
        ],
        [
         "28",
         "the",
         "DT"
        ],
        [
         "29",
         "four-year",
         "JJ"
        ],
        [
         "30",
         "period",
         "NN"
        ],
        [
         "31",
         ".",
         "."
        ],
        [
         "32",
         "in",
         "IN"
        ],
        [
         "33",
         "october",
         "JJ"
        ],
        [
         "34",
         "2019",
         "CD"
        ],
        [
         "35",
         ",",
         ","
        ],
        [
         "36",
         "the",
         "DT"
        ],
        [
         "37",
         "government",
         "NN"
        ],
        [
         "38",
         "had",
         "VBD"
        ],
        [
         "39",
         "claimed",
         "VBN"
        ],
        [
         "40",
         "it",
         "PRP"
        ],
        [
         "41",
         "had",
         "VBD"
        ],
        [
         "42",
         "surpassed",
         "VBN"
        ],
        [
         "43",
         "the",
         "DT"
        ],
        [
         "44",
         "target",
         "NN"
        ],
        [
         "45",
         "by",
         "IN"
        ],
        [
         "46",
         "planting",
         "VBG"
        ],
        [
         "47",
         "33",
         "CD"
        ],
        [
         "48",
         "crore",
         "NN"
        ],
        [
         "49",
         "trees",
         "NNS"
        ]
       ],
       "shape": {
        "columns": 2,
        "rows": 631
       }
      },
      "text/html": [
       "<div>\n",
       "<style scoped>\n",
       "    .dataframe tbody tr th:only-of-type {\n",
       "        vertical-align: middle;\n",
       "    }\n",
       "\n",
       "    .dataframe tbody tr th {\n",
       "        vertical-align: top;\n",
       "    }\n",
       "\n",
       "    .dataframe thead th {\n",
       "        text-align: right;\n",
       "    }\n",
       "</style>\n",
       "<table border=\"1\" class=\"dataframe\">\n",
       "  <thead>\n",
       "    <tr style=\"text-align: right;\">\n",
       "      <th></th>\n",
       "      <th>Token</th>\n",
       "      <th>Tag</th>\n",
       "    </tr>\n",
       "  </thead>\n",
       "  <tbody>\n",
       "    <tr>\n",
       "      <th>0</th>\n",
       "      <td>between</td>\n",
       "      <td>IN</td>\n",
       "    </tr>\n",
       "    <tr>\n",
       "      <th>1</th>\n",
       "      <td>2016</td>\n",
       "      <td>CD</td>\n",
       "    </tr>\n",
       "    <tr>\n",
       "      <th>2</th>\n",
       "      <td>and</td>\n",
       "      <td>CC</td>\n",
       "    </tr>\n",
       "    <tr>\n",
       "      <th>3</th>\n",
       "      <td>2019</td>\n",
       "      <td>CD</td>\n",
       "    </tr>\n",
       "    <tr>\n",
       "      <th>4</th>\n",
       "      <td>,</td>\n",
       "      <td>,</td>\n",
       "    </tr>\n",
       "    <tr>\n",
       "      <th>...</th>\n",
       "      <td>...</td>\n",
       "      <td>...</td>\n",
       "    </tr>\n",
       "    <tr>\n",
       "      <th>626</th>\n",
       "      <td>,</td>\n",
       "      <td>,</td>\n",
       "    </tr>\n",
       "    <tr>\n",
       "      <th>627</th>\n",
       "      <td>especially</td>\n",
       "      <td>RB</td>\n",
       "    </tr>\n",
       "    <tr>\n",
       "      <th>628</th>\n",
       "      <td>the</td>\n",
       "      <td>DT</td>\n",
       "    </tr>\n",
       "    <tr>\n",
       "      <th>629</th>\n",
       "      <td>public</td>\n",
       "      <td>NN</td>\n",
       "    </tr>\n",
       "    <tr>\n",
       "      <th>630</th>\n",
       "      <td>.</td>\n",
       "      <td>.</td>\n",
       "    </tr>\n",
       "  </tbody>\n",
       "</table>\n",
       "<p>631 rows × 2 columns</p>\n",
       "</div>"
      ],
      "text/plain": [
       "          Token Tag\n",
       "0       between  IN\n",
       "1          2016  CD\n",
       "2           and  CC\n",
       "3          2019  CD\n",
       "4             ,   ,\n",
       "..          ...  ..\n",
       "626           ,   ,\n",
       "627  especially  RB\n",
       "628         the  DT\n",
       "629      public  NN\n",
       "630           .   .\n",
       "\n",
       "[631 rows x 2 columns]"
      ]
     },
     "execution_count": 28,
     "metadata": {},
     "output_type": "execute_result"
    }
   ],
   "source": [
    "pos_df = pd.DataFrame(list(pos_tags), columns=[\"Token\", \"Tag\"])\n",
    "pos_df"
   ]
  },
  {
   "cell_type": "code",
   "execution_count": 29,
   "id": "18f59137",
   "metadata": {},
   "outputs": [
    {
     "name": "stdout",
     "output_type": "stream",
     "text": [
      "['2016', '2019', 'state', 'forest', 'department', 'thebjpgovernment', 'launched', 'green', 'maharashtra', 'drive', 'aim', 'plant', '50', 'crore', 'trees', 'across', 'state', 'period', 'october', '2019', 'government', 'claimed', 'surpassed', 'target', 'planting', '33', 'crore', 'trees', 'indian', 'expresshad', 'found', 'agencies', 'gram', 'panchayats', 'tasked', 'planting', 'trees', 'uploaded', 'mandatory', 'proof', 'tree', 'plantation', 'drives', 'specially', 'created', 'portal', 'pune', 'revenue', 'division', 'claimed', 'gram', 'panchayats', 'planted', 'crore', 'saplings', 'however', 'evidence', 'uploaded', '87', 'per', 'cent', 'crore', 'saplings', 'also', '59', 'government', 'agencies', 'involved', 'drive', 'many', '38', 'submitted', 'survival', 'reports', 'saplings', 'year', 'targets', 'set', 'forest', 'department', 'comparatively', 'modest', 'example', 'pune', 'circle', 'comprises', 'three', 'divisions', 'pune', 'solapur', 'district', 'planned', 'plant', '17', 'lakh', 'saplings', 'forest', 'land', 'however', 'may', 'meet', 'target', 'due', 'unavailability', 'funds', 'last', 'year', 'pune', 'circle', 'planted', '70', 'lakh', 'saplings', 'forest', 'land', 'pune', 'division', 'comprises', 'six', 'talukas', 'namely', 'maval', 'mulshi', 'daund', 'indapur', 'baramati', 'havveli', 'preparations', 'done', 'plantation', '4', 'lakh', 'trees', 'special', 'emphasis', 'teakwood', 'national', 'forest', 'policy', 'aims', 'emphasizes', 'maintaining', '33', 'countrys', 'geographical', 'area', 'forest', 'green', 'cover', 'view', 'part', '50', 'crore', 'plantation', 'programme', 'within', 'maharashtra', 'maharashtra', 'forest', 'department', 'aims', 'plant', '4', 'crore', 'saplings', 'state', 'between1st', 'july', '7th', '2017to', 'celebratevanmohotsav', 'plantation', 'programme', 'announced', '2016', 'aim', 'planting2', 'crore', 'trees', '1stjuly', '2016', 'resounding', 'success', 'final', 'total', 'reported', 'figure', 'crore', 'saplings', 'plantedon', 'single', 'day', 'maintain', 'consistency', 'platform', 'without', 'affecting', 'momentum', 'forest', 'department', 'set', 'target', 'plantation', '4', 'crore', '13', 'crore', '33', 'crore', 'saplings', 'mission', '50', 'crore', 'plantation', 'shall', 'accomplished', 'three', 'consecutive', 'years', 'viz', '2017', '2018', 'the4', 'croresaplings', 'year', '2017', 'planted', 'vanmohotsav', 'july', '1st', 'july', '7thin', 'drivewith', 'involvement', '33', 'government', 'departments', 'along', 'students', 'schools', 'colleges', 'nss', 'ncc', 'csr', 'ngos', 'railways', 'national', 'highways', 'defence', 'nabard', 'stakeholders', 'society', 'first', 'kind', 'freehelpline', 'number', '1926called', 'hello', 'forest', 'set', 'provide', 'information', 'regarding', 'plantation', 'protection', 'mass', 'awareness', 'forest', 'department', 'created', 'amobile', 'application', 'called', 'plantsto', 'record', 'details', 'plantation', 'numbers', 'species', 'location', 'computer', 'system', 'forest', 'department', 'volunteers', 'individual', 'collective', 'organizational', 'level', 'download', 'use', 'application', 'record', 'tree', 'plantation', 'work', 'application', 'operational', '1stjuly', '7thjuly', 'consonance', 'public', 'participation', 'maharashtra', 'forest', 'department', 'initiated', 'maharashtra', 'harit', 'green', 'army', 'body', 'dedicated', 'volunteers', 'participate', 'plantation', 'protection', 'activities', 'forest', 'wildlife', 'related', 'sectors', 'around', 'year', 'individuals', 'organisations', 'interested', 'volunteering', 'register', 'green', 'army', 'integrated', 'drive', 'set', 'place', 'ensure', 'seamless', 'successful', 'participation', 'stakeholders', 'society', 'especially', 'public']\n"
     ]
    }
   ],
   "source": [
    "stop_words = set(stopwords.words(\"english\"))\n",
    "\n",
    "filtered_words = [\n",
    "    word for word in tokens if word.lower() not in stop_words and word.isalnum()\n",
    "]\n",
    "\n",
    "print(filtered_words)"
   ]
  },
  {
   "cell_type": "code",
   "execution_count": 30,
   "id": "c66f6d81",
   "metadata": {},
   "outputs": [
    {
     "name": "stdout",
     "output_type": "stream",
     "text": [
      "['2016', '2019', 'state', 'forest', 'depart', 'thebjpgovern', 'launch', 'green', 'maharashtra', 'drive', 'aim', 'plant', '50', 'crore', 'tree', 'across', 'state', 'period', 'octob', '2019', 'govern', 'claim', 'surpass', 'target', 'plant', '33', 'crore', 'tree', 'indian', 'expresshad', 'found', 'agenc', 'gram', 'panchayat', 'task', 'plant', 'tree', 'upload', 'mandatori', 'proof', 'tree', 'plantat', 'drive', 'special', 'creat', 'portal', 'pune', 'revenu', 'divis', 'claim', 'gram', 'panchayat', 'plant', 'crore', 'sapl', 'howev', 'evid', 'upload', '87', 'per', 'cent', 'crore', 'sapl', 'also', '59', 'govern', 'agenc', 'involv', 'drive', 'mani', '38', 'submit', 'surviv', 'report', 'sapl', 'year', 'target', 'set', 'forest', 'depart', 'compar', 'modest', 'exampl', 'pune', 'circl', 'compris', 'three', 'divis', 'pune', 'solapur', 'district', 'plan', 'plant', '17', 'lakh', 'sapl', 'forest', 'land', 'howev', 'may', 'meet', 'target', 'due', 'unavail', 'fund', 'last', 'year', 'pune', 'circl', 'plant', '70', 'lakh', 'sapl', 'forest', 'land', 'pune', 'divis', 'compris', 'six', 'taluka', 'name', 'maval', 'mulshi', 'daund', 'indapur', 'baramati', 'havv', 'prepar', 'done', 'plantat', '4', 'lakh', 'tree', 'special', 'emphasi', 'teakwood', 'nation', 'forest', 'polici', 'aim', 'emphas', 'maintain', '33', 'countri', 'geograph', 'area', 'forest', 'green', 'cover', 'view', 'part', '50', 'crore', 'plantat', 'programm', 'within', 'maharashtra', 'maharashtra', 'forest', 'depart', 'aim', 'plant', '4', 'crore', 'sapl', 'state', 'between1st', 'juli', '7th', '2017to', 'celebratevanmohotsav', 'plantat', 'programm', 'announc', '2016', 'aim', 'planting2', 'crore', 'tree', '1stjuli', '2016', 'resound', 'success', 'final', 'total', 'report', 'figur', 'crore', 'sapl', 'plantedon', 'singl', 'day', 'maintain', 'consist', 'platform', 'without', 'affect', 'momentum', 'forest', 'depart', 'set', 'target', 'plantat', '4', 'crore', '13', 'crore', '33', 'crore', 'sapl', 'mission', '50', 'crore', 'plantat', 'shall', 'accomplish', 'three', 'consecut', 'year', 'viz', '2017', '2018', 'the4', 'croresapl', 'year', '2017', 'plant', 'vanmohotsav', 'juli', '1st', 'juli', '7thin', 'drivewith', 'involv', '33', 'govern', 'depart', 'along', 'student', 'school', 'colleg', 'nss', 'ncc', 'csr', 'ngo', 'railway', 'nation', 'highway', 'defenc', 'nabard', 'stakehold', 'societi', 'first', 'kind', 'freehelplin', 'number', '1926call', 'hello', 'forest', 'set', 'provid', 'inform', 'regard', 'plantat', 'protect', 'mass', 'awar', 'forest', 'depart', 'creat', 'amobil', 'applic', 'call', 'plantsto', 'record', 'detail', 'plantat', 'number', 'speci', 'locat', 'comput', 'system', 'forest', 'depart', 'volunt', 'individu', 'collect', 'organiz', 'level', 'download', 'use', 'applic', 'record', 'tree', 'plantat', 'work', 'applic', 'oper', '1stjuli', '7thjuli', 'conson', 'public', 'particip', 'maharashtra', 'forest', 'depart', 'initi', 'maharashtra', 'harit', 'green', 'armi', 'bodi', 'dedic', 'volunt', 'particip', 'plantat', 'protect', 'activ', 'forest', 'wildlif', 'relat', 'sector', 'around', 'year', 'individu', 'organis', 'interest', 'volunt', 'regist', 'green', 'armi', 'integr', 'drive', 'set', 'place', 'ensur', 'seamless', 'success', 'particip', 'stakehold', 'societi', 'especi', 'public']\n"
     ]
    }
   ],
   "source": [
    "porter = PorterStemmer()\n",
    "stemmed_words = [porter.stem(word) for word in filtered_words]\n",
    "print(stemmed_words)"
   ]
  },
  {
   "cell_type": "code",
   "execution_count": 31,
   "id": "4e5a1474",
   "metadata": {},
   "outputs": [
    {
     "name": "stdout",
     "output_type": "stream",
     "text": [
      "['2016', '2019', 'state', 'forest', 'department', 'thebjpgovernment', 'launched', 'green', 'maharashtra', 'drive', 'aim', 'plant', '50', 'crore', 'tree', 'across', 'state', 'period', 'october', '2019', 'government', 'claimed', 'surpassed', 'target', 'planting', '33', 'crore', 'tree', 'indian', 'expresshad', 'found', 'agency', 'gram', 'panchayat', 'tasked', 'planting', 'tree', 'uploaded', 'mandatory', 'proof', 'tree', 'plantation', 'drive', 'specially', 'created', 'portal', 'pune', 'revenue', 'division', 'claimed', 'gram', 'panchayat', 'planted', 'crore', 'sapling', 'however', 'evidence', 'uploaded', '87', 'per', 'cent', 'crore', 'sapling', 'also', '59', 'government', 'agency', 'involved', 'drive', 'many', '38', 'submitted', 'survival', 'report', 'sapling', 'year', 'target', 'set', 'forest', 'department', 'comparatively', 'modest', 'example', 'pune', 'circle', 'comprises', 'three', 'division', 'pune', 'solapur', 'district', 'planned', 'plant', '17', 'lakh', 'sapling', 'forest', 'land', 'however', 'may', 'meet', 'target', 'due', 'unavailability', 'fund', 'last', 'year', 'pune', 'circle', 'planted', '70', 'lakh', 'sapling', 'forest', 'land', 'pune', 'division', 'comprises', 'six', 'talukas', 'namely', 'maval', 'mulshi', 'daund', 'indapur', 'baramati', 'havveli', 'preparation', 'done', 'plantation', '4', 'lakh', 'tree', 'special', 'emphasis', 'teakwood', 'national', 'forest', 'policy', 'aim', 'emphasizes', 'maintaining', '33', 'country', 'geographical', 'area', 'forest', 'green', 'cover', 'view', 'part', '50', 'crore', 'plantation', 'programme', 'within', 'maharashtra', 'maharashtra', 'forest', 'department', 'aim', 'plant', '4', 'crore', 'sapling', 'state', 'between1st', 'july', '7th', '2017to', 'celebratevanmohotsav', 'plantation', 'programme', 'announced', '2016', 'aim', 'planting2', 'crore', 'tree', '1stjuly', '2016', 'resounding', 'success', 'final', 'total', 'reported', 'figure', 'crore', 'sapling', 'plantedon', 'single', 'day', 'maintain', 'consistency', 'platform', 'without', 'affecting', 'momentum', 'forest', 'department', 'set', 'target', 'plantation', '4', 'crore', '13', 'crore', '33', 'crore', 'sapling', 'mission', '50', 'crore', 'plantation', 'shall', 'accomplished', 'three', 'consecutive', 'year', 'viz', '2017', '2018', 'the4', 'croresaplings', 'year', '2017', 'planted', 'vanmohotsav', 'july', '1st', 'july', '7thin', 'drivewith', 'involvement', '33', 'government', 'department', 'along', 'student', 'school', 'college', 'nss', 'ncc', 'csr', 'ngo', 'railway', 'national', 'highway', 'defence', 'nabard', 'stakeholder', 'society', 'first', 'kind', 'freehelpline', 'number', '1926called', 'hello', 'forest', 'set', 'provide', 'information', 'regarding', 'plantation', 'protection', 'mass', 'awareness', 'forest', 'department', 'created', 'amobile', 'application', 'called', 'plantsto', 'record', 'detail', 'plantation', 'number', 'specie', 'location', 'computer', 'system', 'forest', 'department', 'volunteer', 'individual', 'collective', 'organizational', 'level', 'download', 'use', 'application', 'record', 'tree', 'plantation', 'work', 'application', 'operational', '1stjuly', '7thjuly', 'consonance', 'public', 'participation', 'maharashtra', 'forest', 'department', 'initiated', 'maharashtra', 'harit', 'green', 'army', 'body', 'dedicated', 'volunteer', 'participate', 'plantation', 'protection', 'activity', 'forest', 'wildlife', 'related', 'sector', 'around', 'year', 'individual', 'organisation', 'interested', 'volunteering', 'register', 'green', 'army', 'integrated', 'drive', 'set', 'place', 'ensure', 'seamless', 'successful', 'participation', 'stakeholder', 'society', 'especially', 'public']\n"
     ]
    }
   ],
   "source": [
    "lemmatizer = WordNetLemmatizer()\n",
    "lemmatized_words = [lemmatizer.lemmatize(word) for word in filtered_words]\n",
    "print(lemmatized_words)"
   ]
  },
  {
   "cell_type": "code",
   "execution_count": 32,
   "id": "ed25d156",
   "metadata": {},
   "outputs": [
    {
     "name": "stdout",
     "output_type": "stream",
     "text": [
      "<FreqDist with 212 samples and 343 outcomes>\n"
     ]
    }
   ],
   "source": [
    "tf = FreqDist(lemmatized_words)\n",
    "print(tf)"
   ]
  },
  {
   "cell_type": "code",
   "execution_count": 33,
   "id": "848a0aa6",
   "metadata": {},
   "outputs": [
    {
     "data": {
      "application/vnd.microsoft.datawrangler.viewer.v0+json": {
       "columns": [
        {
         "name": "index",
         "rawType": "int64",
         "type": "integer"
        },
        {
         "name": "Token",
         "rawType": "object",
         "type": "string"
        },
        {
         "name": "TF Score",
         "rawType": "int64",
         "type": "integer"
        }
       ],
       "conversionMethod": "pd.DataFrame",
       "ref": "3a6f2ccb-5b59-4f46-94b5-86c37b152372",
       "rows": [
        [
         "0",
         "2016",
         "3"
        ],
        [
         "1",
         "2019",
         "2"
        ],
        [
         "2",
         "state",
         "3"
        ],
        [
         "3",
         "forest",
         "13"
        ],
        [
         "4",
         "department",
         "8"
        ],
        [
         "5",
         "thebjpgovernment",
         "1"
        ],
        [
         "6",
         "launched",
         "1"
        ],
        [
         "7",
         "green",
         "4"
        ],
        [
         "8",
         "maharashtra",
         "5"
        ],
        [
         "9",
         "drive",
         "4"
        ],
        [
         "10",
         "aim",
         "4"
        ],
        [
         "11",
         "plant",
         "3"
        ],
        [
         "12",
         "50",
         "3"
        ],
        [
         "13",
         "crore",
         "12"
        ],
        [
         "14",
         "tree",
         "7"
        ],
        [
         "15",
         "across",
         "1"
        ],
        [
         "16",
         "period",
         "1"
        ],
        [
         "17",
         "october",
         "1"
        ],
        [
         "18",
         "government",
         "3"
        ],
        [
         "19",
         "claimed",
         "2"
        ],
        [
         "20",
         "surpassed",
         "1"
        ],
        [
         "21",
         "target",
         "4"
        ],
        [
         "22",
         "planting",
         "2"
        ],
        [
         "23",
         "33",
         "4"
        ],
        [
         "24",
         "indian",
         "1"
        ],
        [
         "25",
         "expresshad",
         "1"
        ],
        [
         "26",
         "found",
         "1"
        ],
        [
         "27",
         "agency",
         "2"
        ],
        [
         "28",
         "gram",
         "2"
        ],
        [
         "29",
         "panchayat",
         "2"
        ],
        [
         "30",
         "tasked",
         "1"
        ],
        [
         "31",
         "uploaded",
         "2"
        ],
        [
         "32",
         "mandatory",
         "1"
        ],
        [
         "33",
         "proof",
         "1"
        ],
        [
         "34",
         "plantation",
         "10"
        ],
        [
         "35",
         "specially",
         "1"
        ],
        [
         "36",
         "created",
         "2"
        ],
        [
         "37",
         "portal",
         "1"
        ],
        [
         "38",
         "pune",
         "5"
        ],
        [
         "39",
         "revenue",
         "1"
        ],
        [
         "40",
         "division",
         "3"
        ],
        [
         "41",
         "planted",
         "3"
        ],
        [
         "42",
         "sapling",
         "8"
        ],
        [
         "43",
         "however",
         "2"
        ],
        [
         "44",
         "evidence",
         "1"
        ],
        [
         "45",
         "87",
         "1"
        ],
        [
         "46",
         "per",
         "1"
        ],
        [
         "47",
         "cent",
         "1"
        ],
        [
         "48",
         "also",
         "1"
        ],
        [
         "49",
         "59",
         "1"
        ]
       ],
       "shape": {
        "columns": 2,
        "rows": 212
       }
      },
      "text/html": [
       "<div>\n",
       "<style scoped>\n",
       "    .dataframe tbody tr th:only-of-type {\n",
       "        vertical-align: middle;\n",
       "    }\n",
       "\n",
       "    .dataframe tbody tr th {\n",
       "        vertical-align: top;\n",
       "    }\n",
       "\n",
       "    .dataframe thead th {\n",
       "        text-align: right;\n",
       "    }\n",
       "</style>\n",
       "<table border=\"1\" class=\"dataframe\">\n",
       "  <thead>\n",
       "    <tr style=\"text-align: right;\">\n",
       "      <th></th>\n",
       "      <th>Token</th>\n",
       "      <th>TF Score</th>\n",
       "    </tr>\n",
       "  </thead>\n",
       "  <tbody>\n",
       "    <tr>\n",
       "      <th>0</th>\n",
       "      <td>2016</td>\n",
       "      <td>3</td>\n",
       "    </tr>\n",
       "    <tr>\n",
       "      <th>1</th>\n",
       "      <td>2019</td>\n",
       "      <td>2</td>\n",
       "    </tr>\n",
       "    <tr>\n",
       "      <th>2</th>\n",
       "      <td>state</td>\n",
       "      <td>3</td>\n",
       "    </tr>\n",
       "    <tr>\n",
       "      <th>3</th>\n",
       "      <td>forest</td>\n",
       "      <td>13</td>\n",
       "    </tr>\n",
       "    <tr>\n",
       "      <th>4</th>\n",
       "      <td>department</td>\n",
       "      <td>8</td>\n",
       "    </tr>\n",
       "    <tr>\n",
       "      <th>...</th>\n",
       "      <td>...</td>\n",
       "      <td>...</td>\n",
       "    </tr>\n",
       "    <tr>\n",
       "      <th>207</th>\n",
       "      <td>place</td>\n",
       "      <td>1</td>\n",
       "    </tr>\n",
       "    <tr>\n",
       "      <th>208</th>\n",
       "      <td>ensure</td>\n",
       "      <td>1</td>\n",
       "    </tr>\n",
       "    <tr>\n",
       "      <th>209</th>\n",
       "      <td>seamless</td>\n",
       "      <td>1</td>\n",
       "    </tr>\n",
       "    <tr>\n",
       "      <th>210</th>\n",
       "      <td>successful</td>\n",
       "      <td>1</td>\n",
       "    </tr>\n",
       "    <tr>\n",
       "      <th>211</th>\n",
       "      <td>especially</td>\n",
       "      <td>1</td>\n",
       "    </tr>\n",
       "  </tbody>\n",
       "</table>\n",
       "<p>212 rows × 2 columns</p>\n",
       "</div>"
      ],
      "text/plain": [
       "          Token  TF Score\n",
       "0          2016         3\n",
       "1          2019         2\n",
       "2         state         3\n",
       "3        forest        13\n",
       "4    department         8\n",
       "..          ...       ...\n",
       "207       place         1\n",
       "208      ensure         1\n",
       "209    seamless         1\n",
       "210  successful         1\n",
       "211  especially         1\n",
       "\n",
       "[212 rows x 2 columns]"
      ]
     },
     "execution_count": 33,
     "metadata": {},
     "output_type": "execute_result"
    }
   ],
   "source": [
    "tf_df = pd.DataFrame(list(tf.items()), columns=[\"Token\", \"TF Score\"])\n",
    "tf_df"
   ]
  },
  {
   "cell_type": "code",
   "execution_count": 39,
   "id": "27ef7cc5",
   "metadata": {},
   "outputs": [
    {
     "name": "stdout",
     "output_type": "stream",
     "text": [
      "{'13': np.float64(1.0), '17': np.float64(1.0), '1926called': np.float64(1.0), '1st': np.float64(1.0), '1stjuly': np.float64(1.0), '2016': np.float64(1.0), '2017': np.float64(1.0), '2017to': np.float64(1.0), '2018': np.float64(1.0), '2019': np.float64(1.0), '33': np.float64(1.0), '38': np.float64(1.0), '49': np.float64(1.0), '50': np.float64(1.0), '59': np.float64(1.0), '70': np.float64(1.0), '7th': np.float64(1.0), '7thin': np.float64(1.0), '7thjuly': np.float64(1.0), '82': np.float64(1.0), '87': np.float64(1.0), 'a24': np.float64(1.0), 'about': np.float64(1.0), 'accomplished': np.float64(1.0), 'across': np.float64(1.0), 'activities': np.float64(1.0), 'affecting': np.float64(1.0), 'agencies': np.float64(1.0), 'aim': np.float64(1.0), 'aims': np.float64(1.0), 'all': np.float64(1.0), 'along': np.float64(1.0), 'also': np.float64(1.0), 'amobile': np.float64(1.0), 'an': np.float64(1.0), 'and': np.float64(1.0), 'announced': np.float64(1.0), 'application': np.float64(1.0), 'area': np.float64(1.0), 'army': np.float64(1.0), 'around': np.float64(1.0), 'as': np.float64(1.0), 'at': np.float64(1.0), 'audio': np.float64(1.0), 'awareness': np.float64(1.0), 'baramati': np.float64(1.0), 'be': np.float64(1.0), 'been': np.float64(1.0), 'between': np.float64(1.0), 'between1st': np.float64(1.0), 'body': np.float64(1.0), 'by': np.float64(1.0), 'called': np.float64(1.0), 'can': np.float64(1.0), 'celebratevanmohotsav': np.float64(1.0), 'cent': np.float64(1.0), 'circle': np.float64(1.0), 'claimed': np.float64(1.0), 'collective': np.float64(1.0), 'colleges': np.float64(1.0), 'comparatively': np.float64(1.0), 'comprises': np.float64(1.0), 'computer': np.float64(1.0), 'consecutive': np.float64(1.0), 'consistency': np.float64(1.0), 'consonance': np.float64(1.0), 'countrys': np.float64(1.0), 'cover': np.float64(1.0), 'created': np.float64(1.0), 'crore': np.float64(1.0), 'croresaplings': np.float64(1.0), 'csr': np.float64(1.0), 'daund': np.float64(1.0), 'day': np.float64(1.0), 'dedicated': np.float64(1.0), 'defence': np.float64(1.0), 'department': np.float64(1.0), 'departments': np.float64(1.0), 'details': np.float64(1.0), 'district': np.float64(1.0), 'division': np.float64(1.0), 'divisions': np.float64(1.0), 'done': np.float64(1.0), 'download': np.float64(1.0), 'drive': np.float64(1.0), 'drives': np.float64(1.0), 'drivewith': np.float64(1.0), 'due': np.float64(1.0), 'during': np.float64(1.0), 'emphasis': np.float64(1.0), 'emphasizes': np.float64(1.0), 'ensure': np.float64(1.0), 'especially': np.float64(1.0), 'evidence': np.float64(1.0), 'example': np.float64(1.0), 'expresshad': np.float64(1.0), 'figure': np.float64(1.0), 'final': np.float64(1.0), 'first': np.float64(1.0), 'for': np.float64(1.0), 'forest': np.float64(1.0), 'found': np.float64(1.0), 'four': np.float64(1.0), 'freehelpline': np.float64(1.0), 'from': np.float64(1.0), 'funds': np.float64(1.0), 'geographical': np.float64(1.0), 'gov': np.float64(1.0), 'government': np.float64(1.0), 'gram': np.float64(1.0), 'green': np.float64(1.0), 'greenarmy': np.float64(1.0), 'had': np.float64(1.0), 'harit': np.float64(1.0), 'has': np.float64(1.0), 'havveli': np.float64(1.0), 'hello': np.float64(1.0), 'highways': np.float64(1.0), 'hourtoll': np.float64(1.0), 'however': np.float64(1.0), 'in': np.float64(1.0), 'indapur': np.float64(1.0), 'indian': np.float64(1.0), 'individual': np.float64(1.0), 'individuals': np.float64(1.0), 'information': np.float64(1.0), 'initiated': np.float64(1.0), 'integrated': np.float64(1.0), 'interested': np.float64(1.0), 'into': np.float64(1.0), 'involved': np.float64(1.0), 'involvement': np.float64(1.0), 'is': np.float64(1.0), 'it': np.float64(1.0), 'its': np.float64(1.0), 'july': np.float64(1.0), 'kind': np.float64(1.0), 'lakh': np.float64(1.0), 'land': np.float64(1.0), 'last': np.float64(1.0), 'launched': np.float64(1.0), 'level': np.float64(1.0), 'location': np.float64(1.0), 'mahaforest': np.float64(1.0), 'maharashtra': np.float64(1.0), 'maintain': np.float64(1.0), 'maintaining': np.float64(1.0), 'mandatory': np.float64(1.0), 'many': np.float64(1.0), 'mass': np.float64(1.0), 'maval': np.float64(1.0), 'may': np.float64(1.0), 'meet': np.float64(1.0), 'mission': np.float64(1.0), 'modest': np.float64(1.0), 'momentum': np.float64(1.0), 'mulshi': np.float64(1.0), 'my': np.float64(1.0), 'nabard': np.float64(1.0), 'namely': np.float64(1.0), 'national': np.float64(1.0), 'ncc': np.float64(1.0), 'ngos': np.float64(1.0), 'no': np.float64(1.0), 'non': np.float64(1.0), 'not': np.float64(1.0), 'nss': np.float64(1.0), 'number': np.float64(1.0), 'numbers': np.float64(1.0), 'october': np.float64(1.0), 'of': np.float64(1.0), 'of2': np.float64(1.0), 'on': np.float64(1.0), 'operational': np.float64(1.0), 'organisations': np.float64(1.0), 'organizational': np.float64(1.0), 'other': np.float64(1.0), 'out': np.float64(1.0), 'over': np.float64(1.0), 'panchayats': np.float64(1.0), 'part': np.float64(1.0), 'participate': np.float64(1.0), 'participation': np.float64(1.0), 'per': np.float64(1.0), 'period': np.float64(1.0), 'place': np.float64(1.0), 'planned': np.float64(1.0), 'plant': np.float64(1.0), 'plantation': np.float64(1.0), 'planted': np.float64(1.0), 'plantedon': np.float64(1.0), 'planting': np.float64(1.0), 'planting2': np.float64(1.0), 'plantsto': np.float64(1.0), 'platform': np.float64(1.0), 'policy': np.float64(1.0), 'portal': np.float64(1.0), 'preparations': np.float64(1.0), 'programme': np.float64(1.0), 'proof': np.float64(1.0), 'protection': np.float64(1.0), 'provide': np.float64(1.0), 'public': np.float64(1.0), 'pune': np.float64(1.0), 'railways': np.float64(1.0), 'record': np.float64(1.0), 'regarding': np.float64(1.0), 'register': np.float64(1.0), 'related': np.float64(1.0), 'reported': np.float64(1.0), 'reports': np.float64(1.0), 'resounding': np.float64(1.0), 'revenue': np.float64(1.0), 'saplings': np.float64(1.0), 'schools': np.float64(1.0), 'seamless': np.float64(1.0), 'sectors': np.float64(1.0), 'sena': np.float64(1.0), 'september': np.float64(1.0), 'set': np.float64(1.0), 'shall': np.float64(1.0), 'should': np.float64(1.0), 'single': np.float64(1.0), 'six': np.float64(1.0), 'society': np.float64(1.0), 'solapur': np.float64(1.0), 'special': np.float64(1.0), 'specially': np.float64(1.0), 'species': np.float64(1.0), 'stakeholders': np.float64(1.0), 'state': np.float64(1.0), 'students': np.float64(1.0), 'submitted': np.float64(1.0), 'success': np.float64(1.0), 'successful': np.float64(1.0), 'such': np.float64(1.0), 'surpassed': np.float64(1.0), 'survival': np.float64(1.0), 'system': np.float64(1.0), 'talukas': np.float64(1.0), 'target': np.float64(1.0), 'targets': np.float64(1.0), 'tasked': np.float64(1.0), 'teakwood': np.float64(1.0), 'that': np.float64(1.0), 'the': np.float64(1.0), 'the4': np.float64(1.0), 'thebjpgovernment': np.float64(1.0), 'their': np.float64(1.0), 'this': np.float64(1.0), 'three': np.float64(1.0), 'through': np.float64(1.0), 'to': np.float64(1.0), 'total': np.float64(1.0), 'tree': np.float64(1.0), 'trees': np.float64(1.0), 'unavailability': np.float64(1.0), 'under': np.float64(1.0), 'up': np.float64(1.0), 'uploaded': np.float64(1.0), 'use': np.float64(1.0), 'vanmohotsav': np.float64(1.0), 'view': np.float64(1.0), 'visual': np.float64(1.0), 'viz': np.float64(1.0), 'volunteering': np.float64(1.0), 'volunteers': np.float64(1.0), 'was': np.float64(1.0), 'websitewww': np.float64(1.0), 'were': np.float64(1.0), 'which': np.float64(1.0), 'wide': np.float64(1.0), 'wildlife': np.float64(1.0), 'will': np.float64(1.0), 'with': np.float64(1.0), 'within': np.float64(1.0), 'without': np.float64(1.0), 'work': np.float64(1.0), 'year': np.float64(1.0), 'years': np.float64(1.0)}\n"
     ]
    }
   ],
   "source": [
    "corpus = [cleaned_text]\n",
    "tfidf_vectorizer = TfidfVectorizer()\n",
    "tfidf_matrix = tfidf_vectorizer.fit_transform(corpus)\n",
    "\n",
    "idf_values = dict(zip(tfidf_vectorizer.get_feature_names_out(), tfidf_vectorizer.idf_))\n",
    "print(idf_values)"
   ]
  },
  {
   "cell_type": "code",
   "execution_count": 35,
   "id": "55675fd7",
   "metadata": {},
   "outputs": [
    {
     "name": "stdout",
     "output_type": "stream",
     "text": [
      "{'2016': 3.0, '2019': 2.0, 'state': 3.0, 'forest': 13.0, 'department': 8.0, 'thebjpgovernment': 1.0, 'launched': 1.0, 'green': 4.0, 'maharashtra': 5.0, 'drive': 4.0, 'aim': 4.0, 'plant': 3.0, '50': 3.0, 'crore': 12.0, 'tree': 7.0, 'across': 1.0, 'period': 1.0, 'october': 1.0, 'government': 3.0, 'claimed': 2.0, 'surpassed': 1.0, 'target': 4.0, 'planting': 2.0, '33': 4.0, 'indian': 1.0, 'expresshad': 1.0, 'found': 1.0, 'agency': 0.0, 'gram': 2.0, 'panchayat': 0.0, 'tasked': 1.0, 'uploaded': 2.0, 'mandatory': 1.0, 'proof': 1.0, 'plantation': 10.0, 'specially': 1.0, 'created': 2.0, 'portal': 1.0, 'pune': 5.0, 'revenue': 1.0, 'division': 3.0, 'planted': 3.0, 'sapling': 0.0, 'however': 2.0, 'evidence': 1.0, '87': 1.0, 'per': 1.0, 'cent': 1.0, 'also': 1.0, '59': 1.0, 'involved': 1.0, 'many': 1.0, '38': 1.0, 'submitted': 1.0, 'survival': 1.0, 'report': 0.0, 'year': 5.0, 'set': 4.0, 'comparatively': 1.0, 'modest': 1.0, 'example': 1.0, 'circle': 2.0, 'comprises': 2.0, 'three': 2.0, 'solapur': 1.0, 'district': 1.0, 'planned': 1.0, '17': 1.0, 'lakh': 3.0, 'land': 2.0, 'may': 1.0, 'meet': 1.0, 'due': 1.0, 'unavailability': 1.0, 'fund': 0.0, 'last': 1.0, '70': 1.0, 'six': 1.0, 'talukas': 1.0, 'namely': 1.0, 'maval': 1.0, 'mulshi': 1.0, 'daund': 1.0, 'indapur': 1.0, 'baramati': 1.0, 'havveli': 1.0, 'preparation': 0.0, 'done': 1.0, '4': 0.0, 'special': 1.0, 'emphasis': 1.0, 'teakwood': 1.0, 'national': 2.0, 'policy': 1.0, 'emphasizes': 1.0, 'maintaining': 1.0, 'country': 0.0, 'geographical': 1.0, 'area': 1.0, 'cover': 1.0, 'view': 1.0, 'part': 1.0, 'programme': 2.0, 'within': 1.0, 'between1st': 1.0, 'july': 3.0, '7th': 1.0, '2017to': 1.0, 'celebratevanmohotsav': 1.0, 'announced': 1.0, 'planting2': 1.0, '1stjuly': 2.0, 'resounding': 1.0, 'success': 1.0, 'final': 1.0, 'total': 1.0, 'reported': 1.0, 'figure': 1.0, 'plantedon': 1.0, 'single': 1.0, 'day': 1.0, 'maintain': 1.0, 'consistency': 1.0, 'platform': 1.0, 'without': 1.0, 'affecting': 1.0, 'momentum': 1.0, '13': 1.0, 'mission': 1.0, 'shall': 1.0, 'accomplished': 1.0, 'consecutive': 1.0, 'viz': 1.0, '2017': 2.0, '2018': 1.0, 'the4': 1.0, 'croresaplings': 1.0, 'vanmohotsav': 1.0, '1st': 1.0, '7thin': 1.0, 'drivewith': 1.0, 'involvement': 1.0, 'along': 1.0, 'student': 0.0, 'school': 0.0, 'college': 0.0, 'nss': 1.0, 'ncc': 1.0, 'csr': 1.0, 'ngo': 0.0, 'railway': 0.0, 'highway': 0.0, 'defence': 1.0, 'nabard': 1.0, 'stakeholder': 0.0, 'society': 2.0, 'first': 1.0, 'kind': 1.0, 'freehelpline': 1.0, 'number': 2.0, '1926called': 1.0, 'hello': 1.0, 'provide': 1.0, 'information': 1.0, 'regarding': 1.0, 'protection': 2.0, 'mass': 1.0, 'awareness': 1.0, 'amobile': 1.0, 'application': 3.0, 'called': 1.0, 'plantsto': 1.0, 'record': 2.0, 'detail': 0.0, 'specie': 0.0, 'location': 1.0, 'computer': 1.0, 'system': 1.0, 'volunteer': 0.0, 'individual': 2.0, 'collective': 1.0, 'organizational': 1.0, 'level': 1.0, 'download': 1.0, 'use': 1.0, 'work': 1.0, 'operational': 1.0, '7thjuly': 1.0, 'consonance': 1.0, 'public': 2.0, 'participation': 2.0, 'initiated': 1.0, 'harit': 1.0, 'army': 2.0, 'body': 1.0, 'dedicated': 1.0, 'participate': 1.0, 'activity': 0.0, 'wildlife': 1.0, 'related': 1.0, 'sector': 0.0, 'around': 1.0, 'organisation': 0.0, 'interested': 1.0, 'volunteering': 1.0, 'register': 1.0, 'integrated': 1.0, 'place': 1.0, 'ensure': 1.0, 'seamless': 1.0, 'successful': 1.0, 'especially': 1.0}\n"
     ]
    }
   ],
   "source": [
    "tfidf_scores = {word: tf[word] * float(idf_values.get(word, 0)) for word in tf.keys()}\n",
    "\n",
    "print(tfidf_scores)"
   ]
  },
  {
   "cell_type": "code",
   "execution_count": 36,
   "id": "406a673a",
   "metadata": {},
   "outputs": [
    {
     "data": {
      "application/vnd.microsoft.datawrangler.viewer.v0+json": {
       "columns": [
        {
         "name": "index",
         "rawType": "int64",
         "type": "integer"
        },
        {
         "name": "Word",
         "rawType": "object",
         "type": "string"
        },
        {
         "name": "TF_IDF Score",
         "rawType": "float64",
         "type": "float"
        }
       ],
       "conversionMethod": "pd.DataFrame",
       "ref": "f8935643-cc21-4ae3-9cb0-a5d408974ce2",
       "rows": [
        [
         "0",
         "2016",
         "3.0"
        ],
        [
         "1",
         "2019",
         "2.0"
        ],
        [
         "2",
         "state",
         "3.0"
        ],
        [
         "3",
         "forest",
         "13.0"
        ],
        [
         "4",
         "department",
         "8.0"
        ],
        [
         "5",
         "thebjpgovernment",
         "1.0"
        ],
        [
         "6",
         "launched",
         "1.0"
        ],
        [
         "7",
         "green",
         "4.0"
        ],
        [
         "8",
         "maharashtra",
         "5.0"
        ],
        [
         "9",
         "drive",
         "4.0"
        ],
        [
         "10",
         "aim",
         "4.0"
        ],
        [
         "11",
         "plant",
         "3.0"
        ],
        [
         "12",
         "50",
         "3.0"
        ],
        [
         "13",
         "crore",
         "12.0"
        ],
        [
         "14",
         "tree",
         "7.0"
        ],
        [
         "15",
         "across",
         "1.0"
        ],
        [
         "16",
         "period",
         "1.0"
        ],
        [
         "17",
         "october",
         "1.0"
        ],
        [
         "18",
         "government",
         "3.0"
        ],
        [
         "19",
         "claimed",
         "2.0"
        ],
        [
         "20",
         "surpassed",
         "1.0"
        ],
        [
         "21",
         "target",
         "4.0"
        ],
        [
         "22",
         "planting",
         "2.0"
        ],
        [
         "23",
         "33",
         "4.0"
        ],
        [
         "24",
         "indian",
         "1.0"
        ],
        [
         "25",
         "expresshad",
         "1.0"
        ],
        [
         "26",
         "found",
         "1.0"
        ],
        [
         "27",
         "agency",
         "0.0"
        ],
        [
         "28",
         "gram",
         "2.0"
        ],
        [
         "29",
         "panchayat",
         "0.0"
        ],
        [
         "30",
         "tasked",
         "1.0"
        ],
        [
         "31",
         "uploaded",
         "2.0"
        ],
        [
         "32",
         "mandatory",
         "1.0"
        ],
        [
         "33",
         "proof",
         "1.0"
        ],
        [
         "34",
         "plantation",
         "10.0"
        ],
        [
         "35",
         "specially",
         "1.0"
        ],
        [
         "36",
         "created",
         "2.0"
        ],
        [
         "37",
         "portal",
         "1.0"
        ],
        [
         "38",
         "pune",
         "5.0"
        ],
        [
         "39",
         "revenue",
         "1.0"
        ],
        [
         "40",
         "division",
         "3.0"
        ],
        [
         "41",
         "planted",
         "3.0"
        ],
        [
         "42",
         "sapling",
         "0.0"
        ],
        [
         "43",
         "however",
         "2.0"
        ],
        [
         "44",
         "evidence",
         "1.0"
        ],
        [
         "45",
         "87",
         "1.0"
        ],
        [
         "46",
         "per",
         "1.0"
        ],
        [
         "47",
         "cent",
         "1.0"
        ],
        [
         "48",
         "also",
         "1.0"
        ],
        [
         "49",
         "59",
         "1.0"
        ]
       ],
       "shape": {
        "columns": 2,
        "rows": 212
       }
      },
      "text/html": [
       "<div>\n",
       "<style scoped>\n",
       "    .dataframe tbody tr th:only-of-type {\n",
       "        vertical-align: middle;\n",
       "    }\n",
       "\n",
       "    .dataframe tbody tr th {\n",
       "        vertical-align: top;\n",
       "    }\n",
       "\n",
       "    .dataframe thead th {\n",
       "        text-align: right;\n",
       "    }\n",
       "</style>\n",
       "<table border=\"1\" class=\"dataframe\">\n",
       "  <thead>\n",
       "    <tr style=\"text-align: right;\">\n",
       "      <th></th>\n",
       "      <th>Word</th>\n",
       "      <th>TF_IDF Score</th>\n",
       "    </tr>\n",
       "  </thead>\n",
       "  <tbody>\n",
       "    <tr>\n",
       "      <th>0</th>\n",
       "      <td>2016</td>\n",
       "      <td>3.0</td>\n",
       "    </tr>\n",
       "    <tr>\n",
       "      <th>1</th>\n",
       "      <td>2019</td>\n",
       "      <td>2.0</td>\n",
       "    </tr>\n",
       "    <tr>\n",
       "      <th>2</th>\n",
       "      <td>state</td>\n",
       "      <td>3.0</td>\n",
       "    </tr>\n",
       "    <tr>\n",
       "      <th>3</th>\n",
       "      <td>forest</td>\n",
       "      <td>13.0</td>\n",
       "    </tr>\n",
       "    <tr>\n",
       "      <th>4</th>\n",
       "      <td>department</td>\n",
       "      <td>8.0</td>\n",
       "    </tr>\n",
       "    <tr>\n",
       "      <th>...</th>\n",
       "      <td>...</td>\n",
       "      <td>...</td>\n",
       "    </tr>\n",
       "    <tr>\n",
       "      <th>207</th>\n",
       "      <td>place</td>\n",
       "      <td>1.0</td>\n",
       "    </tr>\n",
       "    <tr>\n",
       "      <th>208</th>\n",
       "      <td>ensure</td>\n",
       "      <td>1.0</td>\n",
       "    </tr>\n",
       "    <tr>\n",
       "      <th>209</th>\n",
       "      <td>seamless</td>\n",
       "      <td>1.0</td>\n",
       "    </tr>\n",
       "    <tr>\n",
       "      <th>210</th>\n",
       "      <td>successful</td>\n",
       "      <td>1.0</td>\n",
       "    </tr>\n",
       "    <tr>\n",
       "      <th>211</th>\n",
       "      <td>especially</td>\n",
       "      <td>1.0</td>\n",
       "    </tr>\n",
       "  </tbody>\n",
       "</table>\n",
       "<p>212 rows × 2 columns</p>\n",
       "</div>"
      ],
      "text/plain": [
       "           Word  TF_IDF Score\n",
       "0          2016           3.0\n",
       "1          2019           2.0\n",
       "2         state           3.0\n",
       "3        forest          13.0\n",
       "4    department           8.0\n",
       "..          ...           ...\n",
       "207       place           1.0\n",
       "208      ensure           1.0\n",
       "209    seamless           1.0\n",
       "210  successful           1.0\n",
       "211  especially           1.0\n",
       "\n",
       "[212 rows x 2 columns]"
      ]
     },
     "execution_count": 36,
     "metadata": {},
     "output_type": "execute_result"
    }
   ],
   "source": [
    "tfidf_df = pd.DataFrame(list(tfidf_scores.items()), columns=[\"Word\", \"TF_IDF Score\"])\n",
    "tfidf_df"
   ]
  }
 ],
 "metadata": {
  "kernelspec": {
   "display_name": ".venv",
   "language": "python",
   "name": "python3"
  },
  "language_info": {
   "codemirror_mode": {
    "name": "ipython",
    "version": 3
   },
   "file_extension": ".py",
   "mimetype": "text/x-python",
   "name": "python",
   "nbconvert_exporter": "python",
   "pygments_lexer": "ipython3",
   "version": "3.13.3"
  }
 },
 "nbformat": 4,
 "nbformat_minor": 5
}
