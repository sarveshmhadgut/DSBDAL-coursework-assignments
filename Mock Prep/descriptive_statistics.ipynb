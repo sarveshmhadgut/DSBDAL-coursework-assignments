{
 "cells": [
  {
   "cell_type": "code",
   "execution_count": 1,
   "id": "57b95cb9",
   "metadata": {},
   "outputs": [],
   "source": [
    "import numpy as np\n",
    "import pandas as pd\n",
    "import matplotlib.pyplot as plt\n",
    "import seaborn as sns"
   ]
  },
  {
   "cell_type": "code",
   "execution_count": 2,
   "id": "05d5ad9c",
   "metadata": {},
   "outputs": [],
   "source": [
    "df_nba = pd.read_csv(\"../datasets/nba.csv\")"
   ]
  },
  {
   "cell_type": "code",
   "execution_count": 3,
   "id": "c5976b5e",
   "metadata": {},
   "outputs": [
    {
     "data": {
      "text/plain": [
       "(458, 9)"
      ]
     },
     "execution_count": 3,
     "metadata": {},
     "output_type": "execute_result"
    }
   ],
   "source": [
    "df_nba.shape"
   ]
  },
  {
   "cell_type": "code",
   "execution_count": 4,
   "id": "7e256654",
   "metadata": {},
   "outputs": [
    {
     "data": {
      "text/plain": [
       "Index(['Name', 'Team', 'Number', 'Position', 'Age', 'Height', 'Weight',\n",
       "       'College', 'Salary'],\n",
       "      dtype='object')"
      ]
     },
     "execution_count": 4,
     "metadata": {},
     "output_type": "execute_result"
    }
   ],
   "source": [
    "df_nba.columns"
   ]
  },
  {
   "cell_type": "code",
   "execution_count": 5,
   "id": "adccf9ba",
   "metadata": {},
   "outputs": [
    {
     "data": {
      "text/plain": [
       "Name         object\n",
       "Team         object\n",
       "Number      float64\n",
       "Position     object\n",
       "Age         float64\n",
       "Height       object\n",
       "Weight      float64\n",
       "College      object\n",
       "Salary      float64\n",
       "dtype: object"
      ]
     },
     "execution_count": 5,
     "metadata": {},
     "output_type": "execute_result"
    }
   ],
   "source": [
    "df_nba.dtypes"
   ]
  },
  {
   "cell_type": "code",
   "execution_count": 6,
   "id": "1f897401",
   "metadata": {},
   "outputs": [
    {
     "data": {
      "application/vnd.microsoft.datawrangler.viewer.v0+json": {
       "columns": [
        {
         "name": "index",
         "rawType": "int64",
         "type": "integer"
        },
        {
         "name": "Name",
         "rawType": "object",
         "type": "string"
        },
        {
         "name": "Team",
         "rawType": "object",
         "type": "string"
        },
        {
         "name": "Number",
         "rawType": "float64",
         "type": "float"
        },
        {
         "name": "Position",
         "rawType": "object",
         "type": "string"
        },
        {
         "name": "Age",
         "rawType": "float64",
         "type": "float"
        },
        {
         "name": "Height",
         "rawType": "object",
         "type": "string"
        },
        {
         "name": "Weight",
         "rawType": "float64",
         "type": "float"
        },
        {
         "name": "College",
         "rawType": "object",
         "type": "unknown"
        },
        {
         "name": "Salary",
         "rawType": "float64",
         "type": "float"
        }
       ],
       "conversionMethod": "pd.DataFrame",
       "ref": "d086ede5-c7ef-4f41-84cc-13a65be92c33",
       "rows": [
        [
         "0",
         "Avery Bradley",
         "Boston Celtics",
         "0.0",
         "PG",
         "25.0",
         "6-2",
         "180.0",
         "Texas",
         "7730337.0"
        ],
        [
         "1",
         "Jae Crowder",
         "Boston Celtics",
         "99.0",
         "SF",
         "25.0",
         "6-6",
         "235.0",
         "Marquette",
         "6796117.0"
        ],
        [
         "2",
         "John Holland",
         "Boston Celtics",
         "30.0",
         "SG",
         "27.0",
         "6-5",
         "205.0",
         "Boston University",
         null
        ],
        [
         "3",
         "R.J. Hunter",
         "Boston Celtics",
         "28.0",
         "SG",
         "22.0",
         "6-5",
         "185.0",
         "Georgia State",
         "1148640.0"
        ],
        [
         "4",
         "Jonas Jerebko",
         "Boston Celtics",
         "8.0",
         "PF",
         "29.0",
         "6-10",
         "231.0",
         null,
         "5000000.0"
        ]
       ],
       "shape": {
        "columns": 9,
        "rows": 5
       }
      },
      "text/html": [
       "<div>\n",
       "<style scoped>\n",
       "    .dataframe tbody tr th:only-of-type {\n",
       "        vertical-align: middle;\n",
       "    }\n",
       "\n",
       "    .dataframe tbody tr th {\n",
       "        vertical-align: top;\n",
       "    }\n",
       "\n",
       "    .dataframe thead th {\n",
       "        text-align: right;\n",
       "    }\n",
       "</style>\n",
       "<table border=\"1\" class=\"dataframe\">\n",
       "  <thead>\n",
       "    <tr style=\"text-align: right;\">\n",
       "      <th></th>\n",
       "      <th>Name</th>\n",
       "      <th>Team</th>\n",
       "      <th>Number</th>\n",
       "      <th>Position</th>\n",
       "      <th>Age</th>\n",
       "      <th>Height</th>\n",
       "      <th>Weight</th>\n",
       "      <th>College</th>\n",
       "      <th>Salary</th>\n",
       "    </tr>\n",
       "  </thead>\n",
       "  <tbody>\n",
       "    <tr>\n",
       "      <th>0</th>\n",
       "      <td>Avery Bradley</td>\n",
       "      <td>Boston Celtics</td>\n",
       "      <td>0.0</td>\n",
       "      <td>PG</td>\n",
       "      <td>25.0</td>\n",
       "      <td>6-2</td>\n",
       "      <td>180.0</td>\n",
       "      <td>Texas</td>\n",
       "      <td>7730337.0</td>\n",
       "    </tr>\n",
       "    <tr>\n",
       "      <th>1</th>\n",
       "      <td>Jae Crowder</td>\n",
       "      <td>Boston Celtics</td>\n",
       "      <td>99.0</td>\n",
       "      <td>SF</td>\n",
       "      <td>25.0</td>\n",
       "      <td>6-6</td>\n",
       "      <td>235.0</td>\n",
       "      <td>Marquette</td>\n",
       "      <td>6796117.0</td>\n",
       "    </tr>\n",
       "    <tr>\n",
       "      <th>2</th>\n",
       "      <td>John Holland</td>\n",
       "      <td>Boston Celtics</td>\n",
       "      <td>30.0</td>\n",
       "      <td>SG</td>\n",
       "      <td>27.0</td>\n",
       "      <td>6-5</td>\n",
       "      <td>205.0</td>\n",
       "      <td>Boston University</td>\n",
       "      <td>NaN</td>\n",
       "    </tr>\n",
       "    <tr>\n",
       "      <th>3</th>\n",
       "      <td>R.J. Hunter</td>\n",
       "      <td>Boston Celtics</td>\n",
       "      <td>28.0</td>\n",
       "      <td>SG</td>\n",
       "      <td>22.0</td>\n",
       "      <td>6-5</td>\n",
       "      <td>185.0</td>\n",
       "      <td>Georgia State</td>\n",
       "      <td>1148640.0</td>\n",
       "    </tr>\n",
       "    <tr>\n",
       "      <th>4</th>\n",
       "      <td>Jonas Jerebko</td>\n",
       "      <td>Boston Celtics</td>\n",
       "      <td>8.0</td>\n",
       "      <td>PF</td>\n",
       "      <td>29.0</td>\n",
       "      <td>6-10</td>\n",
       "      <td>231.0</td>\n",
       "      <td>NaN</td>\n",
       "      <td>5000000.0</td>\n",
       "    </tr>\n",
       "  </tbody>\n",
       "</table>\n",
       "</div>"
      ],
      "text/plain": [
       "            Name            Team  Number Position   Age Height  Weight  \\\n",
       "0  Avery Bradley  Boston Celtics     0.0       PG  25.0    6-2   180.0   \n",
       "1    Jae Crowder  Boston Celtics    99.0       SF  25.0    6-6   235.0   \n",
       "2   John Holland  Boston Celtics    30.0       SG  27.0    6-5   205.0   \n",
       "3    R.J. Hunter  Boston Celtics    28.0       SG  22.0    6-5   185.0   \n",
       "4  Jonas Jerebko  Boston Celtics     8.0       PF  29.0   6-10   231.0   \n",
       "\n",
       "             College     Salary  \n",
       "0              Texas  7730337.0  \n",
       "1          Marquette  6796117.0  \n",
       "2  Boston University        NaN  \n",
       "3      Georgia State  1148640.0  \n",
       "4                NaN  5000000.0  "
      ]
     },
     "execution_count": 6,
     "metadata": {},
     "output_type": "execute_result"
    }
   ],
   "source": [
    "df_nba.head()"
   ]
  },
  {
   "cell_type": "code",
   "execution_count": 7,
   "id": "ddcef71a",
   "metadata": {},
   "outputs": [
    {
     "name": "stdout",
     "output_type": "stream",
     "text": [
      "<class 'pandas.core.frame.DataFrame'>\n",
      "RangeIndex: 458 entries, 0 to 457\n",
      "Data columns (total 9 columns):\n",
      " #   Column    Non-Null Count  Dtype  \n",
      "---  ------    --------------  -----  \n",
      " 0   Name      457 non-null    object \n",
      " 1   Team      457 non-null    object \n",
      " 2   Number    457 non-null    float64\n",
      " 3   Position  457 non-null    object \n",
      " 4   Age       457 non-null    float64\n",
      " 5   Height    457 non-null    object \n",
      " 6   Weight    457 non-null    float64\n",
      " 7   College   373 non-null    object \n",
      " 8   Salary    446 non-null    float64\n",
      "dtypes: float64(4), object(5)\n",
      "memory usage: 32.3+ KB\n"
     ]
    }
   ],
   "source": [
    "df_nba.info()"
   ]
  },
  {
   "cell_type": "code",
   "execution_count": 8,
   "id": "e3c53eb3",
   "metadata": {},
   "outputs": [
    {
     "data": {
      "application/vnd.microsoft.datawrangler.viewer.v0+json": {
       "columns": [
        {
         "name": "index",
         "rawType": "object",
         "type": "string"
        },
        {
         "name": "Number",
         "rawType": "float64",
         "type": "float"
        },
        {
         "name": "Age",
         "rawType": "float64",
         "type": "float"
        },
        {
         "name": "Weight",
         "rawType": "float64",
         "type": "float"
        },
        {
         "name": "Salary",
         "rawType": "float64",
         "type": "float"
        }
       ],
       "conversionMethod": "pd.DataFrame",
       "ref": "faa83193-1d37-4ea3-92c8-58e3c0b82fda",
       "rows": [
        [
         "count",
         "457.0",
         "457.0",
         "457.0",
         "446.0"
        ],
        [
         "mean",
         "17.678336980306344",
         "26.938730853391686",
         "221.52297592997812",
         "4842684.105381166"
        ],
        [
         "std",
         "15.966090405679644",
         "4.404016424405833",
         "26.36834262669547",
         "5229237.598910348"
        ],
        [
         "min",
         "0.0",
         "19.0",
         "161.0",
         "30888.0"
        ],
        [
         "25%",
         "5.0",
         "24.0",
         "200.0",
         "1044792.25"
        ],
        [
         "50%",
         "13.0",
         "26.0",
         "220.0",
         "2839073.0"
        ],
        [
         "75%",
         "25.0",
         "30.0",
         "240.0",
         "6500000.0"
        ],
        [
         "max",
         "99.0",
         "40.0",
         "307.0",
         "25000000.0"
        ]
       ],
       "shape": {
        "columns": 4,
        "rows": 8
       }
      },
      "text/html": [
       "<div>\n",
       "<style scoped>\n",
       "    .dataframe tbody tr th:only-of-type {\n",
       "        vertical-align: middle;\n",
       "    }\n",
       "\n",
       "    .dataframe tbody tr th {\n",
       "        vertical-align: top;\n",
       "    }\n",
       "\n",
       "    .dataframe thead th {\n",
       "        text-align: right;\n",
       "    }\n",
       "</style>\n",
       "<table border=\"1\" class=\"dataframe\">\n",
       "  <thead>\n",
       "    <tr style=\"text-align: right;\">\n",
       "      <th></th>\n",
       "      <th>Number</th>\n",
       "      <th>Age</th>\n",
       "      <th>Weight</th>\n",
       "      <th>Salary</th>\n",
       "    </tr>\n",
       "  </thead>\n",
       "  <tbody>\n",
       "    <tr>\n",
       "      <th>count</th>\n",
       "      <td>457.000000</td>\n",
       "      <td>457.000000</td>\n",
       "      <td>457.000000</td>\n",
       "      <td>4.460000e+02</td>\n",
       "    </tr>\n",
       "    <tr>\n",
       "      <th>mean</th>\n",
       "      <td>17.678337</td>\n",
       "      <td>26.938731</td>\n",
       "      <td>221.522976</td>\n",
       "      <td>4.842684e+06</td>\n",
       "    </tr>\n",
       "    <tr>\n",
       "      <th>std</th>\n",
       "      <td>15.966090</td>\n",
       "      <td>4.404016</td>\n",
       "      <td>26.368343</td>\n",
       "      <td>5.229238e+06</td>\n",
       "    </tr>\n",
       "    <tr>\n",
       "      <th>min</th>\n",
       "      <td>0.000000</td>\n",
       "      <td>19.000000</td>\n",
       "      <td>161.000000</td>\n",
       "      <td>3.088800e+04</td>\n",
       "    </tr>\n",
       "    <tr>\n",
       "      <th>25%</th>\n",
       "      <td>5.000000</td>\n",
       "      <td>24.000000</td>\n",
       "      <td>200.000000</td>\n",
       "      <td>1.044792e+06</td>\n",
       "    </tr>\n",
       "    <tr>\n",
       "      <th>50%</th>\n",
       "      <td>13.000000</td>\n",
       "      <td>26.000000</td>\n",
       "      <td>220.000000</td>\n",
       "      <td>2.839073e+06</td>\n",
       "    </tr>\n",
       "    <tr>\n",
       "      <th>75%</th>\n",
       "      <td>25.000000</td>\n",
       "      <td>30.000000</td>\n",
       "      <td>240.000000</td>\n",
       "      <td>6.500000e+06</td>\n",
       "    </tr>\n",
       "    <tr>\n",
       "      <th>max</th>\n",
       "      <td>99.000000</td>\n",
       "      <td>40.000000</td>\n",
       "      <td>307.000000</td>\n",
       "      <td>2.500000e+07</td>\n",
       "    </tr>\n",
       "  </tbody>\n",
       "</table>\n",
       "</div>"
      ],
      "text/plain": [
       "           Number         Age      Weight        Salary\n",
       "count  457.000000  457.000000  457.000000  4.460000e+02\n",
       "mean    17.678337   26.938731  221.522976  4.842684e+06\n",
       "std     15.966090    4.404016   26.368343  5.229238e+06\n",
       "min      0.000000   19.000000  161.000000  3.088800e+04\n",
       "25%      5.000000   24.000000  200.000000  1.044792e+06\n",
       "50%     13.000000   26.000000  220.000000  2.839073e+06\n",
       "75%     25.000000   30.000000  240.000000  6.500000e+06\n",
       "max     99.000000   40.000000  307.000000  2.500000e+07"
      ]
     },
     "execution_count": 8,
     "metadata": {},
     "output_type": "execute_result"
    }
   ],
   "source": [
    "df_nba.describe()"
   ]
  },
  {
   "cell_type": "code",
   "execution_count": 9,
   "id": "1fe7c55e",
   "metadata": {},
   "outputs": [
    {
     "data": {
      "text/plain": [
       "Name         1\n",
       "Team         1\n",
       "Number       1\n",
       "Position     1\n",
       "Age          1\n",
       "Height       1\n",
       "Weight       1\n",
       "College     85\n",
       "Salary      12\n",
       "dtype: int64"
      ]
     },
     "execution_count": 9,
     "metadata": {},
     "output_type": "execute_result"
    }
   ],
   "source": [
    "df_nba.isnull().sum()"
   ]
  },
  {
   "cell_type": "code",
   "execution_count": 10,
   "id": "74cc0b69",
   "metadata": {},
   "outputs": [],
   "source": [
    "df_nba.dropna(subset=[\"Name\"], inplace=True)"
   ]
  },
  {
   "cell_type": "code",
   "execution_count": 11,
   "id": "c7c03ce0",
   "metadata": {},
   "outputs": [
    {
     "data": {
      "text/plain": [
       "Name         0\n",
       "Team         0\n",
       "Number       0\n",
       "Position     0\n",
       "Age          0\n",
       "Height       0\n",
       "Weight       0\n",
       "College     84\n",
       "Salary      11\n",
       "dtype: int64"
      ]
     },
     "execution_count": 11,
     "metadata": {},
     "output_type": "execute_result"
    }
   ],
   "source": [
    "df_nba.isnull().sum()"
   ]
  },
  {
   "cell_type": "code",
   "execution_count": 12,
   "id": "196aff96",
   "metadata": {},
   "outputs": [],
   "source": [
    "mean = np.mean(df_nba[\"Salary\"])\n",
    "df_nba[\"Salary\"] = df_nba[\"Salary\"].fillna(mean).astype(int)"
   ]
  },
  {
   "cell_type": "code",
   "execution_count": 13,
   "id": "a4dfe57b",
   "metadata": {},
   "outputs": [
    {
     "data": {
      "text/plain": [
       "Name         0\n",
       "Team         0\n",
       "Number       0\n",
       "Position     0\n",
       "Age          0\n",
       "Height       0\n",
       "Weight       0\n",
       "College     84\n",
       "Salary       0\n",
       "dtype: int64"
      ]
     },
     "execution_count": 13,
     "metadata": {},
     "output_type": "execute_result"
    }
   ],
   "source": [
    "df_nba.isnull().sum()"
   ]
  },
  {
   "cell_type": "code",
   "execution_count": 14,
   "id": "0b86e818",
   "metadata": {},
   "outputs": [],
   "source": [
    "df_nba[\"College\"] = df_nba[\"College\"].ffill()"
   ]
  },
  {
   "cell_type": "code",
   "execution_count": 15,
   "id": "9bc781ec",
   "metadata": {},
   "outputs": [
    {
     "data": {
      "text/plain": [
       "Name        0\n",
       "Team        0\n",
       "Number      0\n",
       "Position    0\n",
       "Age         0\n",
       "Height      0\n",
       "Weight      0\n",
       "College     0\n",
       "Salary      0\n",
       "dtype: int64"
      ]
     },
     "execution_count": 15,
     "metadata": {},
     "output_type": "execute_result"
    }
   ],
   "source": [
    "df_nba.isnull().sum()"
   ]
  },
  {
   "cell_type": "code",
   "execution_count": 16,
   "id": "32b458a1",
   "metadata": {},
   "outputs": [
    {
     "data": {
      "text/plain": [
       "0       6-2\n",
       "1       6-6\n",
       "2       6-5\n",
       "3       6-5\n",
       "4      6-10\n",
       "       ... \n",
       "452    6-10\n",
       "453     6-3\n",
       "454     6-1\n",
       "455     7-3\n",
       "456     7-0\n",
       "Name: Height, Length: 457, dtype: object"
      ]
     },
     "execution_count": 16,
     "metadata": {},
     "output_type": "execute_result"
    }
   ],
   "source": [
    "df_nba[\"Height\"]"
   ]
  },
  {
   "cell_type": "code",
   "execution_count": 17,
   "id": "8dd533c3",
   "metadata": {},
   "outputs": [],
   "source": [
    "def convert_to_cm(height):\n",
    "    if pd.isnull(height):\n",
    "        return np.nan\n",
    "    feet, inch = height.split(\"-\")\n",
    "    return int(int(feet) * 30.48 + int(inch) * 2.54)"
   ]
  },
  {
   "cell_type": "code",
   "execution_count": 18,
   "id": "4ee41de6",
   "metadata": {},
   "outputs": [],
   "source": [
    "df_nba[\"Height\"] = df_nba[\"Height\"].apply(convert_to_cm)"
   ]
  },
  {
   "cell_type": "code",
   "execution_count": 19,
   "id": "8265d059",
   "metadata": {},
   "outputs": [
    {
     "data": {
      "text/plain": [
       "0      187\n",
       "1      198\n",
       "2      195\n",
       "3      195\n",
       "4      208\n",
       "      ... \n",
       "452    208\n",
       "453    190\n",
       "454    185\n",
       "455    220\n",
       "456    213\n",
       "Name: Height, Length: 457, dtype: int64"
      ]
     },
     "execution_count": 19,
     "metadata": {},
     "output_type": "execute_result"
    }
   ],
   "source": [
    "df_nba[\"Height\"]"
   ]
  },
  {
   "cell_type": "code",
   "execution_count": 20,
   "id": "61b31c72",
   "metadata": {},
   "outputs": [],
   "source": [
    "numeric_cols = df_nba.select_dtypes(include=[\"float64\"]).columns\n",
    "for col in numeric_cols:\n",
    "    df_nba[col] = df_nba[col].astype(int)"
   ]
  },
  {
   "cell_type": "code",
   "execution_count": 21,
   "id": "15529ed7",
   "metadata": {},
   "outputs": [
    {
     "data": {
      "text/plain": [
       "Name        object\n",
       "Team        object\n",
       "Number       int64\n",
       "Position    object\n",
       "Age          int64\n",
       "Height       int64\n",
       "Weight       int64\n",
       "College     object\n",
       "Salary       int64\n",
       "dtype: object"
      ]
     },
     "execution_count": 21,
     "metadata": {},
     "output_type": "execute_result"
    }
   ],
   "source": [
    "df_nba.dtypes"
   ]
  },
  {
   "cell_type": "code",
   "execution_count": 22,
   "id": "6e4bc614",
   "metadata": {},
   "outputs": [],
   "source": [
    "object_cols = df_nba.select_dtypes(include=[\"object\"]).columns\n",
    "for col in object_cols:\n",
    "    df_nba[col] = df_nba[col].astype(\"category\")"
   ]
  },
  {
   "cell_type": "code",
   "execution_count": 23,
   "id": "c45909aa",
   "metadata": {},
   "outputs": [
    {
     "data": {
      "text/plain": [
       "Name        category\n",
       "Team        category\n",
       "Number         int64\n",
       "Position    category\n",
       "Age            int64\n",
       "Height         int64\n",
       "Weight         int64\n",
       "College     category\n",
       "Salary         int64\n",
       "dtype: object"
      ]
     },
     "execution_count": 23,
     "metadata": {},
     "output_type": "execute_result"
    }
   ],
   "source": [
    "df_nba.dtypes"
   ]
  },
  {
   "cell_type": "code",
   "execution_count": 24,
   "id": "38a23090",
   "metadata": {},
   "outputs": [],
   "source": [
    "# df_nba = pd.get_dummies(\n",
    "#     df_nba,\n",
    "#     columns=object_cols,\n",
    "# ).astype(int)"
   ]
  },
  {
   "cell_type": "code",
   "execution_count": 25,
   "id": "2f9bd871",
   "metadata": {},
   "outputs": [
    {
     "data": {
      "application/vnd.microsoft.datawrangler.viewer.v0+json": {
       "columns": [
        {
         "name": "index",
         "rawType": "int64",
         "type": "integer"
        },
        {
         "name": "Name",
         "rawType": "category",
         "type": "unknown"
        },
        {
         "name": "Team",
         "rawType": "category",
         "type": "unknown"
        },
        {
         "name": "Number",
         "rawType": "int64",
         "type": "integer"
        },
        {
         "name": "Position",
         "rawType": "category",
         "type": "unknown"
        },
        {
         "name": "Age",
         "rawType": "int64",
         "type": "integer"
        },
        {
         "name": "Height",
         "rawType": "int64",
         "type": "integer"
        },
        {
         "name": "Weight",
         "rawType": "int64",
         "type": "integer"
        },
        {
         "name": "College",
         "rawType": "category",
         "type": "unknown"
        },
        {
         "name": "Salary",
         "rawType": "int64",
         "type": "integer"
        }
       ],
       "conversionMethod": "pd.DataFrame",
       "ref": "a03c328e-5e62-437b-aa26-b5ca6e9746ef",
       "rows": [
        [
         "0",
         "Avery Bradley",
         "Boston Celtics",
         "0",
         "PG",
         "25",
         "187",
         "180",
         "Texas",
         "7730337"
        ],
        [
         "1",
         "Jae Crowder",
         "Boston Celtics",
         "99",
         "SF",
         "25",
         "198",
         "235",
         "Marquette",
         "6796117"
        ],
        [
         "2",
         "John Holland",
         "Boston Celtics",
         "30",
         "SG",
         "27",
         "195",
         "205",
         "Boston University",
         "4842684"
        ],
        [
         "3",
         "R.J. Hunter",
         "Boston Celtics",
         "28",
         "SG",
         "22",
         "195",
         "185",
         "Georgia State",
         "1148640"
        ],
        [
         "4",
         "Jonas Jerebko",
         "Boston Celtics",
         "8",
         "PF",
         "29",
         "208",
         "231",
         "Georgia State",
         "5000000"
        ],
        [
         "5",
         "Amir Johnson",
         "Boston Celtics",
         "90",
         "PF",
         "29",
         "205",
         "240",
         "Georgia State",
         "12000000"
        ],
        [
         "6",
         "Jordan Mickey",
         "Boston Celtics",
         "55",
         "PF",
         "21",
         "203",
         "235",
         "LSU",
         "1170960"
        ],
        [
         "7",
         "Kelly Olynyk",
         "Boston Celtics",
         "41",
         "C",
         "25",
         "213",
         "238",
         "Gonzaga",
         "2165160"
        ],
        [
         "8",
         "Terry Rozier",
         "Boston Celtics",
         "12",
         "PG",
         "22",
         "187",
         "190",
         "Louisville",
         "1824360"
        ],
        [
         "9",
         "Marcus Smart",
         "Boston Celtics",
         "36",
         "PG",
         "22",
         "193",
         "220",
         "Oklahoma State",
         "3431040"
        ],
        [
         "10",
         "Jared Sullinger",
         "Boston Celtics",
         "7",
         "C",
         "24",
         "205",
         "260",
         "Ohio State",
         "2569260"
        ],
        [
         "11",
         "Isaiah Thomas",
         "Boston Celtics",
         "4",
         "PG",
         "27",
         "175",
         "185",
         "Washington",
         "6912869"
        ],
        [
         "12",
         "Evan Turner",
         "Boston Celtics",
         "11",
         "SG",
         "27",
         "200",
         "220",
         "Ohio State",
         "3425510"
        ],
        [
         "13",
         "James Young",
         "Boston Celtics",
         "13",
         "SG",
         "20",
         "198",
         "215",
         "Kentucky",
         "1749840"
        ],
        [
         "14",
         "Tyler Zeller",
         "Boston Celtics",
         "44",
         "C",
         "26",
         "213",
         "253",
         "North Carolina",
         "2616975"
        ],
        [
         "15",
         "Bojan Bogdanovic",
         "Brooklyn Nets",
         "44",
         "SG",
         "27",
         "203",
         "216",
         "North Carolina",
         "3425510"
        ],
        [
         "16",
         "Markel Brown",
         "Brooklyn Nets",
         "22",
         "SG",
         "24",
         "190",
         "190",
         "Oklahoma State",
         "845059"
        ],
        [
         "17",
         "Wayne Ellington",
         "Brooklyn Nets",
         "21",
         "SG",
         "28",
         "193",
         "200",
         "North Carolina",
         "1500000"
        ],
        [
         "18",
         "Rondae Hollis-Jefferson",
         "Brooklyn Nets",
         "24",
         "SG",
         "21",
         "200",
         "220",
         "Arizona",
         "1335480"
        ],
        [
         "19",
         "Jarrett Jack",
         "Brooklyn Nets",
         "2",
         "PG",
         "32",
         "190",
         "200",
         "Georgia Tech",
         "6300000"
        ],
        [
         "20",
         "Sergey Karasev",
         "Brooklyn Nets",
         "10",
         "SG",
         "22",
         "200",
         "208",
         "Georgia Tech",
         "1599840"
        ],
        [
         "21",
         "Sean Kilpatrick",
         "Brooklyn Nets",
         "6",
         "SG",
         "26",
         "193",
         "219",
         "Cincinnati",
         "134215"
        ],
        [
         "22",
         "Shane Larkin",
         "Brooklyn Nets",
         "0",
         "PG",
         "23",
         "180",
         "175",
         "Miami (FL)",
         "1500000"
        ],
        [
         "23",
         "Brook Lopez",
         "Brooklyn Nets",
         "11",
         "C",
         "28",
         "213",
         "275",
         "Stanford",
         "19689000"
        ],
        [
         "24",
         "Chris McCullough",
         "Brooklyn Nets",
         "1",
         "PF",
         "21",
         "210",
         "200",
         "Syracuse",
         "1140240"
        ],
        [
         "25",
         "Willie Reed",
         "Brooklyn Nets",
         "33",
         "PF",
         "26",
         "208",
         "220",
         "Saint Louis",
         "947276"
        ],
        [
         "26",
         "Thomas Robinson",
         "Brooklyn Nets",
         "41",
         "PF",
         "25",
         "208",
         "237",
         "Kansas",
         "981348"
        ],
        [
         "27",
         "Henry Sims",
         "Brooklyn Nets",
         "14",
         "C",
         "26",
         "208",
         "248",
         "Georgetown",
         "947276"
        ],
        [
         "28",
         "Donald Sloan",
         "Brooklyn Nets",
         "15",
         "PG",
         "28",
         "190",
         "205",
         "Texas A&M",
         "947276"
        ],
        [
         "29",
         "Thaddeus Young",
         "Brooklyn Nets",
         "30",
         "PF",
         "27",
         "203",
         "221",
         "Georgia Tech",
         "11235955"
        ],
        [
         "30",
         "Arron Afflalo",
         "New York Knicks",
         "4",
         "SG",
         "30",
         "195",
         "210",
         "UCLA",
         "8000000"
        ],
        [
         "31",
         "Lou Amundson",
         "New York Knicks",
         "17",
         "PF",
         "33",
         "205",
         "220",
         "UNLV",
         "1635476"
        ],
        [
         "32",
         "Thanasis Antetokounmpo",
         "New York Knicks",
         "43",
         "SF",
         "23",
         "200",
         "205",
         "UNLV",
         "30888"
        ],
        [
         "33",
         "Carmelo Anthony",
         "New York Knicks",
         "7",
         "SF",
         "32",
         "203",
         "240",
         "Syracuse",
         "22875000"
        ],
        [
         "34",
         "Jose Calderon",
         "New York Knicks",
         "3",
         "PG",
         "34",
         "190",
         "200",
         "Syracuse",
         "7402812"
        ],
        [
         "35",
         "Cleanthony Early",
         "New York Knicks",
         "11",
         "SF",
         "25",
         "203",
         "210",
         "Wichita State",
         "845059"
        ],
        [
         "36",
         "Langston Galloway",
         "New York Knicks",
         "2",
         "SG",
         "24",
         "187",
         "200",
         "Saint Joseph's",
         "845059"
        ],
        [
         "37",
         "Jerian Grant",
         "New York Knicks",
         "13",
         "PG",
         "23",
         "193",
         "195",
         "Notre Dame",
         "1572360"
        ],
        [
         "38",
         "Robin Lopez",
         "New York Knicks",
         "8",
         "C",
         "28",
         "213",
         "255",
         "Stanford",
         "12650000"
        ],
        [
         "39",
         "Kyle O'Quinn",
         "New York Knicks",
         "9",
         "PF",
         "26",
         "208",
         "250",
         "Norfolk State",
         "3750000"
        ],
        [
         "40",
         "Kristaps Porzingis",
         "New York Knicks",
         "6",
         "PF",
         "20",
         "220",
         "240",
         "Norfolk State",
         "4131720"
        ],
        [
         "41",
         "Kevin Seraphin",
         "New York Knicks",
         "1",
         "C",
         "26",
         "208",
         "278",
         "Norfolk State",
         "2814000"
        ],
        [
         "42",
         "Lance Thomas",
         "New York Knicks",
         "42",
         "SF",
         "28",
         "203",
         "235",
         "Duke",
         "1636842"
        ],
        [
         "43",
         "Sasha Vujacic",
         "New York Knicks",
         "18",
         "SG",
         "32",
         "200",
         "195",
         "Duke",
         "947276"
        ],
        [
         "44",
         "Derrick Williams",
         "New York Knicks",
         "23",
         "PF",
         "25",
         "203",
         "240",
         "Arizona",
         "4000000"
        ],
        [
         "45",
         "Tony Wroten",
         "New York Knicks",
         "5",
         "SG",
         "23",
         "198",
         "205",
         "Washington",
         "167406"
        ],
        [
         "46",
         "Elton Brand",
         "Philadelphia 76ers",
         "42",
         "PF",
         "37",
         "205",
         "254",
         "Duke",
         "4842684"
        ],
        [
         "47",
         "Isaiah Canaan",
         "Philadelphia 76ers",
         "0",
         "PG",
         "25",
         "182",
         "201",
         "Murray State",
         "947276"
        ],
        [
         "48",
         "Robert Covington",
         "Philadelphia 76ers",
         "33",
         "SF",
         "25",
         "205",
         "215",
         "Tennessee State",
         "1000000"
        ],
        [
         "49",
         "Joel Embiid",
         "Philadelphia 76ers",
         "21",
         "C",
         "22",
         "213",
         "250",
         "Kansas",
         "4626960"
        ]
       ],
       "shape": {
        "columns": 9,
        "rows": 457
       }
      },
      "text/html": [
       "<div>\n",
       "<style scoped>\n",
       "    .dataframe tbody tr th:only-of-type {\n",
       "        vertical-align: middle;\n",
       "    }\n",
       "\n",
       "    .dataframe tbody tr th {\n",
       "        vertical-align: top;\n",
       "    }\n",
       "\n",
       "    .dataframe thead th {\n",
       "        text-align: right;\n",
       "    }\n",
       "</style>\n",
       "<table border=\"1\" class=\"dataframe\">\n",
       "  <thead>\n",
       "    <tr style=\"text-align: right;\">\n",
       "      <th></th>\n",
       "      <th>Name</th>\n",
       "      <th>Team</th>\n",
       "      <th>Number</th>\n",
       "      <th>Position</th>\n",
       "      <th>Age</th>\n",
       "      <th>Height</th>\n",
       "      <th>Weight</th>\n",
       "      <th>College</th>\n",
       "      <th>Salary</th>\n",
       "    </tr>\n",
       "  </thead>\n",
       "  <tbody>\n",
       "    <tr>\n",
       "      <th>0</th>\n",
       "      <td>Avery Bradley</td>\n",
       "      <td>Boston Celtics</td>\n",
       "      <td>0</td>\n",
       "      <td>PG</td>\n",
       "      <td>25</td>\n",
       "      <td>187</td>\n",
       "      <td>180</td>\n",
       "      <td>Texas</td>\n",
       "      <td>7730337</td>\n",
       "    </tr>\n",
       "    <tr>\n",
       "      <th>1</th>\n",
       "      <td>Jae Crowder</td>\n",
       "      <td>Boston Celtics</td>\n",
       "      <td>99</td>\n",
       "      <td>SF</td>\n",
       "      <td>25</td>\n",
       "      <td>198</td>\n",
       "      <td>235</td>\n",
       "      <td>Marquette</td>\n",
       "      <td>6796117</td>\n",
       "    </tr>\n",
       "    <tr>\n",
       "      <th>2</th>\n",
       "      <td>John Holland</td>\n",
       "      <td>Boston Celtics</td>\n",
       "      <td>30</td>\n",
       "      <td>SG</td>\n",
       "      <td>27</td>\n",
       "      <td>195</td>\n",
       "      <td>205</td>\n",
       "      <td>Boston University</td>\n",
       "      <td>4842684</td>\n",
       "    </tr>\n",
       "    <tr>\n",
       "      <th>3</th>\n",
       "      <td>R.J. Hunter</td>\n",
       "      <td>Boston Celtics</td>\n",
       "      <td>28</td>\n",
       "      <td>SG</td>\n",
       "      <td>22</td>\n",
       "      <td>195</td>\n",
       "      <td>185</td>\n",
       "      <td>Georgia State</td>\n",
       "      <td>1148640</td>\n",
       "    </tr>\n",
       "    <tr>\n",
       "      <th>4</th>\n",
       "      <td>Jonas Jerebko</td>\n",
       "      <td>Boston Celtics</td>\n",
       "      <td>8</td>\n",
       "      <td>PF</td>\n",
       "      <td>29</td>\n",
       "      <td>208</td>\n",
       "      <td>231</td>\n",
       "      <td>Georgia State</td>\n",
       "      <td>5000000</td>\n",
       "    </tr>\n",
       "    <tr>\n",
       "      <th>...</th>\n",
       "      <td>...</td>\n",
       "      <td>...</td>\n",
       "      <td>...</td>\n",
       "      <td>...</td>\n",
       "      <td>...</td>\n",
       "      <td>...</td>\n",
       "      <td>...</td>\n",
       "      <td>...</td>\n",
       "      <td>...</td>\n",
       "    </tr>\n",
       "    <tr>\n",
       "      <th>452</th>\n",
       "      <td>Trey Lyles</td>\n",
       "      <td>Utah Jazz</td>\n",
       "      <td>41</td>\n",
       "      <td>PF</td>\n",
       "      <td>20</td>\n",
       "      <td>208</td>\n",
       "      <td>234</td>\n",
       "      <td>Kentucky</td>\n",
       "      <td>2239800</td>\n",
       "    </tr>\n",
       "    <tr>\n",
       "      <th>453</th>\n",
       "      <td>Shelvin Mack</td>\n",
       "      <td>Utah Jazz</td>\n",
       "      <td>8</td>\n",
       "      <td>PG</td>\n",
       "      <td>26</td>\n",
       "      <td>190</td>\n",
       "      <td>203</td>\n",
       "      <td>Butler</td>\n",
       "      <td>2433333</td>\n",
       "    </tr>\n",
       "    <tr>\n",
       "      <th>454</th>\n",
       "      <td>Raul Neto</td>\n",
       "      <td>Utah Jazz</td>\n",
       "      <td>25</td>\n",
       "      <td>PG</td>\n",
       "      <td>24</td>\n",
       "      <td>185</td>\n",
       "      <td>179</td>\n",
       "      <td>Butler</td>\n",
       "      <td>900000</td>\n",
       "    </tr>\n",
       "    <tr>\n",
       "      <th>455</th>\n",
       "      <td>Tibor Pleiss</td>\n",
       "      <td>Utah Jazz</td>\n",
       "      <td>21</td>\n",
       "      <td>C</td>\n",
       "      <td>26</td>\n",
       "      <td>220</td>\n",
       "      <td>256</td>\n",
       "      <td>Butler</td>\n",
       "      <td>2900000</td>\n",
       "    </tr>\n",
       "    <tr>\n",
       "      <th>456</th>\n",
       "      <td>Jeff Withey</td>\n",
       "      <td>Utah Jazz</td>\n",
       "      <td>24</td>\n",
       "      <td>C</td>\n",
       "      <td>26</td>\n",
       "      <td>213</td>\n",
       "      <td>231</td>\n",
       "      <td>Kansas</td>\n",
       "      <td>947276</td>\n",
       "    </tr>\n",
       "  </tbody>\n",
       "</table>\n",
       "<p>457 rows × 9 columns</p>\n",
       "</div>"
      ],
      "text/plain": [
       "              Name            Team  Number Position  Age  Height  Weight  \\\n",
       "0    Avery Bradley  Boston Celtics       0       PG   25     187     180   \n",
       "1      Jae Crowder  Boston Celtics      99       SF   25     198     235   \n",
       "2     John Holland  Boston Celtics      30       SG   27     195     205   \n",
       "3      R.J. Hunter  Boston Celtics      28       SG   22     195     185   \n",
       "4    Jonas Jerebko  Boston Celtics       8       PF   29     208     231   \n",
       "..             ...             ...     ...      ...  ...     ...     ...   \n",
       "452     Trey Lyles       Utah Jazz      41       PF   20     208     234   \n",
       "453   Shelvin Mack       Utah Jazz       8       PG   26     190     203   \n",
       "454      Raul Neto       Utah Jazz      25       PG   24     185     179   \n",
       "455   Tibor Pleiss       Utah Jazz      21        C   26     220     256   \n",
       "456    Jeff Withey       Utah Jazz      24        C   26     213     231   \n",
       "\n",
       "               College   Salary  \n",
       "0                Texas  7730337  \n",
       "1            Marquette  6796117  \n",
       "2    Boston University  4842684  \n",
       "3        Georgia State  1148640  \n",
       "4        Georgia State  5000000  \n",
       "..                 ...      ...  \n",
       "452           Kentucky  2239800  \n",
       "453             Butler  2433333  \n",
       "454             Butler   900000  \n",
       "455             Butler  2900000  \n",
       "456             Kansas   947276  \n",
       "\n",
       "[457 rows x 9 columns]"
      ]
     },
     "execution_count": 25,
     "metadata": {},
     "output_type": "execute_result"
    }
   ],
   "source": [
    "df_nba"
   ]
  },
  {
   "cell_type": "code",
   "execution_count": 26,
   "id": "725930d7",
   "metadata": {},
   "outputs": [
    {
     "name": "stdout",
     "output_type": "stream",
     "text": [
      "['Name', 'Team', 'Number', 'Position', 'Age', 'Height', 'Weight', 'College', 'Salary']\n"
     ]
    }
   ],
   "source": [
    "print(list(df_nba.columns))"
   ]
  },
  {
   "cell_type": "code",
   "execution_count": 46,
   "id": "a1e8aacb",
   "metadata": {},
   "outputs": [
    {
     "data": {
      "application/vnd.microsoft.datawrangler.viewer.v0+json": {
       "columns": [
        {
         "name": "index",
         "rawType": "int64",
         "type": "integer"
        },
        {
         "name": "Age",
         "rawType": "int64",
         "type": "integer"
        },
        {
         "name": "count",
         "rawType": "int64",
         "type": "integer"
        }
       ],
       "conversionMethod": "pd.DataFrame",
       "ref": "243e8827-095a-40f8-a1df-5e802b19ca91",
       "rows": [
        [
         "0",
         "24",
         "47"
        ],
        [
         "1",
         "25",
         "45"
        ],
        [
         "2",
         "27",
         "41"
        ],
        [
         "3",
         "23",
         "41"
        ],
        [
         "4",
         "26",
         "36"
        ],
        [
         "5",
         "28",
         "31"
        ],
        [
         "6",
         "30",
         "31"
        ],
        [
         "7",
         "29",
         "28"
        ],
        [
         "8",
         "22",
         "26"
        ],
        [
         "9",
         "31",
         "22"
        ],
        [
         "10",
         "20",
         "19"
        ],
        [
         "11",
         "21",
         "19"
        ],
        [
         "12",
         "33",
         "14"
        ],
        [
         "13",
         "32",
         "13"
        ],
        [
         "14",
         "34",
         "10"
        ],
        [
         "15",
         "36",
         "10"
        ],
        [
         "16",
         "35",
         "9"
        ],
        [
         "17",
         "37",
         "4"
        ],
        [
         "18",
         "38",
         "4"
        ],
        [
         "19",
         "40",
         "3"
        ],
        [
         "20",
         "39",
         "2"
        ],
        [
         "21",
         "19",
         "2"
        ]
       ],
       "shape": {
        "columns": 2,
        "rows": 22
       }
      },
      "text/html": [
       "<div>\n",
       "<style scoped>\n",
       "    .dataframe tbody tr th:only-of-type {\n",
       "        vertical-align: middle;\n",
       "    }\n",
       "\n",
       "    .dataframe tbody tr th {\n",
       "        vertical-align: top;\n",
       "    }\n",
       "\n",
       "    .dataframe thead th {\n",
       "        text-align: right;\n",
       "    }\n",
       "</style>\n",
       "<table border=\"1\" class=\"dataframe\">\n",
       "  <thead>\n",
       "    <tr style=\"text-align: right;\">\n",
       "      <th></th>\n",
       "      <th>Age</th>\n",
       "      <th>count</th>\n",
       "    </tr>\n",
       "  </thead>\n",
       "  <tbody>\n",
       "    <tr>\n",
       "      <th>0</th>\n",
       "      <td>24</td>\n",
       "      <td>47</td>\n",
       "    </tr>\n",
       "    <tr>\n",
       "      <th>1</th>\n",
       "      <td>25</td>\n",
       "      <td>45</td>\n",
       "    </tr>\n",
       "    <tr>\n",
       "      <th>2</th>\n",
       "      <td>27</td>\n",
       "      <td>41</td>\n",
       "    </tr>\n",
       "    <tr>\n",
       "      <th>3</th>\n",
       "      <td>23</td>\n",
       "      <td>41</td>\n",
       "    </tr>\n",
       "    <tr>\n",
       "      <th>4</th>\n",
       "      <td>26</td>\n",
       "      <td>36</td>\n",
       "    </tr>\n",
       "    <tr>\n",
       "      <th>5</th>\n",
       "      <td>28</td>\n",
       "      <td>31</td>\n",
       "    </tr>\n",
       "    <tr>\n",
       "      <th>6</th>\n",
       "      <td>30</td>\n",
       "      <td>31</td>\n",
       "    </tr>\n",
       "    <tr>\n",
       "      <th>7</th>\n",
       "      <td>29</td>\n",
       "      <td>28</td>\n",
       "    </tr>\n",
       "    <tr>\n",
       "      <th>8</th>\n",
       "      <td>22</td>\n",
       "      <td>26</td>\n",
       "    </tr>\n",
       "    <tr>\n",
       "      <th>9</th>\n",
       "      <td>31</td>\n",
       "      <td>22</td>\n",
       "    </tr>\n",
       "    <tr>\n",
       "      <th>10</th>\n",
       "      <td>20</td>\n",
       "      <td>19</td>\n",
       "    </tr>\n",
       "    <tr>\n",
       "      <th>11</th>\n",
       "      <td>21</td>\n",
       "      <td>19</td>\n",
       "    </tr>\n",
       "    <tr>\n",
       "      <th>12</th>\n",
       "      <td>33</td>\n",
       "      <td>14</td>\n",
       "    </tr>\n",
       "    <tr>\n",
       "      <th>13</th>\n",
       "      <td>32</td>\n",
       "      <td>13</td>\n",
       "    </tr>\n",
       "    <tr>\n",
       "      <th>14</th>\n",
       "      <td>34</td>\n",
       "      <td>10</td>\n",
       "    </tr>\n",
       "    <tr>\n",
       "      <th>15</th>\n",
       "      <td>36</td>\n",
       "      <td>10</td>\n",
       "    </tr>\n",
       "    <tr>\n",
       "      <th>16</th>\n",
       "      <td>35</td>\n",
       "      <td>9</td>\n",
       "    </tr>\n",
       "    <tr>\n",
       "      <th>17</th>\n",
       "      <td>37</td>\n",
       "      <td>4</td>\n",
       "    </tr>\n",
       "    <tr>\n",
       "      <th>18</th>\n",
       "      <td>38</td>\n",
       "      <td>4</td>\n",
       "    </tr>\n",
       "    <tr>\n",
       "      <th>19</th>\n",
       "      <td>40</td>\n",
       "      <td>3</td>\n",
       "    </tr>\n",
       "    <tr>\n",
       "      <th>20</th>\n",
       "      <td>39</td>\n",
       "      <td>2</td>\n",
       "    </tr>\n",
       "    <tr>\n",
       "      <th>21</th>\n",
       "      <td>19</td>\n",
       "      <td>2</td>\n",
       "    </tr>\n",
       "  </tbody>\n",
       "</table>\n",
       "</div>"
      ],
      "text/plain": [
       "    Age  count\n",
       "0    24     47\n",
       "1    25     45\n",
       "2    27     41\n",
       "3    23     41\n",
       "4    26     36\n",
       "5    28     31\n",
       "6    30     31\n",
       "7    29     28\n",
       "8    22     26\n",
       "9    31     22\n",
       "10   20     19\n",
       "11   21     19\n",
       "12   33     14\n",
       "13   32     13\n",
       "14   34     10\n",
       "15   36     10\n",
       "16   35      9\n",
       "17   37      4\n",
       "18   38      4\n",
       "19   40      3\n",
       "20   39      2\n",
       "21   19      2"
      ]
     },
     "execution_count": 46,
     "metadata": {},
     "output_type": "execute_result"
    }
   ],
   "source": [
    "age_values = df_nba[\"Age\"].value_counts().reset_index()\n",
    "age_values"
   ]
  },
  {
   "cell_type": "code",
   "execution_count": 28,
   "id": "68946f16",
   "metadata": {},
   "outputs": [
    {
     "data": {
      "application/vnd.microsoft.datawrangler.viewer.v0+json": {
       "columns": [
        {
         "name": "index",
         "rawType": "int64",
         "type": "integer"
        },
        {
         "name": "Age",
         "rawType": "int64",
         "type": "integer"
        },
        {
         "name": "Mean",
         "rawType": "float64",
         "type": "float"
        },
        {
         "name": "Median",
         "rawType": "float64",
         "type": "float"
        },
        {
         "name": "Mode",
         "rawType": "float64",
         "type": "float"
        },
        {
         "name": "Standard Deviation",
         "rawType": "float64",
         "type": "float"
        }
       ],
       "conversionMethod": "pd.DataFrame",
       "ref": "973e8d24-e226-4efe-8bb8-2ce9097c57e4",
       "rows": [
        [
         "0",
         "19",
         "1930440.0",
         "1930440.0",
         "1930440.0",
         "279165.76"
        ],
        [
         "1",
         "20",
         "2725790.84",
         "2481720.0",
         "525093.0",
         "1510913.43"
        ],
        [
         "2",
         "21",
         "2067379.63",
         "1584480.0",
         "2067379.63",
         "1412350.36"
        ],
        [
         "3",
         "22",
         "2357963.46",
         "1793880.0",
         "2357963.46",
         "1517378.33"
        ],
        [
         "4",
         "23",
         "2171718.8",
         "1201440.0",
         "845059.0",
         "2728808.16"
        ],
        [
         "5",
         "24",
         "3830295.36",
         "1535880.0",
         "845059.0",
         "4702753.1"
        ],
        [
         "6",
         "25",
         "3951130.0",
         "1358880.0",
         "845059.0",
         "4508413.97"
        ],
        [
         "7",
         "26",
         "6866566.25",
         "3325000.0",
         "947276.0",
         "6100470.79"
        ],
        [
         "8",
         "27",
         "6632008.07",
         "3425510.0",
         "6269301.75",
         "6752121.84"
        ],
        [
         "9",
         "28",
         "5101559.42",
         "4389607.0",
         "1100602.0",
         "4244345.0"
        ],
        [
         "10",
         "29",
         "6174837.96",
         "5271862.5",
         "7000000.0",
         "4786781.65"
        ],
        [
         "11",
         "30",
         "6990272.29",
         "5675000.0",
         "947276.0",
         "5332677.21"
        ],
        [
         "12",
         "31",
         "8511396.55",
         "5439487.0",
         "1973638.0",
         "7170163.47"
        ],
        [
         "13",
         "32",
         "7716958.15",
         "5200000.0",
         "947276.0",
         "7451335.88"
        ],
        [
         "14",
         "33",
         "3930739.0",
         "2300000.0",
         "7750000.0",
         "4354293.01"
        ],
        [
         "15",
         "34",
         "7606030.0",
         "6280675.5",
         "7606030.0",
         "5653035.02"
        ],
        [
         "16",
         "35",
         "3615178.0",
         "3750000.0",
         "947276.0",
         "2259353.74"
        ],
        [
         "17",
         "36",
         "2238119.6",
         "1809826.0",
         "947276.0",
         "1550061.25"
        ],
        [
         "18",
         "37",
         "10794004.5",
         "6666667.0",
         "10794004.5",
         "9606489.32"
        ],
        [
         "19",
         "38",
         "1840041.0",
         "1880638.0",
         "1840041.0",
         "1496660.66"
        ],
        [
         "20",
         "39",
         "2517872.5",
         "2517872.5",
         "2517872.5",
         "2220522.48"
        ],
        [
         "21",
         "40",
         "4666916.67",
         "5250000.0",
         "4666916.67",
         "4155420.68"
        ]
       ],
       "shape": {
        "columns": 5,
        "rows": 22
       }
      },
      "text/html": [
       "<div>\n",
       "<style scoped>\n",
       "    .dataframe tbody tr th:only-of-type {\n",
       "        vertical-align: middle;\n",
       "    }\n",
       "\n",
       "    .dataframe tbody tr th {\n",
       "        vertical-align: top;\n",
       "    }\n",
       "\n",
       "    .dataframe thead th {\n",
       "        text-align: right;\n",
       "    }\n",
       "</style>\n",
       "<table border=\"1\" class=\"dataframe\">\n",
       "  <thead>\n",
       "    <tr style=\"text-align: right;\">\n",
       "      <th></th>\n",
       "      <th>Age</th>\n",
       "      <th>Mean</th>\n",
       "      <th>Median</th>\n",
       "      <th>Mode</th>\n",
       "      <th>Standard Deviation</th>\n",
       "    </tr>\n",
       "  </thead>\n",
       "  <tbody>\n",
       "    <tr>\n",
       "      <th>0</th>\n",
       "      <td>19</td>\n",
       "      <td>1930440.00</td>\n",
       "      <td>1930440.0</td>\n",
       "      <td>1930440.00</td>\n",
       "      <td>279165.76</td>\n",
       "    </tr>\n",
       "    <tr>\n",
       "      <th>1</th>\n",
       "      <td>20</td>\n",
       "      <td>2725790.84</td>\n",
       "      <td>2481720.0</td>\n",
       "      <td>525093.00</td>\n",
       "      <td>1510913.43</td>\n",
       "    </tr>\n",
       "    <tr>\n",
       "      <th>2</th>\n",
       "      <td>21</td>\n",
       "      <td>2067379.63</td>\n",
       "      <td>1584480.0</td>\n",
       "      <td>2067379.63</td>\n",
       "      <td>1412350.36</td>\n",
       "    </tr>\n",
       "    <tr>\n",
       "      <th>3</th>\n",
       "      <td>22</td>\n",
       "      <td>2357963.46</td>\n",
       "      <td>1793880.0</td>\n",
       "      <td>2357963.46</td>\n",
       "      <td>1517378.33</td>\n",
       "    </tr>\n",
       "    <tr>\n",
       "      <th>4</th>\n",
       "      <td>23</td>\n",
       "      <td>2171718.80</td>\n",
       "      <td>1201440.0</td>\n",
       "      <td>845059.00</td>\n",
       "      <td>2728808.16</td>\n",
       "    </tr>\n",
       "    <tr>\n",
       "      <th>5</th>\n",
       "      <td>24</td>\n",
       "      <td>3830295.36</td>\n",
       "      <td>1535880.0</td>\n",
       "      <td>845059.00</td>\n",
       "      <td>4702753.10</td>\n",
       "    </tr>\n",
       "    <tr>\n",
       "      <th>6</th>\n",
       "      <td>25</td>\n",
       "      <td>3951130.00</td>\n",
       "      <td>1358880.0</td>\n",
       "      <td>845059.00</td>\n",
       "      <td>4508413.97</td>\n",
       "    </tr>\n",
       "    <tr>\n",
       "      <th>7</th>\n",
       "      <td>26</td>\n",
       "      <td>6866566.25</td>\n",
       "      <td>3325000.0</td>\n",
       "      <td>947276.00</td>\n",
       "      <td>6100470.79</td>\n",
       "    </tr>\n",
       "    <tr>\n",
       "      <th>8</th>\n",
       "      <td>27</td>\n",
       "      <td>6632008.07</td>\n",
       "      <td>3425510.0</td>\n",
       "      <td>6269301.75</td>\n",
       "      <td>6752121.84</td>\n",
       "    </tr>\n",
       "    <tr>\n",
       "      <th>9</th>\n",
       "      <td>28</td>\n",
       "      <td>5101559.42</td>\n",
       "      <td>4389607.0</td>\n",
       "      <td>1100602.00</td>\n",
       "      <td>4244345.00</td>\n",
       "    </tr>\n",
       "    <tr>\n",
       "      <th>10</th>\n",
       "      <td>29</td>\n",
       "      <td>6174837.96</td>\n",
       "      <td>5271862.5</td>\n",
       "      <td>7000000.00</td>\n",
       "      <td>4786781.65</td>\n",
       "    </tr>\n",
       "    <tr>\n",
       "      <th>11</th>\n",
       "      <td>30</td>\n",
       "      <td>6990272.29</td>\n",
       "      <td>5675000.0</td>\n",
       "      <td>947276.00</td>\n",
       "      <td>5332677.21</td>\n",
       "    </tr>\n",
       "    <tr>\n",
       "      <th>12</th>\n",
       "      <td>31</td>\n",
       "      <td>8511396.55</td>\n",
       "      <td>5439487.0</td>\n",
       "      <td>1973638.00</td>\n",
       "      <td>7170163.47</td>\n",
       "    </tr>\n",
       "    <tr>\n",
       "      <th>13</th>\n",
       "      <td>32</td>\n",
       "      <td>7716958.15</td>\n",
       "      <td>5200000.0</td>\n",
       "      <td>947276.00</td>\n",
       "      <td>7451335.88</td>\n",
       "    </tr>\n",
       "    <tr>\n",
       "      <th>14</th>\n",
       "      <td>33</td>\n",
       "      <td>3930739.00</td>\n",
       "      <td>2300000.0</td>\n",
       "      <td>7750000.00</td>\n",
       "      <td>4354293.01</td>\n",
       "    </tr>\n",
       "    <tr>\n",
       "      <th>15</th>\n",
       "      <td>34</td>\n",
       "      <td>7606030.00</td>\n",
       "      <td>6280675.5</td>\n",
       "      <td>7606030.00</td>\n",
       "      <td>5653035.02</td>\n",
       "    </tr>\n",
       "    <tr>\n",
       "      <th>16</th>\n",
       "      <td>35</td>\n",
       "      <td>3615178.00</td>\n",
       "      <td>3750000.0</td>\n",
       "      <td>947276.00</td>\n",
       "      <td>2259353.74</td>\n",
       "    </tr>\n",
       "    <tr>\n",
       "      <th>17</th>\n",
       "      <td>36</td>\n",
       "      <td>2238119.60</td>\n",
       "      <td>1809826.0</td>\n",
       "      <td>947276.00</td>\n",
       "      <td>1550061.25</td>\n",
       "    </tr>\n",
       "    <tr>\n",
       "      <th>18</th>\n",
       "      <td>37</td>\n",
       "      <td>10794004.50</td>\n",
       "      <td>6666667.0</td>\n",
       "      <td>10794004.50</td>\n",
       "      <td>9606489.32</td>\n",
       "    </tr>\n",
       "    <tr>\n",
       "      <th>19</th>\n",
       "      <td>38</td>\n",
       "      <td>1840041.00</td>\n",
       "      <td>1880638.0</td>\n",
       "      <td>1840041.00</td>\n",
       "      <td>1496660.66</td>\n",
       "    </tr>\n",
       "    <tr>\n",
       "      <th>20</th>\n",
       "      <td>39</td>\n",
       "      <td>2517872.50</td>\n",
       "      <td>2517872.5</td>\n",
       "      <td>2517872.50</td>\n",
       "      <td>2220522.48</td>\n",
       "    </tr>\n",
       "    <tr>\n",
       "      <th>21</th>\n",
       "      <td>40</td>\n",
       "      <td>4666916.67</td>\n",
       "      <td>5250000.0</td>\n",
       "      <td>4666916.67</td>\n",
       "      <td>4155420.68</td>\n",
       "    </tr>\n",
       "  </tbody>\n",
       "</table>\n",
       "</div>"
      ],
      "text/plain": [
       "    Age         Mean     Median         Mode  Standard Deviation\n",
       "0    19   1930440.00  1930440.0   1930440.00           279165.76\n",
       "1    20   2725790.84  2481720.0    525093.00          1510913.43\n",
       "2    21   2067379.63  1584480.0   2067379.63          1412350.36\n",
       "3    22   2357963.46  1793880.0   2357963.46          1517378.33\n",
       "4    23   2171718.80  1201440.0    845059.00          2728808.16\n",
       "5    24   3830295.36  1535880.0    845059.00          4702753.10\n",
       "6    25   3951130.00  1358880.0    845059.00          4508413.97\n",
       "7    26   6866566.25  3325000.0    947276.00          6100470.79\n",
       "8    27   6632008.07  3425510.0   6269301.75          6752121.84\n",
       "9    28   5101559.42  4389607.0   1100602.00          4244345.00\n",
       "10   29   6174837.96  5271862.5   7000000.00          4786781.65\n",
       "11   30   6990272.29  5675000.0    947276.00          5332677.21\n",
       "12   31   8511396.55  5439487.0   1973638.00          7170163.47\n",
       "13   32   7716958.15  5200000.0    947276.00          7451335.88\n",
       "14   33   3930739.00  2300000.0   7750000.00          4354293.01\n",
       "15   34   7606030.00  6280675.5   7606030.00          5653035.02\n",
       "16   35   3615178.00  3750000.0    947276.00          2259353.74\n",
       "17   36   2238119.60  1809826.0    947276.00          1550061.25\n",
       "18   37  10794004.50  6666667.0  10794004.50          9606489.32\n",
       "19   38   1840041.00  1880638.0   1840041.00          1496660.66\n",
       "20   39   2517872.50  2517872.5   2517872.50          2220522.48\n",
       "21   40   4666916.67  5250000.0   4666916.67          4155420.68"
      ]
     },
     "execution_count": 28,
     "metadata": {},
     "output_type": "execute_result"
    }
   ],
   "source": [
    "age_mean = pd.DataFrame(\n",
    "    df_nba.groupby(\"Age\", observed=False)[\"Salary\"].mean()\n",
    ").reset_index()\n",
    "\n",
    "age_mean.columns = [\"Age\", \"Mean\"]\n",
    "\n",
    "age_median = pd.DataFrame(\n",
    "    df_nba.groupby(\"Age\", observed=False)[\"Salary\"].median()\n",
    ").reset_index()\n",
    "\n",
    "age_median.columns = [\"Age\", \"Median\"]\n",
    "\n",
    "age_mode = (\n",
    "    df_nba.groupby(\"Age\", observed=False)[\"Salary\"]\n",
    "    .apply(lambda x: x.mode().mean())\n",
    "    .reset_index()\n",
    ")\n",
    "age_mode.columns = [\"Age\", \"Mode\"]\n",
    "\n",
    "age_std = pd.DataFrame(\n",
    "    df_nba.groupby(\"Age\", observed=False)[\"Salary\"].std()\n",
    ").reset_index()\n",
    "\n",
    "age_std.columns = [\"Age\", \"Standard Deviation\"]\n",
    "\n",
    "age_df = (\n",
    "    age_mean.merge(age_median, on=\"Age\")\n",
    "    .merge(age_mode, on=\"Age\")\n",
    "    .merge(age_std, on=\"Age\")\n",
    ")\n",
    "np.round(age_df, 2)"
   ]
  },
  {
   "cell_type": "code",
   "execution_count": 29,
   "id": "1926434d",
   "metadata": {},
   "outputs": [
    {
     "data": {
      "application/vnd.microsoft.datawrangler.viewer.v0+json": {
       "columns": [
        {
         "name": "index",
         "rawType": "int64",
         "type": "integer"
        },
        {
         "name": "Position",
         "rawType": "category",
         "type": "unknown"
        },
        {
         "name": "Mean_x",
         "rawType": "float64",
         "type": "float"
        },
        {
         "name": "Mean_y",
         "rawType": "float64",
         "type": "float"
        },
        {
         "name": "Mode",
         "rawType": "float64",
         "type": "float"
        },
        {
         "name": "Standard Deviation",
         "rawType": "float64",
         "type": "float"
        }
       ],
       "conversionMethod": "pd.DataFrame",
       "ref": "c79358a9-4616-4149-a301-d6166f073f83",
       "rows": [
        [
         "0",
         "C",
         "5967052.0",
         "3811060.0",
         "947276.0",
         "5787988.91"
        ],
        [
         "1",
         "PF",
         "4570889.02",
         "3000000.0",
         "896167.5",
         "4727010.29"
        ],
        [
         "2",
         "PG",
         "5067605.51",
         "3106518.0",
         "2894980.0",
         "4939767.97"
        ],
        [
         "3",
         "SF",
         "4857219.53",
         "2041080.0",
         "845059.0",
         "5975996.94"
        ],
        [
         "4",
         "SG",
         "4034355.98",
         "2394102.5",
         "947276.0",
         "4426657.96"
        ]
       ],
       "shape": {
        "columns": 5,
        "rows": 5
       }
      },
      "text/html": [
       "<div>\n",
       "<style scoped>\n",
       "    .dataframe tbody tr th:only-of-type {\n",
       "        vertical-align: middle;\n",
       "    }\n",
       "\n",
       "    .dataframe tbody tr th {\n",
       "        vertical-align: top;\n",
       "    }\n",
       "\n",
       "    .dataframe thead th {\n",
       "        text-align: right;\n",
       "    }\n",
       "</style>\n",
       "<table border=\"1\" class=\"dataframe\">\n",
       "  <thead>\n",
       "    <tr style=\"text-align: right;\">\n",
       "      <th></th>\n",
       "      <th>Position</th>\n",
       "      <th>Mean_x</th>\n",
       "      <th>Mean_y</th>\n",
       "      <th>Mode</th>\n",
       "      <th>Standard Deviation</th>\n",
       "    </tr>\n",
       "  </thead>\n",
       "  <tbody>\n",
       "    <tr>\n",
       "      <th>0</th>\n",
       "      <td>C</td>\n",
       "      <td>5967052.00</td>\n",
       "      <td>3811060.0</td>\n",
       "      <td>947276.0</td>\n",
       "      <td>5787988.91</td>\n",
       "    </tr>\n",
       "    <tr>\n",
       "      <th>1</th>\n",
       "      <td>PF</td>\n",
       "      <td>4570889.02</td>\n",
       "      <td>3000000.0</td>\n",
       "      <td>896167.5</td>\n",
       "      <td>4727010.29</td>\n",
       "    </tr>\n",
       "    <tr>\n",
       "      <th>2</th>\n",
       "      <td>PG</td>\n",
       "      <td>5067605.51</td>\n",
       "      <td>3106518.0</td>\n",
       "      <td>2894980.0</td>\n",
       "      <td>4939767.97</td>\n",
       "    </tr>\n",
       "    <tr>\n",
       "      <th>3</th>\n",
       "      <td>SF</td>\n",
       "      <td>4857219.53</td>\n",
       "      <td>2041080.0</td>\n",
       "      <td>845059.0</td>\n",
       "      <td>5975996.94</td>\n",
       "    </tr>\n",
       "    <tr>\n",
       "      <th>4</th>\n",
       "      <td>SG</td>\n",
       "      <td>4034355.98</td>\n",
       "      <td>2394102.5</td>\n",
       "      <td>947276.0</td>\n",
       "      <td>4426657.96</td>\n",
       "    </tr>\n",
       "  </tbody>\n",
       "</table>\n",
       "</div>"
      ],
      "text/plain": [
       "  Position      Mean_x     Mean_y       Mode  Standard Deviation\n",
       "0        C  5967052.00  3811060.0   947276.0          5787988.91\n",
       "1       PF  4570889.02  3000000.0   896167.5          4727010.29\n",
       "2       PG  5067605.51  3106518.0  2894980.0          4939767.97\n",
       "3       SF  4857219.53  2041080.0   845059.0          5975996.94\n",
       "4       SG  4034355.98  2394102.5   947276.0          4426657.96"
      ]
     },
     "execution_count": 29,
     "metadata": {},
     "output_type": "execute_result"
    }
   ],
   "source": [
    "position_mean = pd.DataFrame(\n",
    "    df_nba.groupby(\"Position\", observed=False)[\"Salary\"].mean()\n",
    ").reset_index()\n",
    "position_mean.columns = [\"Position\", \"Mean\"]\n",
    "\n",
    "position_median = pd.DataFrame(\n",
    "    df_nba.groupby(\"Position\", observed=False)[\"Salary\"].median()\n",
    ").reset_index()\n",
    "position_median.columns = [\"Position\", \"Mean\"]\n",
    "\n",
    "position_mode = pd.DataFrame(\n",
    "    df_nba.groupby(\"Position\", observed=False)[\"Salary\"].apply(\n",
    "        lambda x: x.mode().mean()\n",
    "    )\n",
    ").reset_index()\n",
    "position_mode.columns = [\"Position\", \"Mode\"]\n",
    "\n",
    "position_std = pd.DataFrame(\n",
    "    df_nba.groupby(\"Position\", observed=False)[\"Salary\"].std()\n",
    ").reset_index()\n",
    "\n",
    "position_std.columns = [\"Position\", \"Standard Deviation\"]\n",
    "\n",
    "position_df = (\n",
    "    position_mean.merge(position_median, on=\"Position\")\n",
    "    .merge(position_mode, on=\"Position\")\n",
    "    .merge(position_std, on=\"Position\")\n",
    ")\n",
    "np.round(position_df, 2)"
   ]
  },
  {
   "cell_type": "code",
   "execution_count": 30,
   "id": "5a203b98",
   "metadata": {},
   "outputs": [
    {
     "data": {
      "application/vnd.microsoft.datawrangler.viewer.v0+json": {
       "columns": [
        {
         "name": "index",
         "rawType": "int64",
         "type": "integer"
        },
        {
         "name": "Team",
         "rawType": "category",
         "type": "unknown"
        },
        {
         "name": "Mean_x",
         "rawType": "float64",
         "type": "float"
        },
        {
         "name": "Mean_y",
         "rawType": "float64",
         "type": "float"
        },
        {
         "name": "Mode",
         "rawType": "float64",
         "type": "float"
        },
        {
         "name": "Standard Deviation",
         "rawType": "float64",
         "type": "float"
        }
       ],
       "conversionMethod": "pd.DataFrame",
       "ref": "28c79625-f1a0-4f6b-95e3-f2e06895e07f",
       "rows": [
        [
         "0",
         "Atlanta Hawks",
         "4860196.67",
         "2854940.0",
         "1000000.0",
         "5194508.14"
        ],
        [
         "1",
         "Boston Celtics",
         "4225583.47",
         "3425510.0",
         "4225583.47",
         "3036395.96"
        ],
        [
         "2",
         "Brooklyn Nets",
         "3501898.33",
         "1335480.0",
         "947276.0",
         "5317816.85"
        ],
        [
         "3",
         "Charlotte Hornets",
         "5222728.0",
         "4204200.0",
         "947276.0",
         "4538601.37"
        ],
        [
         "4",
         "Chicago Bulls",
         "5785558.53",
         "2380440.0",
         "5785558.53",
         "6251087.81"
        ],
        [
         "5",
         "Cleveland Cavaliers",
         "7455424.87",
         "4950000.0",
         "947276.0",
         "7484115.8"
        ],
        [
         "6",
         "Dallas Mavericks",
         "4746582.13",
         "3950313.0",
         "4746582.13",
         "5030279.04"
        ],
        [
         "7",
         "Denver Nuggets",
         "4330974.27",
         "3000000.0",
         "4330974.27",
         "4165468.08"
        ],
        [
         "8",
         "Detroit Pistons",
         "4477884.2",
         "2891760.0",
         "4477884.2",
         "4668478.27"
        ],
        [
         "9",
         "Golden State Warriors",
         "5924599.8",
         "3815000.0",
         "5924599.8",
         "5664281.67"
        ],
        [
         "10",
         "Houston Rockets",
         "5018868.07",
         "2288205.0",
         "947276.0",
         "6414749.06"
        ],
        [
         "11",
         "Indiana Pacers",
         "4450121.73",
         "4000000.0",
         "2503513.0",
         "4584513.85"
        ],
        [
         "12",
         "Los Angeles Clippers",
         "6323642.67",
         "3110796.0",
         "1100602.0",
         "7600224.54"
        ],
        [
         "13",
         "Los Angeles Lakers",
         "4784695.4",
         "1724250.0",
         "845059.0",
         "6835688.19"
        ],
        [
         "14",
         "Memphis Grizzlies",
         "5328978.67",
         "4842684.0",
         "4842684.0",
         "4556590.89"
        ],
        [
         "15",
         "Miami Heat",
         "6146736.07",
         "2854940.0",
         "2894980.0",
         "7285680.38"
        ],
        [
         "16",
         "Milwaukee Bucks",
         "4350219.81",
         "2254167.0",
         "4350219.81",
         "4875070.51"
        ],
        [
         "17",
         "Minnesota Timberwolves",
         "4610884.36",
         "3049180.5",
         "4610884.36",
         "3977782.88"
        ],
        [
         "18",
         "New Orleans Pelicans",
         "4355303.89",
         "2850000.0",
         "845059.0",
         "4537873.87"
        ],
        [
         "19",
         "New York Knicks",
         "4581493.62",
         "2225421.0",
         "845059.0",
         "5952487.01"
        ],
        [
         "20",
         "Oklahoma City Thunder",
         "6251019.87",
         "3344000.0",
         "6251019.87",
         "6632399.55"
        ],
        [
         "21",
         "Orlando Magic",
         "4297247.86",
         "3956580.0",
         "4297247.86",
         "3068412.29"
        ],
        [
         "22",
         "Philadelphia 76ers",
         "2389038.53",
         "1074169.0",
         "947276.0",
         "1953024.11"
        ],
        [
         "23",
         "Phoenix Suns",
         "4229675.67",
         "2041080.0",
         "9500000.0",
         "5022561.08"
        ],
        [
         "24",
         "Portland Trail Blazers",
         "3220121.2",
         "2854940.0",
         "525093.0",
         "2392741.18"
        ],
        [
         "25",
         "Sacramento Kings",
         "4778911.07",
         "3156600.0",
         "4778911.07",
         "4701792.32"
        ],
        [
         "26",
         "San Antonio Spurs",
         "5629515.53",
         "2814000.0",
         "5629515.53",
         "6396803.73"
        ],
        [
         "27",
         "Toronto Raptors",
         "4741174.07",
         "2900000.0",
         "4741174.07",
         "4195943.17"
        ],
        [
         "28",
         "Utah Jazz",
         "4204006.07",
         "2433333.0",
         "4204006.07",
         "4467878.04"
        ],
        [
         "29",
         "Washington Wizards",
         "5088575.73",
         "4000000.0",
         "5088575.73",
         "4869387.96"
        ]
       ],
       "shape": {
        "columns": 5,
        "rows": 30
       }
      },
      "text/html": [
       "<div>\n",
       "<style scoped>\n",
       "    .dataframe tbody tr th:only-of-type {\n",
       "        vertical-align: middle;\n",
       "    }\n",
       "\n",
       "    .dataframe tbody tr th {\n",
       "        vertical-align: top;\n",
       "    }\n",
       "\n",
       "    .dataframe thead th {\n",
       "        text-align: right;\n",
       "    }\n",
       "</style>\n",
       "<table border=\"1\" class=\"dataframe\">\n",
       "  <thead>\n",
       "    <tr style=\"text-align: right;\">\n",
       "      <th></th>\n",
       "      <th>Team</th>\n",
       "      <th>Mean_x</th>\n",
       "      <th>Mean_y</th>\n",
       "      <th>Mode</th>\n",
       "      <th>Standard Deviation</th>\n",
       "    </tr>\n",
       "  </thead>\n",
       "  <tbody>\n",
       "    <tr>\n",
       "      <th>0</th>\n",
       "      <td>Atlanta Hawks</td>\n",
       "      <td>4860196.67</td>\n",
       "      <td>2854940.0</td>\n",
       "      <td>1000000.00</td>\n",
       "      <td>5194508.14</td>\n",
       "    </tr>\n",
       "    <tr>\n",
       "      <th>1</th>\n",
       "      <td>Boston Celtics</td>\n",
       "      <td>4225583.47</td>\n",
       "      <td>3425510.0</td>\n",
       "      <td>4225583.47</td>\n",
       "      <td>3036395.96</td>\n",
       "    </tr>\n",
       "    <tr>\n",
       "      <th>2</th>\n",
       "      <td>Brooklyn Nets</td>\n",
       "      <td>3501898.33</td>\n",
       "      <td>1335480.0</td>\n",
       "      <td>947276.00</td>\n",
       "      <td>5317816.85</td>\n",
       "    </tr>\n",
       "    <tr>\n",
       "      <th>3</th>\n",
       "      <td>Charlotte Hornets</td>\n",
       "      <td>5222728.00</td>\n",
       "      <td>4204200.0</td>\n",
       "      <td>947276.00</td>\n",
       "      <td>4538601.37</td>\n",
       "    </tr>\n",
       "    <tr>\n",
       "      <th>4</th>\n",
       "      <td>Chicago Bulls</td>\n",
       "      <td>5785558.53</td>\n",
       "      <td>2380440.0</td>\n",
       "      <td>5785558.53</td>\n",
       "      <td>6251087.81</td>\n",
       "    </tr>\n",
       "    <tr>\n",
       "      <th>5</th>\n",
       "      <td>Cleveland Cavaliers</td>\n",
       "      <td>7455424.87</td>\n",
       "      <td>4950000.0</td>\n",
       "      <td>947276.00</td>\n",
       "      <td>7484115.80</td>\n",
       "    </tr>\n",
       "    <tr>\n",
       "      <th>6</th>\n",
       "      <td>Dallas Mavericks</td>\n",
       "      <td>4746582.13</td>\n",
       "      <td>3950313.0</td>\n",
       "      <td>4746582.13</td>\n",
       "      <td>5030279.04</td>\n",
       "    </tr>\n",
       "    <tr>\n",
       "      <th>7</th>\n",
       "      <td>Denver Nuggets</td>\n",
       "      <td>4330974.27</td>\n",
       "      <td>3000000.0</td>\n",
       "      <td>4330974.27</td>\n",
       "      <td>4165468.08</td>\n",
       "    </tr>\n",
       "    <tr>\n",
       "      <th>8</th>\n",
       "      <td>Detroit Pistons</td>\n",
       "      <td>4477884.20</td>\n",
       "      <td>2891760.0</td>\n",
       "      <td>4477884.20</td>\n",
       "      <td>4668478.27</td>\n",
       "    </tr>\n",
       "    <tr>\n",
       "      <th>9</th>\n",
       "      <td>Golden State Warriors</td>\n",
       "      <td>5924599.80</td>\n",
       "      <td>3815000.0</td>\n",
       "      <td>5924599.80</td>\n",
       "      <td>5664281.67</td>\n",
       "    </tr>\n",
       "    <tr>\n",
       "      <th>10</th>\n",
       "      <td>Houston Rockets</td>\n",
       "      <td>5018868.07</td>\n",
       "      <td>2288205.0</td>\n",
       "      <td>947276.00</td>\n",
       "      <td>6414749.06</td>\n",
       "    </tr>\n",
       "    <tr>\n",
       "      <th>11</th>\n",
       "      <td>Indiana Pacers</td>\n",
       "      <td>4450121.73</td>\n",
       "      <td>4000000.0</td>\n",
       "      <td>2503513.00</td>\n",
       "      <td>4584513.85</td>\n",
       "    </tr>\n",
       "    <tr>\n",
       "      <th>12</th>\n",
       "      <td>Los Angeles Clippers</td>\n",
       "      <td>6323642.67</td>\n",
       "      <td>3110796.0</td>\n",
       "      <td>1100602.00</td>\n",
       "      <td>7600224.54</td>\n",
       "    </tr>\n",
       "    <tr>\n",
       "      <th>13</th>\n",
       "      <td>Los Angeles Lakers</td>\n",
       "      <td>4784695.40</td>\n",
       "      <td>1724250.0</td>\n",
       "      <td>845059.00</td>\n",
       "      <td>6835688.19</td>\n",
       "    </tr>\n",
       "    <tr>\n",
       "      <th>14</th>\n",
       "      <td>Memphis Grizzlies</td>\n",
       "      <td>5328978.67</td>\n",
       "      <td>4842684.0</td>\n",
       "      <td>4842684.00</td>\n",
       "      <td>4556590.89</td>\n",
       "    </tr>\n",
       "    <tr>\n",
       "      <th>15</th>\n",
       "      <td>Miami Heat</td>\n",
       "      <td>6146736.07</td>\n",
       "      <td>2854940.0</td>\n",
       "      <td>2894980.00</td>\n",
       "      <td>7285680.38</td>\n",
       "    </tr>\n",
       "    <tr>\n",
       "      <th>16</th>\n",
       "      <td>Milwaukee Bucks</td>\n",
       "      <td>4350219.81</td>\n",
       "      <td>2254167.0</td>\n",
       "      <td>4350219.81</td>\n",
       "      <td>4875070.51</td>\n",
       "    </tr>\n",
       "    <tr>\n",
       "      <th>17</th>\n",
       "      <td>Minnesota Timberwolves</td>\n",
       "      <td>4610884.36</td>\n",
       "      <td>3049180.5</td>\n",
       "      <td>4610884.36</td>\n",
       "      <td>3977782.88</td>\n",
       "    </tr>\n",
       "    <tr>\n",
       "      <th>18</th>\n",
       "      <td>New Orleans Pelicans</td>\n",
       "      <td>4355303.89</td>\n",
       "      <td>2850000.0</td>\n",
       "      <td>845059.00</td>\n",
       "      <td>4537873.87</td>\n",
       "    </tr>\n",
       "    <tr>\n",
       "      <th>19</th>\n",
       "      <td>New York Knicks</td>\n",
       "      <td>4581493.62</td>\n",
       "      <td>2225421.0</td>\n",
       "      <td>845059.00</td>\n",
       "      <td>5952487.01</td>\n",
       "    </tr>\n",
       "    <tr>\n",
       "      <th>20</th>\n",
       "      <td>Oklahoma City Thunder</td>\n",
       "      <td>6251019.87</td>\n",
       "      <td>3344000.0</td>\n",
       "      <td>6251019.87</td>\n",
       "      <td>6632399.55</td>\n",
       "    </tr>\n",
       "    <tr>\n",
       "      <th>21</th>\n",
       "      <td>Orlando Magic</td>\n",
       "      <td>4297247.86</td>\n",
       "      <td>3956580.0</td>\n",
       "      <td>4297247.86</td>\n",
       "      <td>3068412.29</td>\n",
       "    </tr>\n",
       "    <tr>\n",
       "      <th>22</th>\n",
       "      <td>Philadelphia 76ers</td>\n",
       "      <td>2389038.53</td>\n",
       "      <td>1074169.0</td>\n",
       "      <td>947276.00</td>\n",
       "      <td>1953024.11</td>\n",
       "    </tr>\n",
       "    <tr>\n",
       "      <th>23</th>\n",
       "      <td>Phoenix Suns</td>\n",
       "      <td>4229675.67</td>\n",
       "      <td>2041080.0</td>\n",
       "      <td>9500000.00</td>\n",
       "      <td>5022561.08</td>\n",
       "    </tr>\n",
       "    <tr>\n",
       "      <th>24</th>\n",
       "      <td>Portland Trail Blazers</td>\n",
       "      <td>3220121.20</td>\n",
       "      <td>2854940.0</td>\n",
       "      <td>525093.00</td>\n",
       "      <td>2392741.18</td>\n",
       "    </tr>\n",
       "    <tr>\n",
       "      <th>25</th>\n",
       "      <td>Sacramento Kings</td>\n",
       "      <td>4778911.07</td>\n",
       "      <td>3156600.0</td>\n",
       "      <td>4778911.07</td>\n",
       "      <td>4701792.32</td>\n",
       "    </tr>\n",
       "    <tr>\n",
       "      <th>26</th>\n",
       "      <td>San Antonio Spurs</td>\n",
       "      <td>5629515.53</td>\n",
       "      <td>2814000.0</td>\n",
       "      <td>5629515.53</td>\n",
       "      <td>6396803.73</td>\n",
       "    </tr>\n",
       "    <tr>\n",
       "      <th>27</th>\n",
       "      <td>Toronto Raptors</td>\n",
       "      <td>4741174.07</td>\n",
       "      <td>2900000.0</td>\n",
       "      <td>4741174.07</td>\n",
       "      <td>4195943.17</td>\n",
       "    </tr>\n",
       "    <tr>\n",
       "      <th>28</th>\n",
       "      <td>Utah Jazz</td>\n",
       "      <td>4204006.07</td>\n",
       "      <td>2433333.0</td>\n",
       "      <td>4204006.07</td>\n",
       "      <td>4467878.04</td>\n",
       "    </tr>\n",
       "    <tr>\n",
       "      <th>29</th>\n",
       "      <td>Washington Wizards</td>\n",
       "      <td>5088575.73</td>\n",
       "      <td>4000000.0</td>\n",
       "      <td>5088575.73</td>\n",
       "      <td>4869387.96</td>\n",
       "    </tr>\n",
       "  </tbody>\n",
       "</table>\n",
       "</div>"
      ],
      "text/plain": [
       "                      Team      Mean_x     Mean_y        Mode  \\\n",
       "0            Atlanta Hawks  4860196.67  2854940.0  1000000.00   \n",
       "1           Boston Celtics  4225583.47  3425510.0  4225583.47   \n",
       "2            Brooklyn Nets  3501898.33  1335480.0   947276.00   \n",
       "3        Charlotte Hornets  5222728.00  4204200.0   947276.00   \n",
       "4            Chicago Bulls  5785558.53  2380440.0  5785558.53   \n",
       "5      Cleveland Cavaliers  7455424.87  4950000.0   947276.00   \n",
       "6         Dallas Mavericks  4746582.13  3950313.0  4746582.13   \n",
       "7           Denver Nuggets  4330974.27  3000000.0  4330974.27   \n",
       "8          Detroit Pistons  4477884.20  2891760.0  4477884.20   \n",
       "9    Golden State Warriors  5924599.80  3815000.0  5924599.80   \n",
       "10         Houston Rockets  5018868.07  2288205.0   947276.00   \n",
       "11          Indiana Pacers  4450121.73  4000000.0  2503513.00   \n",
       "12    Los Angeles Clippers  6323642.67  3110796.0  1100602.00   \n",
       "13      Los Angeles Lakers  4784695.40  1724250.0   845059.00   \n",
       "14       Memphis Grizzlies  5328978.67  4842684.0  4842684.00   \n",
       "15              Miami Heat  6146736.07  2854940.0  2894980.00   \n",
       "16         Milwaukee Bucks  4350219.81  2254167.0  4350219.81   \n",
       "17  Minnesota Timberwolves  4610884.36  3049180.5  4610884.36   \n",
       "18    New Orleans Pelicans  4355303.89  2850000.0   845059.00   \n",
       "19         New York Knicks  4581493.62  2225421.0   845059.00   \n",
       "20   Oklahoma City Thunder  6251019.87  3344000.0  6251019.87   \n",
       "21           Orlando Magic  4297247.86  3956580.0  4297247.86   \n",
       "22      Philadelphia 76ers  2389038.53  1074169.0   947276.00   \n",
       "23            Phoenix Suns  4229675.67  2041080.0  9500000.00   \n",
       "24  Portland Trail Blazers  3220121.20  2854940.0   525093.00   \n",
       "25        Sacramento Kings  4778911.07  3156600.0  4778911.07   \n",
       "26       San Antonio Spurs  5629515.53  2814000.0  5629515.53   \n",
       "27         Toronto Raptors  4741174.07  2900000.0  4741174.07   \n",
       "28               Utah Jazz  4204006.07  2433333.0  4204006.07   \n",
       "29      Washington Wizards  5088575.73  4000000.0  5088575.73   \n",
       "\n",
       "    Standard Deviation  \n",
       "0           5194508.14  \n",
       "1           3036395.96  \n",
       "2           5317816.85  \n",
       "3           4538601.37  \n",
       "4           6251087.81  \n",
       "5           7484115.80  \n",
       "6           5030279.04  \n",
       "7           4165468.08  \n",
       "8           4668478.27  \n",
       "9           5664281.67  \n",
       "10          6414749.06  \n",
       "11          4584513.85  \n",
       "12          7600224.54  \n",
       "13          6835688.19  \n",
       "14          4556590.89  \n",
       "15          7285680.38  \n",
       "16          4875070.51  \n",
       "17          3977782.88  \n",
       "18          4537873.87  \n",
       "19          5952487.01  \n",
       "20          6632399.55  \n",
       "21          3068412.29  \n",
       "22          1953024.11  \n",
       "23          5022561.08  \n",
       "24          2392741.18  \n",
       "25          4701792.32  \n",
       "26          6396803.73  \n",
       "27          4195943.17  \n",
       "28          4467878.04  \n",
       "29          4869387.96  "
      ]
     },
     "execution_count": 30,
     "metadata": {},
     "output_type": "execute_result"
    }
   ],
   "source": [
    "team_mean = pd.DataFrame(\n",
    "    df_nba.groupby(\"Team\", observed=False)[\"Salary\"].mean()\n",
    ").reset_index()\n",
    "team_mean.columns = [\"Team\", \"Mean\"]\n",
    "\n",
    "team_median = pd.DataFrame(\n",
    "    df_nba.groupby(\"Team\", observed=False)[\"Salary\"].median()\n",
    ").reset_index()\n",
    "team_median.columns = [\"Team\", \"Mean\"]\n",
    "\n",
    "team_mode = pd.DataFrame(\n",
    "    df_nba.groupby(\"Team\", observed=False)[\"Salary\"].apply(lambda x: x.mode().mean())\n",
    ").reset_index()\n",
    "team_mode.columns = [\"Team\", \"Mode\"]\n",
    "\n",
    "team_std = pd.DataFrame(\n",
    "    df_nba.groupby(\"Team\", observed=False)[\"Salary\"].std()\n",
    ").reset_index()\n",
    "\n",
    "team_std.columns = [\"Team\", \"Standard Deviation\"]\n",
    "\n",
    "team_df = (\n",
    "    team_mean.merge(team_median, on=\"Team\")\n",
    "    .merge(team_mode, on=\"Team\")\n",
    "    .merge(team_std, on=\"Team\")\n",
    ")\n",
    "np.round(team_df, 2)"
   ]
  },
  {
   "cell_type": "markdown",
   "id": "9232c75c",
   "metadata": {},
   "source": [
    "# Iris Dataset\n"
   ]
  },
  {
   "cell_type": "code",
   "execution_count": 31,
   "id": "ddd147ac",
   "metadata": {},
   "outputs": [],
   "source": [
    "df = pd.read_csv(\"../datasets/iris.csv\")"
   ]
  },
  {
   "cell_type": "code",
   "execution_count": 32,
   "id": "f47e5e87",
   "metadata": {},
   "outputs": [
    {
     "data": {
      "text/plain": [
       "(150, 5)"
      ]
     },
     "execution_count": 32,
     "metadata": {},
     "output_type": "execute_result"
    }
   ],
   "source": [
    "df.shape"
   ]
  },
  {
   "cell_type": "code",
   "execution_count": 33,
   "id": "e2d0e009",
   "metadata": {},
   "outputs": [
    {
     "data": {
      "text/plain": [
       "Index(['sepal_length', 'sepal_width', 'petal_length', 'petal_width',\n",
       "       'species'],\n",
       "      dtype='object')"
      ]
     },
     "execution_count": 33,
     "metadata": {},
     "output_type": "execute_result"
    }
   ],
   "source": [
    "df.columns"
   ]
  },
  {
   "cell_type": "code",
   "execution_count": 34,
   "id": "6a0a3f38",
   "metadata": {},
   "outputs": [
    {
     "data": {
      "application/vnd.microsoft.datawrangler.viewer.v0+json": {
       "columns": [
        {
         "name": "index",
         "rawType": "int64",
         "type": "integer"
        },
        {
         "name": "sepal_length",
         "rawType": "float64",
         "type": "float"
        },
        {
         "name": "sepal_width",
         "rawType": "float64",
         "type": "float"
        },
        {
         "name": "petal_length",
         "rawType": "float64",
         "type": "float"
        },
        {
         "name": "petal_width",
         "rawType": "float64",
         "type": "float"
        },
        {
         "name": "species",
         "rawType": "object",
         "type": "string"
        }
       ],
       "conversionMethod": "pd.DataFrame",
       "ref": "677182bf-642b-4acd-a9ef-03e9a3cfc1da",
       "rows": [
        [
         "0",
         "5.1",
         "3.5",
         "1.4",
         "0.2",
         "setosa"
        ],
        [
         "1",
         "4.9",
         "3.0",
         "1.4",
         "0.2",
         "setosa"
        ],
        [
         "2",
         "4.7",
         "3.2",
         "1.3",
         "0.2",
         "setosa"
        ],
        [
         "3",
         "4.6",
         "3.1",
         "1.5",
         "0.2",
         "setosa"
        ],
        [
         "4",
         "5.0",
         "3.6",
         "1.4",
         "0.2",
         "setosa"
        ]
       ],
       "shape": {
        "columns": 5,
        "rows": 5
       }
      },
      "text/html": [
       "<div>\n",
       "<style scoped>\n",
       "    .dataframe tbody tr th:only-of-type {\n",
       "        vertical-align: middle;\n",
       "    }\n",
       "\n",
       "    .dataframe tbody tr th {\n",
       "        vertical-align: top;\n",
       "    }\n",
       "\n",
       "    .dataframe thead th {\n",
       "        text-align: right;\n",
       "    }\n",
       "</style>\n",
       "<table border=\"1\" class=\"dataframe\">\n",
       "  <thead>\n",
       "    <tr style=\"text-align: right;\">\n",
       "      <th></th>\n",
       "      <th>sepal_length</th>\n",
       "      <th>sepal_width</th>\n",
       "      <th>petal_length</th>\n",
       "      <th>petal_width</th>\n",
       "      <th>species</th>\n",
       "    </tr>\n",
       "  </thead>\n",
       "  <tbody>\n",
       "    <tr>\n",
       "      <th>0</th>\n",
       "      <td>5.1</td>\n",
       "      <td>3.5</td>\n",
       "      <td>1.4</td>\n",
       "      <td>0.2</td>\n",
       "      <td>setosa</td>\n",
       "    </tr>\n",
       "    <tr>\n",
       "      <th>1</th>\n",
       "      <td>4.9</td>\n",
       "      <td>3.0</td>\n",
       "      <td>1.4</td>\n",
       "      <td>0.2</td>\n",
       "      <td>setosa</td>\n",
       "    </tr>\n",
       "    <tr>\n",
       "      <th>2</th>\n",
       "      <td>4.7</td>\n",
       "      <td>3.2</td>\n",
       "      <td>1.3</td>\n",
       "      <td>0.2</td>\n",
       "      <td>setosa</td>\n",
       "    </tr>\n",
       "    <tr>\n",
       "      <th>3</th>\n",
       "      <td>4.6</td>\n",
       "      <td>3.1</td>\n",
       "      <td>1.5</td>\n",
       "      <td>0.2</td>\n",
       "      <td>setosa</td>\n",
       "    </tr>\n",
       "    <tr>\n",
       "      <th>4</th>\n",
       "      <td>5.0</td>\n",
       "      <td>3.6</td>\n",
       "      <td>1.4</td>\n",
       "      <td>0.2</td>\n",
       "      <td>setosa</td>\n",
       "    </tr>\n",
       "  </tbody>\n",
       "</table>\n",
       "</div>"
      ],
      "text/plain": [
       "   sepal_length  sepal_width  petal_length  petal_width species\n",
       "0           5.1          3.5           1.4          0.2  setosa\n",
       "1           4.9          3.0           1.4          0.2  setosa\n",
       "2           4.7          3.2           1.3          0.2  setosa\n",
       "3           4.6          3.1           1.5          0.2  setosa\n",
       "4           5.0          3.6           1.4          0.2  setosa"
      ]
     },
     "execution_count": 34,
     "metadata": {},
     "output_type": "execute_result"
    }
   ],
   "source": [
    "df.head()"
   ]
  },
  {
   "cell_type": "code",
   "execution_count": 35,
   "id": "b04ee74e",
   "metadata": {},
   "outputs": [
    {
     "data": {
      "application/vnd.microsoft.datawrangler.viewer.v0+json": {
       "columns": [
        {
         "name": "index",
         "rawType": "object",
         "type": "string"
        },
        {
         "name": "sepal_length",
         "rawType": "float64",
         "type": "float"
        },
        {
         "name": "sepal_width",
         "rawType": "float64",
         "type": "float"
        },
        {
         "name": "petal_length",
         "rawType": "float64",
         "type": "float"
        },
        {
         "name": "petal_width",
         "rawType": "float64",
         "type": "float"
        }
       ],
       "conversionMethod": "pd.DataFrame",
       "ref": "cca550cf-063c-452e-8f9c-555d5f9540a3",
       "rows": [
        [
         "count",
         "150.0",
         "150.0",
         "150.0",
         "150.0"
        ],
        [
         "mean",
         "5.843333333333334",
         "3.0540000000000003",
         "3.758666666666666",
         "1.1986666666666668"
        ],
        [
         "std",
         "0.828066127977863",
         "0.4335943113621737",
         "1.7644204199522626",
         "0.7631607417008411"
        ],
        [
         "min",
         "4.3",
         "2.0",
         "1.0",
         "0.1"
        ],
        [
         "25%",
         "5.1",
         "2.8",
         "1.6",
         "0.3"
        ],
        [
         "50%",
         "5.8",
         "3.0",
         "4.35",
         "1.3"
        ],
        [
         "75%",
         "6.4",
         "3.3",
         "5.1",
         "1.8"
        ],
        [
         "max",
         "7.9",
         "4.4",
         "6.9",
         "2.5"
        ]
       ],
       "shape": {
        "columns": 4,
        "rows": 8
       }
      },
      "text/html": [
       "<div>\n",
       "<style scoped>\n",
       "    .dataframe tbody tr th:only-of-type {\n",
       "        vertical-align: middle;\n",
       "    }\n",
       "\n",
       "    .dataframe tbody tr th {\n",
       "        vertical-align: top;\n",
       "    }\n",
       "\n",
       "    .dataframe thead th {\n",
       "        text-align: right;\n",
       "    }\n",
       "</style>\n",
       "<table border=\"1\" class=\"dataframe\">\n",
       "  <thead>\n",
       "    <tr style=\"text-align: right;\">\n",
       "      <th></th>\n",
       "      <th>sepal_length</th>\n",
       "      <th>sepal_width</th>\n",
       "      <th>petal_length</th>\n",
       "      <th>petal_width</th>\n",
       "    </tr>\n",
       "  </thead>\n",
       "  <tbody>\n",
       "    <tr>\n",
       "      <th>count</th>\n",
       "      <td>150.000000</td>\n",
       "      <td>150.000000</td>\n",
       "      <td>150.000000</td>\n",
       "      <td>150.000000</td>\n",
       "    </tr>\n",
       "    <tr>\n",
       "      <th>mean</th>\n",
       "      <td>5.843333</td>\n",
       "      <td>3.054000</td>\n",
       "      <td>3.758667</td>\n",
       "      <td>1.198667</td>\n",
       "    </tr>\n",
       "    <tr>\n",
       "      <th>std</th>\n",
       "      <td>0.828066</td>\n",
       "      <td>0.433594</td>\n",
       "      <td>1.764420</td>\n",
       "      <td>0.763161</td>\n",
       "    </tr>\n",
       "    <tr>\n",
       "      <th>min</th>\n",
       "      <td>4.300000</td>\n",
       "      <td>2.000000</td>\n",
       "      <td>1.000000</td>\n",
       "      <td>0.100000</td>\n",
       "    </tr>\n",
       "    <tr>\n",
       "      <th>25%</th>\n",
       "      <td>5.100000</td>\n",
       "      <td>2.800000</td>\n",
       "      <td>1.600000</td>\n",
       "      <td>0.300000</td>\n",
       "    </tr>\n",
       "    <tr>\n",
       "      <th>50%</th>\n",
       "      <td>5.800000</td>\n",
       "      <td>3.000000</td>\n",
       "      <td>4.350000</td>\n",
       "      <td>1.300000</td>\n",
       "    </tr>\n",
       "    <tr>\n",
       "      <th>75%</th>\n",
       "      <td>6.400000</td>\n",
       "      <td>3.300000</td>\n",
       "      <td>5.100000</td>\n",
       "      <td>1.800000</td>\n",
       "    </tr>\n",
       "    <tr>\n",
       "      <th>max</th>\n",
       "      <td>7.900000</td>\n",
       "      <td>4.400000</td>\n",
       "      <td>6.900000</td>\n",
       "      <td>2.500000</td>\n",
       "    </tr>\n",
       "  </tbody>\n",
       "</table>\n",
       "</div>"
      ],
      "text/plain": [
       "       sepal_length  sepal_width  petal_length  petal_width\n",
       "count    150.000000   150.000000    150.000000   150.000000\n",
       "mean       5.843333     3.054000      3.758667     1.198667\n",
       "std        0.828066     0.433594      1.764420     0.763161\n",
       "min        4.300000     2.000000      1.000000     0.100000\n",
       "25%        5.100000     2.800000      1.600000     0.300000\n",
       "50%        5.800000     3.000000      4.350000     1.300000\n",
       "75%        6.400000     3.300000      5.100000     1.800000\n",
       "max        7.900000     4.400000      6.900000     2.500000"
      ]
     },
     "execution_count": 35,
     "metadata": {},
     "output_type": "execute_result"
    }
   ],
   "source": [
    "df.describe()"
   ]
  },
  {
   "cell_type": "code",
   "execution_count": 36,
   "id": "865ff3c3",
   "metadata": {},
   "outputs": [
    {
     "name": "stdout",
     "output_type": "stream",
     "text": [
      "<class 'pandas.core.frame.DataFrame'>\n",
      "RangeIndex: 150 entries, 0 to 149\n",
      "Data columns (total 5 columns):\n",
      " #   Column        Non-Null Count  Dtype  \n",
      "---  ------        --------------  -----  \n",
      " 0   sepal_length  150 non-null    float64\n",
      " 1   sepal_width   150 non-null    float64\n",
      " 2   petal_length  150 non-null    float64\n",
      " 3   petal_width   150 non-null    float64\n",
      " 4   species       150 non-null    object \n",
      "dtypes: float64(4), object(1)\n",
      "memory usage: 6.0+ KB\n"
     ]
    }
   ],
   "source": [
    "df.info()"
   ]
  },
  {
   "cell_type": "code",
   "execution_count": 37,
   "id": "4efe62b8",
   "metadata": {},
   "outputs": [
    {
     "data": {
      "text/plain": [
       "sepal_length    0\n",
       "sepal_width     0\n",
       "petal_length    0\n",
       "petal_width     0\n",
       "species         0\n",
       "dtype: int64"
      ]
     },
     "execution_count": 37,
     "metadata": {},
     "output_type": "execute_result"
    }
   ],
   "source": [
    "df.isnull().sum()"
   ]
  },
  {
   "cell_type": "code",
   "execution_count": 38,
   "id": "1660faff",
   "metadata": {},
   "outputs": [],
   "source": [
    "df[\"species\"] = df[\"species\"].astype(\"category\")"
   ]
  },
  {
   "cell_type": "code",
   "execution_count": 39,
   "id": "f81a4ca6",
   "metadata": {},
   "outputs": [
    {
     "data": {
      "text/plain": [
       "sepal_length     float64\n",
       "sepal_width      float64\n",
       "petal_length     float64\n",
       "petal_width      float64\n",
       "species         category\n",
       "dtype: object"
      ]
     },
     "execution_count": 39,
     "metadata": {},
     "output_type": "execute_result"
    }
   ],
   "source": [
    "df.dtypes"
   ]
  },
  {
   "cell_type": "code",
   "execution_count": 40,
   "id": "e34d47d0",
   "metadata": {},
   "outputs": [
    {
     "data": {
      "text/plain": [
       "species\n",
       "setosa        50\n",
       "versicolor    50\n",
       "virginica     50\n",
       "Name: count, dtype: int64"
      ]
     },
     "execution_count": 40,
     "metadata": {},
     "output_type": "execute_result"
    }
   ],
   "source": [
    "df[\"species\"].value_counts()"
   ]
  },
  {
   "cell_type": "code",
   "execution_count": 41,
   "id": "9443b548",
   "metadata": {},
   "outputs": [
    {
     "data": {
      "application/vnd.microsoft.datawrangler.viewer.v0+json": {
       "columns": [
        {
         "name": "index",
         "rawType": "int64",
         "type": "integer"
        },
        {
         "name": "('species', '')",
         "rawType": "category",
         "type": "unknown"
        },
        {
         "name": "('sepal_length', 'count')",
         "rawType": "float64",
         "type": "float"
        },
        {
         "name": "('sepal_length', 'mean')",
         "rawType": "float64",
         "type": "float"
        },
        {
         "name": "('sepal_length', 'std')",
         "rawType": "float64",
         "type": "float"
        },
        {
         "name": "('sepal_length', 'min')",
         "rawType": "float64",
         "type": "float"
        },
        {
         "name": "('sepal_length', '25%')",
         "rawType": "float64",
         "type": "float"
        },
        {
         "name": "('sepal_length', '50%')",
         "rawType": "float64",
         "type": "float"
        },
        {
         "name": "('sepal_length', '75%')",
         "rawType": "float64",
         "type": "float"
        },
        {
         "name": "('sepal_length', 'max')",
         "rawType": "float64",
         "type": "float"
        },
        {
         "name": "('sepal_width', 'count')",
         "rawType": "float64",
         "type": "float"
        },
        {
         "name": "('sepal_width', 'mean')",
         "rawType": "float64",
         "type": "float"
        },
        {
         "name": "('sepal_width', 'std')",
         "rawType": "float64",
         "type": "float"
        },
        {
         "name": "('sepal_width', 'min')",
         "rawType": "float64",
         "type": "float"
        },
        {
         "name": "('sepal_width', '25%')",
         "rawType": "float64",
         "type": "float"
        },
        {
         "name": "('sepal_width', '50%')",
         "rawType": "float64",
         "type": "float"
        },
        {
         "name": "('sepal_width', '75%')",
         "rawType": "float64",
         "type": "float"
        },
        {
         "name": "('sepal_width', 'max')",
         "rawType": "float64",
         "type": "float"
        },
        {
         "name": "('petal_length', 'count')",
         "rawType": "float64",
         "type": "float"
        },
        {
         "name": "('petal_length', 'mean')",
         "rawType": "float64",
         "type": "float"
        },
        {
         "name": "('petal_length', 'std')",
         "rawType": "float64",
         "type": "float"
        },
        {
         "name": "('petal_length', 'min')",
         "rawType": "float64",
         "type": "float"
        },
        {
         "name": "('petal_length', '25%')",
         "rawType": "float64",
         "type": "float"
        },
        {
         "name": "('petal_length', '50%')",
         "rawType": "float64",
         "type": "float"
        },
        {
         "name": "('petal_length', '75%')",
         "rawType": "float64",
         "type": "float"
        },
        {
         "name": "('petal_length', 'max')",
         "rawType": "float64",
         "type": "float"
        },
        {
         "name": "('petal_width', 'count')",
         "rawType": "float64",
         "type": "float"
        },
        {
         "name": "('petal_width', 'mean')",
         "rawType": "float64",
         "type": "float"
        },
        {
         "name": "('petal_width', 'std')",
         "rawType": "float64",
         "type": "float"
        },
        {
         "name": "('petal_width', 'min')",
         "rawType": "float64",
         "type": "float"
        },
        {
         "name": "('petal_width', '25%')",
         "rawType": "float64",
         "type": "float"
        },
        {
         "name": "('petal_width', '50%')",
         "rawType": "float64",
         "type": "float"
        },
        {
         "name": "('petal_width', '75%')",
         "rawType": "float64",
         "type": "float"
        },
        {
         "name": "('petal_width', 'max')",
         "rawType": "float64",
         "type": "float"
        }
       ],
       "conversionMethod": "pd.DataFrame",
       "ref": "1838ace2-9d33-4f55-bcc3-3f616dd85db7",
       "rows": [
        [
         "0",
         "setosa",
         "50.0",
         "5.006",
         "0.35248968721345136",
         "4.3",
         "4.8",
         "5.0",
         "5.2",
         "5.8",
         "50.0",
         "3.418",
         "0.38102439795469095",
         "2.3",
         "3.125",
         "3.4",
         "3.6750000000000003",
         "4.4",
         "50.0",
         "1.464",
         "0.17351115943644546",
         "1.0",
         "1.4",
         "1.5",
         "1.5750000000000002",
         "1.9",
         "50.0",
         "0.244",
         "0.1072095030816784",
         "0.1",
         "0.2",
         "0.2",
         "0.3",
         "0.6"
        ],
        [
         "1",
         "versicolor",
         "50.0",
         "5.936",
         "0.5161711470638634",
         "4.9",
         "5.6",
         "5.9",
         "6.3",
         "7.0",
         "50.0",
         "2.7700000000000005",
         "0.3137983233784114",
         "2.0",
         "2.525",
         "2.8",
         "3.0",
         "3.4",
         "50.0",
         "4.26",
         "0.46991097723995795",
         "3.0",
         "4.0",
         "4.35",
         "4.6",
         "5.1",
         "50.0",
         "1.3259999999999998",
         "0.19775268000454405",
         "1.0",
         "1.2",
         "1.3",
         "1.5",
         "1.8"
        ],
        [
         "2",
         "virginica",
         "50.0",
         "6.587999999999998",
         "0.6358795932744322",
         "4.9",
         "6.225",
         "6.5",
         "6.9",
         "7.9",
         "50.0",
         "2.974",
         "0.32249663817263746",
         "2.2",
         "2.8",
         "3.0",
         "3.1750000000000003",
         "3.8",
         "50.0",
         "5.5520000000000005",
         "0.5518946956639834",
         "4.5",
         "5.1",
         "5.55",
         "5.875",
         "6.9",
         "50.0",
         "2.0260000000000002",
         "0.2746500556366674",
         "1.4",
         "1.8",
         "2.0",
         "2.3",
         "2.5"
        ]
       ],
       "shape": {
        "columns": 33,
        "rows": 3
       }
      },
      "text/html": [
       "<div>\n",
       "<style scoped>\n",
       "    .dataframe tbody tr th:only-of-type {\n",
       "        vertical-align: middle;\n",
       "    }\n",
       "\n",
       "    .dataframe tbody tr th {\n",
       "        vertical-align: top;\n",
       "    }\n",
       "\n",
       "    .dataframe thead tr th {\n",
       "        text-align: left;\n",
       "    }\n",
       "</style>\n",
       "<table border=\"1\" class=\"dataframe\">\n",
       "  <thead>\n",
       "    <tr>\n",
       "      <th></th>\n",
       "      <th>species</th>\n",
       "      <th colspan=\"8\" halign=\"left\">sepal_length</th>\n",
       "      <th>sepal_width</th>\n",
       "      <th>...</th>\n",
       "      <th colspan=\"2\" halign=\"left\">petal_length</th>\n",
       "      <th colspan=\"8\" halign=\"left\">petal_width</th>\n",
       "    </tr>\n",
       "    <tr>\n",
       "      <th></th>\n",
       "      <th></th>\n",
       "      <th>count</th>\n",
       "      <th>mean</th>\n",
       "      <th>std</th>\n",
       "      <th>min</th>\n",
       "      <th>25%</th>\n",
       "      <th>50%</th>\n",
       "      <th>75%</th>\n",
       "      <th>max</th>\n",
       "      <th>count</th>\n",
       "      <th>...</th>\n",
       "      <th>75%</th>\n",
       "      <th>max</th>\n",
       "      <th>count</th>\n",
       "      <th>mean</th>\n",
       "      <th>std</th>\n",
       "      <th>min</th>\n",
       "      <th>25%</th>\n",
       "      <th>50%</th>\n",
       "      <th>75%</th>\n",
       "      <th>max</th>\n",
       "    </tr>\n",
       "  </thead>\n",
       "  <tbody>\n",
       "    <tr>\n",
       "      <th>0</th>\n",
       "      <td>setosa</td>\n",
       "      <td>50.0</td>\n",
       "      <td>5.006</td>\n",
       "      <td>0.352490</td>\n",
       "      <td>4.3</td>\n",
       "      <td>4.800</td>\n",
       "      <td>5.0</td>\n",
       "      <td>5.2</td>\n",
       "      <td>5.8</td>\n",
       "      <td>50.0</td>\n",
       "      <td>...</td>\n",
       "      <td>1.575</td>\n",
       "      <td>1.9</td>\n",
       "      <td>50.0</td>\n",
       "      <td>0.244</td>\n",
       "      <td>0.107210</td>\n",
       "      <td>0.1</td>\n",
       "      <td>0.2</td>\n",
       "      <td>0.2</td>\n",
       "      <td>0.3</td>\n",
       "      <td>0.6</td>\n",
       "    </tr>\n",
       "    <tr>\n",
       "      <th>1</th>\n",
       "      <td>versicolor</td>\n",
       "      <td>50.0</td>\n",
       "      <td>5.936</td>\n",
       "      <td>0.516171</td>\n",
       "      <td>4.9</td>\n",
       "      <td>5.600</td>\n",
       "      <td>5.9</td>\n",
       "      <td>6.3</td>\n",
       "      <td>7.0</td>\n",
       "      <td>50.0</td>\n",
       "      <td>...</td>\n",
       "      <td>4.600</td>\n",
       "      <td>5.1</td>\n",
       "      <td>50.0</td>\n",
       "      <td>1.326</td>\n",
       "      <td>0.197753</td>\n",
       "      <td>1.0</td>\n",
       "      <td>1.2</td>\n",
       "      <td>1.3</td>\n",
       "      <td>1.5</td>\n",
       "      <td>1.8</td>\n",
       "    </tr>\n",
       "    <tr>\n",
       "      <th>2</th>\n",
       "      <td>virginica</td>\n",
       "      <td>50.0</td>\n",
       "      <td>6.588</td>\n",
       "      <td>0.635880</td>\n",
       "      <td>4.9</td>\n",
       "      <td>6.225</td>\n",
       "      <td>6.5</td>\n",
       "      <td>6.9</td>\n",
       "      <td>7.9</td>\n",
       "      <td>50.0</td>\n",
       "      <td>...</td>\n",
       "      <td>5.875</td>\n",
       "      <td>6.9</td>\n",
       "      <td>50.0</td>\n",
       "      <td>2.026</td>\n",
       "      <td>0.274650</td>\n",
       "      <td>1.4</td>\n",
       "      <td>1.8</td>\n",
       "      <td>2.0</td>\n",
       "      <td>2.3</td>\n",
       "      <td>2.5</td>\n",
       "    </tr>\n",
       "  </tbody>\n",
       "</table>\n",
       "<p>3 rows × 33 columns</p>\n",
       "</div>"
      ],
      "text/plain": [
       "      species sepal_length                                              \\\n",
       "                     count   mean       std  min    25%  50%  75%  max   \n",
       "0      setosa         50.0  5.006  0.352490  4.3  4.800  5.0  5.2  5.8   \n",
       "1  versicolor         50.0  5.936  0.516171  4.9  5.600  5.9  6.3  7.0   \n",
       "2   virginica         50.0  6.588  0.635880  4.9  6.225  6.5  6.9  7.9   \n",
       "\n",
       "  sepal_width  ... petal_length      petal_width                             \\\n",
       "        count  ...          75%  max       count   mean       std  min  25%   \n",
       "0        50.0  ...        1.575  1.9        50.0  0.244  0.107210  0.1  0.2   \n",
       "1        50.0  ...        4.600  5.1        50.0  1.326  0.197753  1.0  1.2   \n",
       "2        50.0  ...        5.875  6.9        50.0  2.026  0.274650  1.4  1.8   \n",
       "\n",
       "                  \n",
       "   50%  75%  max  \n",
       "0  0.2  0.3  0.6  \n",
       "1  1.3  1.5  1.8  \n",
       "2  2.0  2.3  2.5  \n",
       "\n",
       "[3 rows x 33 columns]"
      ]
     },
     "execution_count": 41,
     "metadata": {},
     "output_type": "execute_result"
    }
   ],
   "source": [
    "pd.DataFrame(df.groupby(\"species\", observed=False).describe()).reset_index()"
   ]
  },
  {
   "cell_type": "code",
   "execution_count": 42,
   "id": "7f392a38",
   "metadata": {},
   "outputs": [],
   "source": [
    "species_list = df[\"species\"].unique()\n",
    "features = list(df.select_dtypes(include=[\"float64\"]).columns)"
   ]
  },
  {
   "cell_type": "code",
   "execution_count": 43,
   "id": "cf2eb745",
   "metadata": {},
   "outputs": [
    {
     "data": {
      "application/vnd.microsoft.datawrangler.viewer.v0+json": {
       "columns": [
        {
         "name": "index",
         "rawType": "int64",
         "type": "integer"
        },
        {
         "name": "Species",
         "rawType": "category",
         "type": "unknown"
        }
       ],
       "conversionMethod": "pd.DataFrame",
       "ref": "32d68955-67cf-4dcb-b8d8-58dbe70ffed4",
       "rows": [
        [
         "0",
         "setosa"
        ],
        [
         "1",
         "versicolor"
        ],
        [
         "2",
         "virginica"
        ]
       ],
       "shape": {
        "columns": 1,
        "rows": 3
       }
      },
      "text/html": [
       "<div>\n",
       "<style scoped>\n",
       "    .dataframe tbody tr th:only-of-type {\n",
       "        vertical-align: middle;\n",
       "    }\n",
       "\n",
       "    .dataframe tbody tr th {\n",
       "        vertical-align: top;\n",
       "    }\n",
       "\n",
       "    .dataframe thead th {\n",
       "        text-align: right;\n",
       "    }\n",
       "</style>\n",
       "<table border=\"1\" class=\"dataframe\">\n",
       "  <thead>\n",
       "    <tr style=\"text-align: right;\">\n",
       "      <th></th>\n",
       "      <th>Species</th>\n",
       "    </tr>\n",
       "  </thead>\n",
       "  <tbody>\n",
       "    <tr>\n",
       "      <th>0</th>\n",
       "      <td>setosa</td>\n",
       "    </tr>\n",
       "    <tr>\n",
       "      <th>1</th>\n",
       "      <td>versicolor</td>\n",
       "    </tr>\n",
       "    <tr>\n",
       "      <th>2</th>\n",
       "      <td>virginica</td>\n",
       "    </tr>\n",
       "  </tbody>\n",
       "</table>\n",
       "</div>"
      ],
      "text/plain": [
       "      Species\n",
       "0      setosa\n",
       "1  versicolor\n",
       "2   virginica"
      ]
     },
     "execution_count": 43,
     "metadata": {},
     "output_type": "execute_result"
    }
   ],
   "source": [
    "pd.DataFrame(species_list, columns=[\"Species\"])"
   ]
  },
  {
   "cell_type": "code",
   "execution_count": 44,
   "id": "9e9ec121",
   "metadata": {},
   "outputs": [],
   "source": [
    "stats_df = pd.DataFrame()\n",
    "\n",
    "for species in species_list:\n",
    "    species_df = df[df[\"species\"] == species]\n",
    "\n",
    "    for feature in features:\n",
    "        data = species_df[feature]\n",
    "\n",
    "        mean = np.mean(data)\n",
    "        median = np.median(data)\n",
    "        mode = data.mode().mean()\n",
    "        std = np.std(data)\n",
    "\n",
    "        min_val = np.min(data)\n",
    "        max_val = np.max(data)\n",
    "\n",
    "        p10 = np.percentile(data, 10)\n",
    "        q1 = np.quantile(data, 0.25)\n",
    "        p50 = np.percentile(data, 50)\n",
    "        q3 = np.quantile(data, 0.75)\n",
    "        p90 = np.percentile(data, 90)\n",
    "\n",
    "        new_row = pd.DataFrame(\n",
    "            {\n",
    "                \"species\": [species],\n",
    "                \"feature\": [feature],\n",
    "                \"min\": [min_val],\n",
    "                \"max\": [max_val],\n",
    "                \"range\": [max_val - min_val],\n",
    "                \"mean\": [mean],\n",
    "                \"median\": [median],\n",
    "                \"mode\": [mode],\n",
    "                \"std\": [std],\n",
    "                \"10%\": [p10],\n",
    "                \"25%\": [q1],\n",
    "                \"50%\": [p50],\n",
    "                \"75%\": [q3],\n",
    "                \"90%\": [p90],\n",
    "                \"iqr\": [q3 - q1],\n",
    "            }\n",
    "        )\n",
    "\n",
    "        stats_df = pd.concat([stats_df, new_row], axis=0, ignore_index=True)"
   ]
  },
  {
   "cell_type": "code",
   "execution_count": 45,
   "id": "a3e13967",
   "metadata": {},
   "outputs": [
    {
     "data": {
      "application/vnd.microsoft.datawrangler.viewer.v0+json": {
       "columns": [
        {
         "name": "index",
         "rawType": "int64",
         "type": "integer"
        },
        {
         "name": "species",
         "rawType": "object",
         "type": "string"
        },
        {
         "name": "feature",
         "rawType": "object",
         "type": "string"
        },
        {
         "name": "min",
         "rawType": "float64",
         "type": "float"
        },
        {
         "name": "max",
         "rawType": "float64",
         "type": "float"
        },
        {
         "name": "range",
         "rawType": "float64",
         "type": "float"
        },
        {
         "name": "mean",
         "rawType": "float64",
         "type": "float"
        },
        {
         "name": "median",
         "rawType": "float64",
         "type": "float"
        },
        {
         "name": "mode",
         "rawType": "float64",
         "type": "float"
        },
        {
         "name": "std",
         "rawType": "float64",
         "type": "float"
        },
        {
         "name": "10%",
         "rawType": "float64",
         "type": "float"
        },
        {
         "name": "25%",
         "rawType": "float64",
         "type": "float"
        },
        {
         "name": "50%",
         "rawType": "float64",
         "type": "float"
        },
        {
         "name": "75%",
         "rawType": "float64",
         "type": "float"
        },
        {
         "name": "90%",
         "rawType": "float64",
         "type": "float"
        },
        {
         "name": "iqr",
         "rawType": "float64",
         "type": "float"
        }
       ],
       "conversionMethod": "pd.DataFrame",
       "ref": "dfb74815-dc0b-446c-91f6-c965e3edb02b",
       "rows": [
        [
         "0",
         "setosa",
         "sepal_length",
         "4.3",
         "5.8",
         "1.5",
         "5.01",
         "5.0",
         "5.05",
         "0.35",
         "4.59",
         "4.8",
         "5.0",
         "5.2",
         "5.41",
         "0.4"
        ],
        [
         "1",
         "setosa",
         "sepal_width",
         "2.3",
         "4.4",
         "2.1",
         "3.42",
         "3.4",
         "3.4",
         "0.38",
         "3.0",
         "3.12",
         "3.4",
         "3.68",
         "3.9",
         "0.55"
        ],
        [
         "2",
         "setosa",
         "petal_length",
         "1.0",
         "1.9",
         "0.9",
         "1.46",
         "1.5",
         "1.5",
         "0.17",
         "1.3",
         "1.4",
         "1.5",
         "1.58",
         "1.7",
         "0.18"
        ],
        [
         "3",
         "setosa",
         "petal_width",
         "0.1",
         "0.6",
         "0.5",
         "0.24",
         "0.2",
         "0.2",
         "0.11",
         "0.1",
         "0.2",
         "0.2",
         "0.3",
         "0.4",
         "0.1"
        ],
        [
         "4",
         "versicolor",
         "sepal_length",
         "4.9",
         "7.0",
         "2.1",
         "5.94",
         "5.9",
         "5.6",
         "0.51",
         "5.38",
         "5.6",
         "5.9",
         "6.3",
         "6.7",
         "0.7"
        ],
        [
         "5",
         "versicolor",
         "sepal_width",
         "2.0",
         "3.4",
         "1.4",
         "2.77",
         "2.8",
         "3.0",
         "0.31",
         "2.3",
         "2.52",
         "2.8",
         "3.0",
         "3.11",
         "0.48"
        ],
        [
         "6",
         "versicolor",
         "petal_length",
         "3.0",
         "5.1",
         "2.1",
         "4.26",
         "4.35",
         "4.5",
         "0.47",
         "3.59",
         "4.0",
         "4.35",
         "4.6",
         "4.8",
         "0.6"
        ],
        [
         "7",
         "versicolor",
         "petal_width",
         "1.0",
         "1.8",
         "0.8",
         "1.33",
         "1.3",
         "1.3",
         "0.2",
         "1.0",
         "1.2",
         "1.3",
         "1.5",
         "1.51",
         "0.3"
        ],
        [
         "8",
         "virginica",
         "sepal_length",
         "4.9",
         "7.9",
         "3.0",
         "6.59",
         "6.5",
         "6.3",
         "0.63",
         "5.8",
         "6.22",
         "6.5",
         "6.9",
         "7.61",
         "0.68"
        ],
        [
         "9",
         "virginica",
         "sepal_width",
         "2.2",
         "3.8",
         "1.6",
         "2.97",
         "3.0",
         "3.0",
         "0.32",
         "2.59",
         "2.8",
         "3.0",
         "3.18",
         "3.31",
         "0.38"
        ],
        [
         "10",
         "virginica",
         "petal_length",
         "4.5",
         "6.9",
         "2.4",
         "5.55",
         "5.55",
         "5.1",
         "0.55",
         "4.9",
         "5.1",
         "5.55",
         "5.88",
         "6.31",
         "0.78"
        ],
        [
         "11",
         "virginica",
         "petal_width",
         "1.4",
         "2.5",
         "1.1",
         "2.03",
         "2.0",
         "1.8",
         "0.27",
         "1.79",
         "1.8",
         "2.0",
         "2.3",
         "2.4",
         "0.5"
        ]
       ],
       "shape": {
        "columns": 15,
        "rows": 12
       }
      },
      "text/html": [
       "<div>\n",
       "<style scoped>\n",
       "    .dataframe tbody tr th:only-of-type {\n",
       "        vertical-align: middle;\n",
       "    }\n",
       "\n",
       "    .dataframe tbody tr th {\n",
       "        vertical-align: top;\n",
       "    }\n",
       "\n",
       "    .dataframe thead th {\n",
       "        text-align: right;\n",
       "    }\n",
       "</style>\n",
       "<table border=\"1\" class=\"dataframe\">\n",
       "  <thead>\n",
       "    <tr style=\"text-align: right;\">\n",
       "      <th></th>\n",
       "      <th>species</th>\n",
       "      <th>feature</th>\n",
       "      <th>min</th>\n",
       "      <th>max</th>\n",
       "      <th>range</th>\n",
       "      <th>mean</th>\n",
       "      <th>median</th>\n",
       "      <th>mode</th>\n",
       "      <th>std</th>\n",
       "      <th>10%</th>\n",
       "      <th>25%</th>\n",
       "      <th>50%</th>\n",
       "      <th>75%</th>\n",
       "      <th>90%</th>\n",
       "      <th>iqr</th>\n",
       "    </tr>\n",
       "  </thead>\n",
       "  <tbody>\n",
       "    <tr>\n",
       "      <th>0</th>\n",
       "      <td>setosa</td>\n",
       "      <td>sepal_length</td>\n",
       "      <td>4.3</td>\n",
       "      <td>5.8</td>\n",
       "      <td>1.5</td>\n",
       "      <td>5.01</td>\n",
       "      <td>5.00</td>\n",
       "      <td>5.05</td>\n",
       "      <td>0.35</td>\n",
       "      <td>4.59</td>\n",
       "      <td>4.80</td>\n",
       "      <td>5.00</td>\n",
       "      <td>5.20</td>\n",
       "      <td>5.41</td>\n",
       "      <td>0.40</td>\n",
       "    </tr>\n",
       "    <tr>\n",
       "      <th>1</th>\n",
       "      <td>setosa</td>\n",
       "      <td>sepal_width</td>\n",
       "      <td>2.3</td>\n",
       "      <td>4.4</td>\n",
       "      <td>2.1</td>\n",
       "      <td>3.42</td>\n",
       "      <td>3.40</td>\n",
       "      <td>3.40</td>\n",
       "      <td>0.38</td>\n",
       "      <td>3.00</td>\n",
       "      <td>3.12</td>\n",
       "      <td>3.40</td>\n",
       "      <td>3.68</td>\n",
       "      <td>3.90</td>\n",
       "      <td>0.55</td>\n",
       "    </tr>\n",
       "    <tr>\n",
       "      <th>2</th>\n",
       "      <td>setosa</td>\n",
       "      <td>petal_length</td>\n",
       "      <td>1.0</td>\n",
       "      <td>1.9</td>\n",
       "      <td>0.9</td>\n",
       "      <td>1.46</td>\n",
       "      <td>1.50</td>\n",
       "      <td>1.50</td>\n",
       "      <td>0.17</td>\n",
       "      <td>1.30</td>\n",
       "      <td>1.40</td>\n",
       "      <td>1.50</td>\n",
       "      <td>1.58</td>\n",
       "      <td>1.70</td>\n",
       "      <td>0.18</td>\n",
       "    </tr>\n",
       "    <tr>\n",
       "      <th>3</th>\n",
       "      <td>setosa</td>\n",
       "      <td>petal_width</td>\n",
       "      <td>0.1</td>\n",
       "      <td>0.6</td>\n",
       "      <td>0.5</td>\n",
       "      <td>0.24</td>\n",
       "      <td>0.20</td>\n",
       "      <td>0.20</td>\n",
       "      <td>0.11</td>\n",
       "      <td>0.10</td>\n",
       "      <td>0.20</td>\n",
       "      <td>0.20</td>\n",
       "      <td>0.30</td>\n",
       "      <td>0.40</td>\n",
       "      <td>0.10</td>\n",
       "    </tr>\n",
       "    <tr>\n",
       "      <th>4</th>\n",
       "      <td>versicolor</td>\n",
       "      <td>sepal_length</td>\n",
       "      <td>4.9</td>\n",
       "      <td>7.0</td>\n",
       "      <td>2.1</td>\n",
       "      <td>5.94</td>\n",
       "      <td>5.90</td>\n",
       "      <td>5.60</td>\n",
       "      <td>0.51</td>\n",
       "      <td>5.38</td>\n",
       "      <td>5.60</td>\n",
       "      <td>5.90</td>\n",
       "      <td>6.30</td>\n",
       "      <td>6.70</td>\n",
       "      <td>0.70</td>\n",
       "    </tr>\n",
       "    <tr>\n",
       "      <th>5</th>\n",
       "      <td>versicolor</td>\n",
       "      <td>sepal_width</td>\n",
       "      <td>2.0</td>\n",
       "      <td>3.4</td>\n",
       "      <td>1.4</td>\n",
       "      <td>2.77</td>\n",
       "      <td>2.80</td>\n",
       "      <td>3.00</td>\n",
       "      <td>0.31</td>\n",
       "      <td>2.30</td>\n",
       "      <td>2.52</td>\n",
       "      <td>2.80</td>\n",
       "      <td>3.00</td>\n",
       "      <td>3.11</td>\n",
       "      <td>0.48</td>\n",
       "    </tr>\n",
       "    <tr>\n",
       "      <th>6</th>\n",
       "      <td>versicolor</td>\n",
       "      <td>petal_length</td>\n",
       "      <td>3.0</td>\n",
       "      <td>5.1</td>\n",
       "      <td>2.1</td>\n",
       "      <td>4.26</td>\n",
       "      <td>4.35</td>\n",
       "      <td>4.50</td>\n",
       "      <td>0.47</td>\n",
       "      <td>3.59</td>\n",
       "      <td>4.00</td>\n",
       "      <td>4.35</td>\n",
       "      <td>4.60</td>\n",
       "      <td>4.80</td>\n",
       "      <td>0.60</td>\n",
       "    </tr>\n",
       "    <tr>\n",
       "      <th>7</th>\n",
       "      <td>versicolor</td>\n",
       "      <td>petal_width</td>\n",
       "      <td>1.0</td>\n",
       "      <td>1.8</td>\n",
       "      <td>0.8</td>\n",
       "      <td>1.33</td>\n",
       "      <td>1.30</td>\n",
       "      <td>1.30</td>\n",
       "      <td>0.20</td>\n",
       "      <td>1.00</td>\n",
       "      <td>1.20</td>\n",
       "      <td>1.30</td>\n",
       "      <td>1.50</td>\n",
       "      <td>1.51</td>\n",
       "      <td>0.30</td>\n",
       "    </tr>\n",
       "    <tr>\n",
       "      <th>8</th>\n",
       "      <td>virginica</td>\n",
       "      <td>sepal_length</td>\n",
       "      <td>4.9</td>\n",
       "      <td>7.9</td>\n",
       "      <td>3.0</td>\n",
       "      <td>6.59</td>\n",
       "      <td>6.50</td>\n",
       "      <td>6.30</td>\n",
       "      <td>0.63</td>\n",
       "      <td>5.80</td>\n",
       "      <td>6.22</td>\n",
       "      <td>6.50</td>\n",
       "      <td>6.90</td>\n",
       "      <td>7.61</td>\n",
       "      <td>0.68</td>\n",
       "    </tr>\n",
       "    <tr>\n",
       "      <th>9</th>\n",
       "      <td>virginica</td>\n",
       "      <td>sepal_width</td>\n",
       "      <td>2.2</td>\n",
       "      <td>3.8</td>\n",
       "      <td>1.6</td>\n",
       "      <td>2.97</td>\n",
       "      <td>3.00</td>\n",
       "      <td>3.00</td>\n",
       "      <td>0.32</td>\n",
       "      <td>2.59</td>\n",
       "      <td>2.80</td>\n",
       "      <td>3.00</td>\n",
       "      <td>3.18</td>\n",
       "      <td>3.31</td>\n",
       "      <td>0.38</td>\n",
       "    </tr>\n",
       "    <tr>\n",
       "      <th>10</th>\n",
       "      <td>virginica</td>\n",
       "      <td>petal_length</td>\n",
       "      <td>4.5</td>\n",
       "      <td>6.9</td>\n",
       "      <td>2.4</td>\n",
       "      <td>5.55</td>\n",
       "      <td>5.55</td>\n",
       "      <td>5.10</td>\n",
       "      <td>0.55</td>\n",
       "      <td>4.90</td>\n",
       "      <td>5.10</td>\n",
       "      <td>5.55</td>\n",
       "      <td>5.88</td>\n",
       "      <td>6.31</td>\n",
       "      <td>0.78</td>\n",
       "    </tr>\n",
       "    <tr>\n",
       "      <th>11</th>\n",
       "      <td>virginica</td>\n",
       "      <td>petal_width</td>\n",
       "      <td>1.4</td>\n",
       "      <td>2.5</td>\n",
       "      <td>1.1</td>\n",
       "      <td>2.03</td>\n",
       "      <td>2.00</td>\n",
       "      <td>1.80</td>\n",
       "      <td>0.27</td>\n",
       "      <td>1.79</td>\n",
       "      <td>1.80</td>\n",
       "      <td>2.00</td>\n",
       "      <td>2.30</td>\n",
       "      <td>2.40</td>\n",
       "      <td>0.50</td>\n",
       "    </tr>\n",
       "  </tbody>\n",
       "</table>\n",
       "</div>"
      ],
      "text/plain": [
       "       species       feature  min  max  range  mean  median  mode   std   10%  \\\n",
       "0       setosa  sepal_length  4.3  5.8    1.5  5.01    5.00  5.05  0.35  4.59   \n",
       "1       setosa   sepal_width  2.3  4.4    2.1  3.42    3.40  3.40  0.38  3.00   \n",
       "2       setosa  petal_length  1.0  1.9    0.9  1.46    1.50  1.50  0.17  1.30   \n",
       "3       setosa   petal_width  0.1  0.6    0.5  0.24    0.20  0.20  0.11  0.10   \n",
       "4   versicolor  sepal_length  4.9  7.0    2.1  5.94    5.90  5.60  0.51  5.38   \n",
       "5   versicolor   sepal_width  2.0  3.4    1.4  2.77    2.80  3.00  0.31  2.30   \n",
       "6   versicolor  petal_length  3.0  5.1    2.1  4.26    4.35  4.50  0.47  3.59   \n",
       "7   versicolor   petal_width  1.0  1.8    0.8  1.33    1.30  1.30  0.20  1.00   \n",
       "8    virginica  sepal_length  4.9  7.9    3.0  6.59    6.50  6.30  0.63  5.80   \n",
       "9    virginica   sepal_width  2.2  3.8    1.6  2.97    3.00  3.00  0.32  2.59   \n",
       "10   virginica  petal_length  4.5  6.9    2.4  5.55    5.55  5.10  0.55  4.90   \n",
       "11   virginica   petal_width  1.4  2.5    1.1  2.03    2.00  1.80  0.27  1.79   \n",
       "\n",
       "     25%   50%   75%   90%   iqr  \n",
       "0   4.80  5.00  5.20  5.41  0.40  \n",
       "1   3.12  3.40  3.68  3.90  0.55  \n",
       "2   1.40  1.50  1.58  1.70  0.18  \n",
       "3   0.20  0.20  0.30  0.40  0.10  \n",
       "4   5.60  5.90  6.30  6.70  0.70  \n",
       "5   2.52  2.80  3.00  3.11  0.48  \n",
       "6   4.00  4.35  4.60  4.80  0.60  \n",
       "7   1.20  1.30  1.50  1.51  0.30  \n",
       "8   6.22  6.50  6.90  7.61  0.68  \n",
       "9   2.80  3.00  3.18  3.31  0.38  \n",
       "10  5.10  5.55  5.88  6.31  0.78  \n",
       "11  1.80  2.00  2.30  2.40  0.50  "
      ]
     },
     "execution_count": 45,
     "metadata": {},
     "output_type": "execute_result"
    }
   ],
   "source": [
    "np.round(stats_df, 2)"
   ]
  }
 ],
 "metadata": {
  "kernelspec": {
   "display_name": ".venv",
   "language": "python",
   "name": "python3"
  },
  "language_info": {
   "codemirror_mode": {
    "name": "ipython",
    "version": 3
   },
   "file_extension": ".py",
   "mimetype": "text/x-python",
   "name": "python",
   "nbconvert_exporter": "python",
   "pygments_lexer": "ipython3",
   "version": "3.13.3"
  }
 },
 "nbformat": 4,
 "nbformat_minor": 5
}
